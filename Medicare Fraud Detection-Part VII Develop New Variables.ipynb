{
 "cells": [
  {
   "cell_type": "markdown",
   "metadata": {},
   "source": [
    "# Medicare Fraud Detection"
   ]
  },
  {
   "cell_type": "markdown",
   "metadata": {},
   "source": [
    "### Data 698: Data Science Research Project - Spring 2019"
   ]
  },
  {
   "cell_type": "markdown",
   "metadata": {},
   "source": [
    "### Student: Chunhui Zhu"
   ]
  },
  {
   "cell_type": "markdown",
   "metadata": {},
   "source": [
    "Medicare_Provider_Utilization_and_Payment_Data__Physician_and_Other_Supplier_PUF_CY2016.csv: https://data.cms.gov/Medicare-Physician-Supplier/Medicare-Provider-Utilization-and-Payment-Data-Phy/utc4-f9xp"
   ]
  },
  {
   "cell_type": "markdown",
   "metadata": {},
   "source": [
    "LEIE2019.csv: https://oig.hhs.gov/exclusions/exclusions_list.asp"
   ]
  },
  {
   "cell_type": "code",
   "execution_count": 1,
   "metadata": {},
   "outputs": [],
   "source": [
    "import pandas as pd\n",
    "import numpy as np\n",
    "import networkx as nx\n",
    "import matplotlib as plt\n",
    "import pickle\n",
    "\n",
    "import matplotlib.pyplot as plt\n",
    "from pandas import Series, DataFrame"
   ]
  },
  {
   "cell_type": "code",
   "execution_count": 2,
   "metadata": {},
   "outputs": [],
   "source": [
    "def loaddata (year):\n",
    "    y=str(year)\n",
    "    fraud_pkl=open(\"fraud_\"+str(year)+\"_pickle\",\"rb\")\n",
    "    fraud_df=pickle.load(fraud_pkl)\n",
    "    print(\"The number of fraud_df found in \" + y +\" is \" + str(len(fraud_df)) + \".\")\n",
    "    fraud_pkl.close()\n",
    "    \n",
    "    \n",
    "    clean_pkl=open(\"clean_\"+str(year)+\"_pickle\",\"rb\")\n",
    "    clean_df=pickle.load(clean_pkl)\n",
    "    print(\"The number of clean_df found in \" + y +\" is \" + str(len(clean_df)) + \".\")\n",
    "    clean_pkl.close()\n",
    "    \n",
    "    return (fraud_df, clean_df)"
   ]
  },
  {
   "cell_type": "code",
   "execution_count": 3,
   "metadata": {},
   "outputs": [
    {
     "name": "stdout",
     "output_type": "stream",
     "text": [
      "The number of fraud_df found in 2015 is 5110.\n",
      "The number of clean_df found in 2015 is 9492782.\n",
      "The number of fraud_df found in 2015 is 5110.\n",
      "The number of clean_df found in 2015 is 9492782.\n",
      "The number of fraud_df found in 2014 is 7993.\n",
      "The number of clean_df found in 2014 is 9308315.\n",
      "The number of fraud_df found in 2013 is 10817.\n",
      "The number of clean_df found in 2013 is 9277060.\n",
      "The number of fraud_df found in 2012 is 13723.\n",
      "The number of clean_df found in 2012 is 9139550.\n"
     ]
    }
   ],
   "source": [
    "df_fraud2016, df_clean2016 = loaddata(2015)\n",
    "df_fraud2015, df_clean2015 = loaddata(2015)\n",
    "df_fraud2014, df_clean2014 = loaddata(2014)\n",
    "df_fraud2013, df_clean2013 = loaddata(2013)\n",
    "df_fraud2012, df_clean2012 = loaddata(2012)"
   ]
  },
  {
   "cell_type": "code",
   "execution_count": null,
   "metadata": {},
   "outputs": [],
   "source": []
  },
  {
   "cell_type": "markdown",
   "metadata": {},
   "source": [
    "## Develope Std Based on Meidan of \"Type\" and \"State\" by Year"
   ]
  },
  {
   "cell_type": "markdown",
   "metadata": {},
   "source": [
    "## \"std_line_srvc_cnt\",\t\"std_bene_day_srvc_cnt\",\t\"std_avg_submitted_chrg_amt\""
   ]
  },
  {
   "cell_type": "markdown",
   "metadata": {},
   "source": [
    "## Develop Clean Data Sets 2012-2015"
   ]
  },
  {
   "cell_type": "markdown",
   "metadata": {},
   "source": [
    "#### Calculate the diff from mean in df, and transform Series to df"
   ]
  },
  {
   "cell_type": "code",
   "execution_count": 13,
   "metadata": {},
   "outputs": [],
   "source": [
    "def add_diff_from_mean(df,year):\n",
    "    df_dropna=df.dropna()\n",
    "    df_dropna['diff_line_srvc_cnt']= df_dropna.groupby(['type','state'])['line_srvc_cnt'].transform(Series.diff)\n",
    "    df_dropna['diff_bene_day_srvc_cnt']= df_dropna.groupby(['type','state'])['bene_day_srvc_cnt'].transform(Series.diff)\n",
    "    df_dropna['diff_avg_submitted_chrg_amt']= df_dropna.groupby(['type','state'])['avg_submitted_chrg_amt'].transform(Series.diff)\n",
    "    \n",
    "    print (\"Done.\")\n",
    "    return(df_dropna)"
   ]
  },
  {
   "cell_type": "code",
   "execution_count": 5,
   "metadata": {},
   "outputs": [
    {
     "name": "stderr",
     "output_type": "stream",
     "text": [
      "C:\\Users\\czhu5\\Anaconda3\\lib\\site-packages\\ipykernel_launcher.py:3: SettingWithCopyWarning: \n",
      "A value is trying to be set on a copy of a slice from a DataFrame.\n",
      "Try using .loc[row_indexer,col_indexer] = value instead\n",
      "\n",
      "See the caveats in the documentation: http://pandas.pydata.org/pandas-docs/stable/indexing.html#indexing-view-versus-copy\n",
      "  This is separate from the ipykernel package so we can avoid doing imports until\n",
      "C:\\Users\\czhu5\\Anaconda3\\lib\\site-packages\\ipykernel_launcher.py:4: SettingWithCopyWarning: \n",
      "A value is trying to be set on a copy of a slice from a DataFrame.\n",
      "Try using .loc[row_indexer,col_indexer] = value instead\n",
      "\n",
      "See the caveats in the documentation: http://pandas.pydata.org/pandas-docs/stable/indexing.html#indexing-view-versus-copy\n",
      "  after removing the cwd from sys.path.\n"
     ]
    },
    {
     "name": "stdout",
     "output_type": "stream",
     "text": [
      "Done.\n"
     ]
    },
    {
     "name": "stderr",
     "output_type": "stream",
     "text": [
      "C:\\Users\\czhu5\\Anaconda3\\lib\\site-packages\\ipykernel_launcher.py:5: SettingWithCopyWarning: \n",
      "A value is trying to be set on a copy of a slice from a DataFrame.\n",
      "Try using .loc[row_indexer,col_indexer] = value instead\n",
      "\n",
      "See the caveats in the documentation: http://pandas.pydata.org/pandas-docs/stable/indexing.html#indexing-view-versus-copy\n",
      "  \"\"\"\n"
     ]
    }
   ],
   "source": [
    "df_clean2015_addcolumns=add_diff_from_mean(df_clean2015, 2015)"
   ]
  },
  {
   "cell_type": "code",
   "execution_count": 6,
   "metadata": {},
   "outputs": [
    {
     "data": {
      "text/html": [
       "<div>\n",
       "<style scoped>\n",
       "    .dataframe tbody tr th:only-of-type {\n",
       "        vertical-align: middle;\n",
       "    }\n",
       "\n",
       "    .dataframe tbody tr th {\n",
       "        vertical-align: top;\n",
       "    }\n",
       "\n",
       "    .dataframe thead th {\n",
       "        text-align: right;\n",
       "    }\n",
       "</style>\n",
       "<table border=\"1\" class=\"dataframe\">\n",
       "  <thead>\n",
       "    <tr style=\"text-align: right;\">\n",
       "      <th></th>\n",
       "      <th>npi</th>\n",
       "      <th>type</th>\n",
       "      <th>gender</th>\n",
       "      <th>hcpcs_c</th>\n",
       "      <th>line_srvc_cnt</th>\n",
       "      <th>bene_unique_cnt</th>\n",
       "      <th>bene_day_srvc_cnt</th>\n",
       "      <th>avg_allowed_amt</th>\n",
       "      <th>avg_payment_amt</th>\n",
       "      <th>avg_submitted_chrg_amt</th>\n",
       "      <th>city</th>\n",
       "      <th>state</th>\n",
       "      <th>Fraud</th>\n",
       "      <th>diff_line_srvc_cnt</th>\n",
       "      <th>diff_bene_day_srvc_cnt</th>\n",
       "      <th>diff_avg_submitted_chrg_amt</th>\n",
       "    </tr>\n",
       "  </thead>\n",
       "  <tbody>\n",
       "    <tr>\n",
       "      <th>1</th>\n",
       "      <td>1003000126</td>\n",
       "      <td>Internal Medicine</td>\n",
       "      <td>M</td>\n",
       "      <td>99217</td>\n",
       "      <td>23.0</td>\n",
       "      <td>23.0</td>\n",
       "      <td>23.0</td>\n",
       "      <td>72.680000</td>\n",
       "      <td>54.502609</td>\n",
       "      <td>328.000000</td>\n",
       "      <td>CUMBERLAND</td>\n",
       "      <td>MD</td>\n",
       "      <td>0</td>\n",
       "      <td>NaN</td>\n",
       "      <td>NaN</td>\n",
       "      <td>NaN</td>\n",
       "    </tr>\n",
       "    <tr>\n",
       "      <th>2</th>\n",
       "      <td>1003000126</td>\n",
       "      <td>Internal Medicine</td>\n",
       "      <td>M</td>\n",
       "      <td>99219</td>\n",
       "      <td>18.0</td>\n",
       "      <td>18.0</td>\n",
       "      <td>18.0</td>\n",
       "      <td>135.850000</td>\n",
       "      <td>100.958889</td>\n",
       "      <td>614.000000</td>\n",
       "      <td>CUMBERLAND</td>\n",
       "      <td>MD</td>\n",
       "      <td>0</td>\n",
       "      <td>-5.0</td>\n",
       "      <td>-5.0</td>\n",
       "      <td>286.000000</td>\n",
       "    </tr>\n",
       "    <tr>\n",
       "      <th>3</th>\n",
       "      <td>1003000126</td>\n",
       "      <td>Internal Medicine</td>\n",
       "      <td>M</td>\n",
       "      <td>99221</td>\n",
       "      <td>59.0</td>\n",
       "      <td>58.0</td>\n",
       "      <td>59.0</td>\n",
       "      <td>101.365085</td>\n",
       "      <td>79.469661</td>\n",
       "      <td>333.288136</td>\n",
       "      <td>CUMBERLAND</td>\n",
       "      <td>MD</td>\n",
       "      <td>0</td>\n",
       "      <td>41.0</td>\n",
       "      <td>41.0</td>\n",
       "      <td>-280.711864</td>\n",
       "    </tr>\n",
       "    <tr>\n",
       "      <th>4</th>\n",
       "      <td>1003000126</td>\n",
       "      <td>Internal Medicine</td>\n",
       "      <td>M</td>\n",
       "      <td>99222</td>\n",
       "      <td>132.0</td>\n",
       "      <td>130.0</td>\n",
       "      <td>132.0</td>\n",
       "      <td>139.010455</td>\n",
       "      <td>107.933409</td>\n",
       "      <td>356.492424</td>\n",
       "      <td>CUMBERLAND</td>\n",
       "      <td>MD</td>\n",
       "      <td>0</td>\n",
       "      <td>73.0</td>\n",
       "      <td>73.0</td>\n",
       "      <td>23.204289</td>\n",
       "    </tr>\n",
       "    <tr>\n",
       "      <th>5</th>\n",
       "      <td>1003000126</td>\n",
       "      <td>Internal Medicine</td>\n",
       "      <td>M</td>\n",
       "      <td>99223</td>\n",
       "      <td>220.0</td>\n",
       "      <td>215.0</td>\n",
       "      <td>220.0</td>\n",
       "      <td>205.185955</td>\n",
       "      <td>157.908955</td>\n",
       "      <td>631.186364</td>\n",
       "      <td>CUMBERLAND</td>\n",
       "      <td>MD</td>\n",
       "      <td>0</td>\n",
       "      <td>88.0</td>\n",
       "      <td>88.0</td>\n",
       "      <td>274.693939</td>\n",
       "    </tr>\n",
       "  </tbody>\n",
       "</table>\n",
       "</div>"
      ],
      "text/plain": [
       "          npi               type gender hcpcs_c  line_srvc_cnt  \\\n",
       "1  1003000126  Internal Medicine      M   99217           23.0   \n",
       "2  1003000126  Internal Medicine      M   99219           18.0   \n",
       "3  1003000126  Internal Medicine      M   99221           59.0   \n",
       "4  1003000126  Internal Medicine      M   99222          132.0   \n",
       "5  1003000126  Internal Medicine      M   99223          220.0   \n",
       "\n",
       "   bene_unique_cnt  bene_day_srvc_cnt  avg_allowed_amt  avg_payment_amt  \\\n",
       "1             23.0               23.0        72.680000        54.502609   \n",
       "2             18.0               18.0       135.850000       100.958889   \n",
       "3             58.0               59.0       101.365085        79.469661   \n",
       "4            130.0              132.0       139.010455       107.933409   \n",
       "5            215.0              220.0       205.185955       157.908955   \n",
       "\n",
       "   avg_submitted_chrg_amt        city state  Fraud  diff_line_srvc_cnt  \\\n",
       "1              328.000000  CUMBERLAND    MD      0                 NaN   \n",
       "2              614.000000  CUMBERLAND    MD      0                -5.0   \n",
       "3              333.288136  CUMBERLAND    MD      0                41.0   \n",
       "4              356.492424  CUMBERLAND    MD      0                73.0   \n",
       "5              631.186364  CUMBERLAND    MD      0                88.0   \n",
       "\n",
       "   diff_bene_day_srvc_cnt  diff_avg_submitted_chrg_amt  \n",
       "1                     NaN                          NaN  \n",
       "2                    -5.0                   286.000000  \n",
       "3                    41.0                  -280.711864  \n",
       "4                    73.0                    23.204289  \n",
       "5                    88.0                   274.693939  "
      ]
     },
     "execution_count": 6,
     "metadata": {},
     "output_type": "execute_result"
    }
   ],
   "source": [
    "df_clean2015_addcolumns.head()"
   ]
  },
  {
   "cell_type": "code",
   "execution_count": 7,
   "metadata": {},
   "outputs": [
    {
     "name": "stderr",
     "output_type": "stream",
     "text": [
      "C:\\Users\\czhu5\\Anaconda3\\lib\\site-packages\\ipykernel_launcher.py:3: SettingWithCopyWarning: \n",
      "A value is trying to be set on a copy of a slice from a DataFrame.\n",
      "Try using .loc[row_indexer,col_indexer] = value instead\n",
      "\n",
      "See the caveats in the documentation: http://pandas.pydata.org/pandas-docs/stable/indexing.html#indexing-view-versus-copy\n",
      "  This is separate from the ipykernel package so we can avoid doing imports until\n",
      "C:\\Users\\czhu5\\Anaconda3\\lib\\site-packages\\ipykernel_launcher.py:4: SettingWithCopyWarning: \n",
      "A value is trying to be set on a copy of a slice from a DataFrame.\n",
      "Try using .loc[row_indexer,col_indexer] = value instead\n",
      "\n",
      "See the caveats in the documentation: http://pandas.pydata.org/pandas-docs/stable/indexing.html#indexing-view-versus-copy\n",
      "  after removing the cwd from sys.path.\n"
     ]
    },
    {
     "name": "stdout",
     "output_type": "stream",
     "text": [
      "Done.\n"
     ]
    },
    {
     "name": "stderr",
     "output_type": "stream",
     "text": [
      "C:\\Users\\czhu5\\Anaconda3\\lib\\site-packages\\ipykernel_launcher.py:5: SettingWithCopyWarning: \n",
      "A value is trying to be set on a copy of a slice from a DataFrame.\n",
      "Try using .loc[row_indexer,col_indexer] = value instead\n",
      "\n",
      "See the caveats in the documentation: http://pandas.pydata.org/pandas-docs/stable/indexing.html#indexing-view-versus-copy\n",
      "  \"\"\"\n"
     ]
    }
   ],
   "source": [
    "df_clean2014_addcolumns=add_diff_from_mean(df_clean2014, 2014)"
   ]
  },
  {
   "cell_type": "code",
   "execution_count": 8,
   "metadata": {},
   "outputs": [
    {
     "name": "stderr",
     "output_type": "stream",
     "text": [
      "C:\\Users\\czhu5\\Anaconda3\\lib\\site-packages\\ipykernel_launcher.py:3: SettingWithCopyWarning: \n",
      "A value is trying to be set on a copy of a slice from a DataFrame.\n",
      "Try using .loc[row_indexer,col_indexer] = value instead\n",
      "\n",
      "See the caveats in the documentation: http://pandas.pydata.org/pandas-docs/stable/indexing.html#indexing-view-versus-copy\n",
      "  This is separate from the ipykernel package so we can avoid doing imports until\n",
      "C:\\Users\\czhu5\\Anaconda3\\lib\\site-packages\\ipykernel_launcher.py:4: SettingWithCopyWarning: \n",
      "A value is trying to be set on a copy of a slice from a DataFrame.\n",
      "Try using .loc[row_indexer,col_indexer] = value instead\n",
      "\n",
      "See the caveats in the documentation: http://pandas.pydata.org/pandas-docs/stable/indexing.html#indexing-view-versus-copy\n",
      "  after removing the cwd from sys.path.\n"
     ]
    },
    {
     "name": "stdout",
     "output_type": "stream",
     "text": [
      "Done.\n"
     ]
    },
    {
     "name": "stderr",
     "output_type": "stream",
     "text": [
      "C:\\Users\\czhu5\\Anaconda3\\lib\\site-packages\\ipykernel_launcher.py:5: SettingWithCopyWarning: \n",
      "A value is trying to be set on a copy of a slice from a DataFrame.\n",
      "Try using .loc[row_indexer,col_indexer] = value instead\n",
      "\n",
      "See the caveats in the documentation: http://pandas.pydata.org/pandas-docs/stable/indexing.html#indexing-view-versus-copy\n",
      "  \"\"\"\n"
     ]
    }
   ],
   "source": [
    "df_clean2013_addcolumns=add_diff_from_mean(df_clean2013, 2013)"
   ]
  },
  {
   "cell_type": "code",
   "execution_count": 9,
   "metadata": {},
   "outputs": [
    {
     "name": "stderr",
     "output_type": "stream",
     "text": [
      "C:\\Users\\czhu5\\Anaconda3\\lib\\site-packages\\ipykernel_launcher.py:3: SettingWithCopyWarning: \n",
      "A value is trying to be set on a copy of a slice from a DataFrame.\n",
      "Try using .loc[row_indexer,col_indexer] = value instead\n",
      "\n",
      "See the caveats in the documentation: http://pandas.pydata.org/pandas-docs/stable/indexing.html#indexing-view-versus-copy\n",
      "  This is separate from the ipykernel package so we can avoid doing imports until\n",
      "C:\\Users\\czhu5\\Anaconda3\\lib\\site-packages\\ipykernel_launcher.py:4: SettingWithCopyWarning: \n",
      "A value is trying to be set on a copy of a slice from a DataFrame.\n",
      "Try using .loc[row_indexer,col_indexer] = value instead\n",
      "\n",
      "See the caveats in the documentation: http://pandas.pydata.org/pandas-docs/stable/indexing.html#indexing-view-versus-copy\n",
      "  after removing the cwd from sys.path.\n"
     ]
    },
    {
     "name": "stdout",
     "output_type": "stream",
     "text": [
      "Done.\n"
     ]
    },
    {
     "name": "stderr",
     "output_type": "stream",
     "text": [
      "C:\\Users\\czhu5\\Anaconda3\\lib\\site-packages\\ipykernel_launcher.py:5: SettingWithCopyWarning: \n",
      "A value is trying to be set on a copy of a slice from a DataFrame.\n",
      "Try using .loc[row_indexer,col_indexer] = value instead\n",
      "\n",
      "See the caveats in the documentation: http://pandas.pydata.org/pandas-docs/stable/indexing.html#indexing-view-versus-copy\n",
      "  \"\"\"\n"
     ]
    }
   ],
   "source": [
    "df_clean2012_addcolumns=add_diff_from_mean(df_clean2012, 2012)"
   ]
  },
  {
   "cell_type": "markdown",
   "metadata": {},
   "source": [
    "## Develop Fraud Data Set 2012-2015"
   ]
  },
  {
   "cell_type": "markdown",
   "metadata": {},
   "source": [
    "### Get means by 'stye' & 'state' from Non-fraud data set, and Calculate the different in Fraud Data Sets"
   ]
  },
  {
   "cell_type": "code",
   "execution_count": 10,
   "metadata": {},
   "outputs": [],
   "source": [
    "df_clean_2015_mean=df_clean2015.groupby(['type','state']).mean()\n",
    "df_clean_2014_mean=df_clean2014.groupby(['type','state']).mean()\n",
    "df_clean_2013_mean=df_clean2013.groupby(['type','state']).mean()\n",
    "df_clean_2012_mean=df_clean2012.groupby(['type','state']).mean()"
   ]
  },
  {
   "cell_type": "code",
   "execution_count": 11,
   "metadata": {},
   "outputs": [
    {
     "data": {
      "text/plain": [
       "Index(['npi', 'line_srvc_cnt', 'bene_unique_cnt', 'bene_day_srvc_cnt',\n",
       "       'avg_allowed_amt', 'avg_payment_amt', 'avg_submitted_chrg_amt',\n",
       "       'Fraud'],\n",
       "      dtype='object')"
      ]
     },
     "execution_count": 11,
     "metadata": {},
     "output_type": "execute_result"
    }
   ],
   "source": [
    "df_clean_2015_mean.columns"
   ]
  },
  {
   "cell_type": "code",
   "execution_count": 12,
   "metadata": {},
   "outputs": [],
   "source": [
    "def add_diff_from_mean_frauddf(df_fraud,df_clean_mean,year):\n",
    "    \n",
    "    #Drop non-useful columns from the df_clean_mean data set\n",
    "    df_clean_mean_drop=df_clean_mean.drop(columns=['npi','Fraud','bene_unique_cnt', 'avg_allowed_amt', 'avg_payment_amt'])\n",
    "    \n",
    "    #reindex df and convert the df as normal pandas df\n",
    "    df_clean_mean_drop=df_clean_mean_drop.reset_index()\n",
    "    \n",
    "    #change the column names in mean df and prepar for the merge with fraud data set\n",
    "    df_clean_mean_drop.columns=['type','state','mean_line_srvc_cnt', 'mean_bene_day_srvc_cnt', 'mean_avg_submitted_chrg_amt']\n",
    "    \n",
    "    #merge two tables by type and state two columns on df_fraud \n",
    "    df_fraud_dev=pd.merge(df_fraud,df_clean_mean_drop)\n",
    "    \n",
    "    #add diff columns\n",
    "    df_fraud_dev['diff_line_srvc_cnt']=df_fraud_dev['line_srvc_cnt'] - df_fraud_dev['mean_line_srvc_cnt']\n",
    "    df_fraud_dev['diff_bene_day_srvc_cnt']=df_fraud_dev['bene_day_srvc_cnt'] - df_fraud_dev['mean_bene_day_srvc_cnt']\n",
    "    df_fraud_dev['diff_avg_submitted_chrg_amt']=df_fraud_dev['avg_submitted_chrg_amt'] - df_fraud_dev['mean_avg_submitted_chrg_amt']\n",
    "    \n",
    "    #drop mean value columns\n",
    "    df_fraud_dev=df_fraud_dev.drop(columns=['mean_line_srvc_cnt','mean_bene_day_srvc_cnt','mean_avg_submitted_chrg_amt'])\n",
    "    \n",
    "    print (\"Done.\")\n",
    "    return(df_fraud_dev)\n",
    "    "
   ]
  },
  {
   "cell_type": "code",
   "execution_count": 14,
   "metadata": {},
   "outputs": [
    {
     "name": "stdout",
     "output_type": "stream",
     "text": [
      "Done.\n"
     ]
    }
   ],
   "source": [
    "df_fraud2015_addcolumns=add_diff_from_mean_frauddf(df_fraud2015,df_clean_2015_mean,2015)"
   ]
  },
  {
   "cell_type": "code",
   "execution_count": 15,
   "metadata": {},
   "outputs": [
    {
     "name": "stdout",
     "output_type": "stream",
     "text": [
      "Done.\n"
     ]
    }
   ],
   "source": [
    "df_fraud2014_addcolumns=add_diff_from_mean_frauddf(df_fraud2014,df_clean_2014_mean,2014)"
   ]
  },
  {
   "cell_type": "code",
   "execution_count": 16,
   "metadata": {},
   "outputs": [
    {
     "name": "stdout",
     "output_type": "stream",
     "text": [
      "Done.\n"
     ]
    }
   ],
   "source": [
    "df_fraud2013_addcolumns=add_diff_from_mean_frauddf(df_fraud2013,df_clean_2013_mean,2013)"
   ]
  },
  {
   "cell_type": "code",
   "execution_count": 17,
   "metadata": {},
   "outputs": [
    {
     "name": "stdout",
     "output_type": "stream",
     "text": [
      "Done.\n"
     ]
    }
   ],
   "source": [
    "df_fraud2012_addcolumns=add_diff_from_mean_frauddf(df_fraud2012,df_clean_2012_mean,2012)"
   ]
  },
  {
   "cell_type": "markdown",
   "metadata": {},
   "source": [
    "## Map Categories data bewteen 2012 to 2015 "
   ]
  },
  {
   "cell_type": "markdown",
   "metadata": {},
   "source": [
    "### Mapping for 'type', 'city' and 'state' Using the dictionary from previous steps in Part II"
   ]
  },
  {
   "cell_type": "code",
   "execution_count": 18,
   "metadata": {},
   "outputs": [],
   "source": [
    "def loadpickle(name):\n",
    "    #example \"fraudtype_dict_pickle\"\n",
    "    dict_pickle=open(str(name)+'_pickle','rb')\n",
    "    fraud_dict=pickle.load(dict_pickle)\n",
    "    dict_pickle.close()\n",
    "    return(fraud_dict)"
   ]
  },
  {
   "cell_type": "code",
   "execution_count": 19,
   "metadata": {},
   "outputs": [],
   "source": [
    "fraudtype_dict=loadpickle(\"fraudtype_dict\")\n",
    "fraudcity_dict=loadpickle(\"fraudcity_dict\")\n",
    "fraudstate_dict=loadpickle(\"fraudstate_dict\")\n",
    "\n",
    "fraudtypes=loadpickle(\"fraudtypes\")\n",
    "fraudcities=loadpickle(\"fraudcities\")\n",
    "fraudstates=loadpickle(\"fraudstates\")"
   ]
  },
  {
   "cell_type": "code",
   "execution_count": 20,
   "metadata": {},
   "outputs": [],
   "source": [
    "def convert_to_category(year,fraudtypes,mapyear,fraudtype_dict, fraudcities,fraudcity_dict,fraudstates,fraudstate_dict):\n",
    "        #Map type\n",
    "        nonfraudtype_temp=mapyear[~mapyear.type.isin(fraudtypes)].type.unique()\n",
    "        maptype_temp=[6]*len(nonfraudtype_temp)\n",
    "        nonfraudtype_dict_temp=dict(zip(nonfraudtype_temp,maptype_temp))\n",
    "        fraudtype_dict_temp=fraudtype_dict\n",
    "        mapyear.type=mapyear.type.map(fraudtype_dict_temp)\n",
    "        mapyear=mapyear.dropna()\n",
    "        print(\"done for mapping types for \"+str(year)+\" in developed data set.\")\n",
    "\n",
    "        nonfraudcity_temp=mapyear[~mapyear.city.isin(fraudcities)].city.unique()\n",
    "        mapcity_temp=[4]*len(nonfraudcity_temp)\n",
    "        nonfraudcity_dict_temp=dict(zip(nonfraudcity_temp,mapcity_temp))\n",
    "        #combine both fraud and non fraud type dict\n",
    "        fraudcity_dict_temp=fraudcity_dict\n",
    "        fraudcity_dict_temp.update(nonfraudcity_dict_temp)\n",
    "        mapyear.city=mapyear.city.map(fraudcity_dict_temp)\n",
    "        mapyear=mapyear.dropna()\n",
    "        print(\"done for mapping cities for \"+str(year)+\" in developed data set.\")\n",
    "\n",
    "        #Map states\n",
    "        \n",
    "        nonfraudstate_temp=mapyear[~mapyear.state.isin(fraudstates)].state.unique()\n",
    "        mapstate_temp=[5]*len(nonfraudstate_temp)\n",
    "        nonfraudstate_dict_temp=dict(zip(nonfraudstate_temp,mapstate_temp))\n",
    "        #combine both fraud and non fraud state dict\n",
    "        fraudstate_dict_temp=fraudstate_dict\n",
    "        fraudstate_dict_temp.update(nonfraudstate_dict_temp)\n",
    "        mapyear.state=mapyear.state.map(fraudstate_dict_temp)\n",
    "        print(\"done for mapping states for \"+str(year))\n",
    "        \n",
    "        #final data set\n",
    "        print(mapyear.head())\n",
    "        \n",
    "        return (mapyear)"
   ]
  },
  {
   "cell_type": "code",
   "execution_count": 21,
   "metadata": {},
   "outputs": [
    {
     "name": "stdout",
     "output_type": "stream",
     "text": [
      "done for mapping types for 2015 in developed data set.\n",
      "done for mapping cities for 2015 in developed data set.\n",
      "done for mapping states for 2015\n",
      "          npi  type gender hcpcs_c  line_srvc_cnt  bene_unique_cnt  \\\n",
      "0  1003042441   3.0      M   99214          128.0            122.0   \n",
      "1  1285784066   3.0      F   99213           54.0             43.0   \n",
      "2  1285784066   3.0      F   G0101           64.0             64.0   \n",
      "3  1285784066   3.0      F   Q0091           29.0             29.0   \n",
      "4  1306867742   3.0      M   36415           33.0             27.0   \n",
      "\n",
      "   bene_day_srvc_cnt  avg_allowed_amt  avg_payment_amt  \\\n",
      "0              128.0        68.324062        53.301875   \n",
      "1               54.0        44.859630        29.176111   \n",
      "2               64.0        24.967813        24.470781   \n",
      "3               29.0        17.374483        17.027931   \n",
      "4               33.0         3.000000         2.940000   \n",
      "\n",
      "   avg_submitted_chrg_amt  city  state  Fraud  diff_line_srvc_cnt  \\\n",
      "0              121.241250     3      3      1            33.76225   \n",
      "1              178.000000     3      3      1           -40.23775   \n",
      "2               86.000000     3      3      1           -30.23775   \n",
      "3              103.000000     3      3      1           -65.23775   \n",
      "4                5.090909     3      3      1           -61.23775   \n",
      "\n",
      "   diff_bene_day_srvc_cnt  diff_avg_submitted_chrg_amt  \n",
      "0                47.28024                  -159.357455  \n",
      "1               -26.71976                  -102.598705  \n",
      "2               -16.71976                  -194.598705  \n",
      "3               -51.71976                  -177.598705  \n",
      "4               -47.71976                  -275.507796  \n"
     ]
    },
    {
     "name": "stderr",
     "output_type": "stream",
     "text": [
      "C:\\Users\\czhu5\\Anaconda3\\lib\\site-packages\\pandas\\core\\generic.py:4405: SettingWithCopyWarning: \n",
      "A value is trying to be set on a copy of a slice from a DataFrame.\n",
      "Try using .loc[row_indexer,col_indexer] = value instead\n",
      "\n",
      "See the caveats in the documentation: http://pandas.pydata.org/pandas-docs/stable/indexing.html#indexing-view-versus-copy\n",
      "  self[name] = value\n"
     ]
    }
   ],
   "source": [
    "df_fraud2015_map_dev=convert_to_category(2015,fraudtypes,df_fraud2015_addcolumns,fraudtype_dict, fraudcities,fraudcity_dict,fraudstates,fraudstate_dict)"
   ]
  },
  {
   "cell_type": "code",
   "execution_count": 22,
   "metadata": {},
   "outputs": [
    {
     "name": "stdout",
     "output_type": "stream",
     "text": [
      "done for mapping types for 2015 in developed data set.\n",
      "done for mapping cities for 2015 in developed data set.\n",
      "done for mapping states for 2015\n",
      "          npi  type gender hcpcs_c  line_srvc_cnt  bene_unique_cnt  \\\n",
      "2  1003000126   0.0      M   99219           18.0             18.0   \n",
      "3  1003000126   0.0      M   99221           59.0             58.0   \n",
      "4  1003000126   0.0      M   99222          132.0            130.0   \n",
      "5  1003000126   0.0      M   99223          220.0            215.0   \n",
      "6  1003000126   0.0      M   99231           38.0             18.0   \n",
      "\n",
      "   bene_day_srvc_cnt  avg_allowed_amt  avg_payment_amt  \\\n",
      "2               18.0       135.850000       100.958889   \n",
      "3               59.0       101.365085        79.469661   \n",
      "4              132.0       139.010455       107.933409   \n",
      "5              220.0       205.185955       157.908955   \n",
      "6               38.0        39.554737        31.015789   \n",
      "\n",
      "   avg_submitted_chrg_amt  city  state  Fraud  diff_line_srvc_cnt  \\\n",
      "2              614.000000     3      2      0                -5.0   \n",
      "3              333.288136     3      2      0                41.0   \n",
      "4              356.492424     3      2      0                73.0   \n",
      "5              631.186364     3      2      0                88.0   \n",
      "6              100.842105     3      2      0              -182.0   \n",
      "\n",
      "   diff_bene_day_srvc_cnt  diff_avg_submitted_chrg_amt  \n",
      "2                    -5.0                   286.000000  \n",
      "3                    41.0                  -280.711864  \n",
      "4                    73.0                    23.204289  \n",
      "5                    88.0                   274.693939  \n",
      "6                  -182.0                  -530.344258  \n"
     ]
    }
   ],
   "source": [
    "df_clean2015_map_dev=convert_to_category(2015,fraudtypes,df_clean2015_addcolumns,fraudtype_dict, fraudcities,fraudcity_dict,fraudstates,fraudstate_dict)"
   ]
  },
  {
   "cell_type": "code",
   "execution_count": 23,
   "metadata": {},
   "outputs": [
    {
     "name": "stdout",
     "output_type": "stream",
     "text": [
      "done for mapping types for 2014 in developed data set.\n",
      "done for mapping cities for 2014 in developed data set.\n",
      "done for mapping states for 2014\n",
      "          npi  type gender hcpcs_c  line_srvc_cnt  bene_unique_cnt  \\\n",
      "0  1003811167   2.0      M   20553           65.0             15.0   \n",
      "1  1003811167   2.0      M   99205           16.0             16.0   \n",
      "2  1003811167   2.0      M   99213          218.0             43.0   \n",
      "3  1003811167   2.0      M   99214          303.0             66.0   \n",
      "4  1003811167   2.0      M   J1040           53.0             20.0   \n",
      "\n",
      "   bene_day_srvc_cnt  avg_allowed_amt  avg_payment_amt  \\\n",
      "0               65.0        75.250000        54.806308   \n",
      "1               16.0       237.980000       179.366875   \n",
      "2              218.0        84.380000        59.297064   \n",
      "3              303.0       124.030000        91.962574   \n",
      "4               48.0         5.750189         4.239623   \n",
      "\n",
      "   avg_submitted_chrg_amt  city  state  Fraud  diff_line_srvc_cnt  \\\n",
      "0                   142.0     2      1      1          -108.73326   \n",
      "1                   410.0     2      1      1          -157.73326   \n",
      "2                   105.0     2      1      1            44.26674   \n",
      "3                   130.0     2      1      1           129.26674   \n",
      "4                    20.0     2      1      1          -120.73326   \n",
      "\n",
      "   diff_bene_day_srvc_cnt  diff_avg_submitted_chrg_amt  \n",
      "0              -45.063088                  -372.953521  \n",
      "1              -94.063088                  -104.953521  \n",
      "2              107.936912                  -409.953521  \n",
      "3              192.936912                  -384.953521  \n",
      "4              -62.063088                  -494.953521  \n"
     ]
    }
   ],
   "source": [
    "df_fraud2014_map_dev=convert_to_category(2014,fraudtypes,df_fraud2014_addcolumns,fraudtype_dict, fraudcities,fraudcity_dict,fraudstates,fraudstate_dict)"
   ]
  },
  {
   "cell_type": "code",
   "execution_count": 24,
   "metadata": {},
   "outputs": [
    {
     "name": "stdout",
     "output_type": "stream",
     "text": [
      "done for mapping types for 2014 in developed data set.\n",
      "done for mapping cities for 2014 in developed data set.\n",
      "done for mapping states for 2014\n",
      "          npi  type gender hcpcs_c  line_srvc_cnt  bene_unique_cnt  \\\n",
      "2  1003000126   0.0      M   99223           98.0             98.0   \n",
      "3  1003000126   0.0      M   99231          104.0             65.0   \n",
      "4  1003000126   0.0      M   99232         1418.0            596.0   \n",
      "5  1003000126   0.0      M   99233          175.0            104.0   \n",
      "6  1003000126   0.0      M   99238          330.0            316.0   \n",
      "\n",
      "   bene_day_srvc_cnt  avg_allowed_amt  avg_payment_amt  \\\n",
      "2               98.0           207.79       152.551224   \n",
      "3              104.0            40.10        30.835385   \n",
      "4             1418.0            73.66        56.297757   \n",
      "5              175.0           106.12        82.398171   \n",
      "6              330.0            74.14        55.681242   \n",
      "\n",
      "   avg_submitted_chrg_amt  city  state  Fraud  diff_line_srvc_cnt  \\\n",
      "2                   611.0     3      2      0              -259.0   \n",
      "3                   119.0     3      2      0                 6.0   \n",
      "4                   217.0     3      2      0              1314.0   \n",
      "5                   312.0     3      2      0             -1243.0   \n",
      "6                   217.0     3      2      0               155.0   \n",
      "\n",
      "   diff_bene_day_srvc_cnt  diff_avg_submitted_chrg_amt  \n",
      "2                  -259.0                   194.453782  \n",
      "3                     6.0                  -492.000000  \n",
      "4                  1314.0                    98.000000  \n",
      "5                 -1243.0                    95.000000  \n",
      "6                   155.0                   -95.000000  \n"
     ]
    }
   ],
   "source": [
    "df_clean2014_map_dev=convert_to_category(2014,fraudtypes,df_clean2014_addcolumns,fraudtype_dict, fraudcities,fraudcity_dict,fraudstates,fraudstate_dict)"
   ]
  },
  {
   "cell_type": "code",
   "execution_count": 25,
   "metadata": {},
   "outputs": [
    {
     "name": "stdout",
     "output_type": "stream",
     "text": [
      "done for mapping types for 2013 in developed data set.\n",
      "done for mapping cities for 2013 in developed data set.\n",
      "done for mapping states for 2013\n",
      "          npi  type gender hcpcs_c  line_srvc_cnt  bene_unique_cnt  \\\n",
      "0  1003042441   3.0      M   90791           43.0             43.0   \n",
      "1  1003042441   3.0      M   99213          114.0             59.0   \n",
      "2  1003042441   3.0      M   99214           38.0             34.0   \n",
      "3  1285784066   3.0      F   99213           91.0             75.0   \n",
      "4  1285784066   3.0      F   99214           14.0             14.0   \n",
      "\n",
      "   bene_day_srvc_cnt  avg_allowed_amt  avg_payment_amt  \\\n",
      "0               43.0            165.0        88.019070   \n",
      "1              114.0             72.0        34.716930   \n",
      "2               38.0            144.0        34.382632   \n",
      "3               91.0            166.0        31.827143   \n",
      "4               14.0            243.0        49.954286   \n",
      "\n",
      "   avg_submitted_chrg_amt  city  state  Fraud  diff_line_srvc_cnt  \\\n",
      "0                   165.0     4      3      1          -60.427391   \n",
      "1                    72.0     4      3      1           10.572609   \n",
      "2                   144.0     4      3      1          -65.427391   \n",
      "3                   166.0     3      3      1          -12.427391   \n",
      "4                   243.0     3      3      1          -89.427391   \n",
      "\n",
      "   diff_bene_day_srvc_cnt  diff_avg_submitted_chrg_amt  \n",
      "0              -42.309292                  -103.946611  \n",
      "1               28.690708                  -196.946611  \n",
      "2              -47.309292                  -124.946611  \n",
      "3                5.690708                  -102.946611  \n",
      "4              -71.309292                   -25.946611  \n"
     ]
    }
   ],
   "source": [
    "df_fraud2013_map_dev=convert_to_category(2013,fraudtypes,df_fraud2013_addcolumns,fraudtype_dict, fraudcities,fraudcity_dict,fraudstates,fraudstate_dict)"
   ]
  },
  {
   "cell_type": "code",
   "execution_count": 26,
   "metadata": {},
   "outputs": [
    {
     "name": "stdout",
     "output_type": "stream",
     "text": [
      "done for mapping types for 2013 in developed data set.\n",
      "done for mapping cities for 2013 in developed data set.\n",
      "done for mapping states for 2013\n",
      "          npi  type gender hcpcs_c  line_srvc_cnt  bene_unique_cnt  \\\n",
      "2  1003000126   0.0      M   99223           96.0             95.0   \n",
      "3  1003000126   0.0      M   99231           61.0             47.0   \n",
      "4  1003000126   0.0      M   99232          777.0            381.0   \n",
      "5  1003000126   0.0      M   99233          170.0            106.0   \n",
      "6  1003000126   0.0      M   99238          219.0            208.0   \n",
      "\n",
      "   bene_day_srvc_cnt  avg_allowed_amt  avg_payment_amt  \\\n",
      "2               96.0       524.604167       155.901146   \n",
      "3               61.0        97.000000        30.065246   \n",
      "4              777.0       187.594595        55.091351   \n",
      "5              170.0       271.976471        80.641235   \n",
      "6              219.0       201.004566        55.650457   \n",
      "\n",
      "   avg_submitted_chrg_amt  city  state  Fraud  diff_line_srvc_cnt  \\\n",
      "2              524.604167     3      2      0               -46.0   \n",
      "3               97.000000     3      2      0               -35.0   \n",
      "4              187.594595     3      2      0               716.0   \n",
      "5              271.976471     3      2      0              -607.0   \n",
      "6              201.004566     3      2      0                49.0   \n",
      "\n",
      "   diff_bene_day_srvc_cnt  diff_avg_submitted_chrg_amt  \n",
      "2                   -46.0                   155.977406  \n",
      "3                   -35.0                  -427.604167  \n",
      "4                   716.0                    90.594595  \n",
      "5                  -607.0                    84.381876  \n",
      "6                    49.0                   -70.971904  \n"
     ]
    }
   ],
   "source": [
    "df_clean2013_map_dev=convert_to_category(2013,fraudtypes,df_clean2013_addcolumns,fraudtype_dict, fraudcities,fraudcity_dict,fraudstates,fraudstate_dict)"
   ]
  },
  {
   "cell_type": "code",
   "execution_count": 27,
   "metadata": {},
   "outputs": [
    {
     "name": "stdout",
     "output_type": "stream",
     "text": [
      "done for mapping types for 2012 in developed data set.\n",
      "done for mapping cities for 2012 in developed data set.\n",
      "done for mapping states for 2012\n",
      "          npi  type gender hcpcs_c  line_srvc_cnt  bene_unique_cnt  \\\n",
      "0  1003809195   0.0      M   90662           21.0             21.0   \n",
      "1  1003809195   0.0      M   96372           32.0             17.0   \n",
      "2  1003809195   0.0      M   99213           88.0             66.0   \n",
      "3  1003809195   0.0      M   99214          142.0             75.0   \n",
      "4  1003809195   0.0      M   G0008           21.0             20.0   \n",
      "\n",
      "   bene_day_srvc_cnt  avg_allowed_amt  avg_payment_amt  \\\n",
      "0               21.0            30.92        30.920000   \n",
      "1               31.0            23.40        13.992500   \n",
      "2               88.0            69.37        46.046818   \n",
      "3              142.0           102.61        62.662676   \n",
      "4               21.0            23.40        23.400000   \n",
      "\n",
      "   avg_submitted_chrg_amt  city  state  Fraud  diff_line_srvc_cnt  \\\n",
      "0               46.380000     3      2      1          -100.19159   \n",
      "1               35.000000     3      2      1           -89.19159   \n",
      "2               96.590909     3      2      1           -33.19159   \n",
      "3              144.788732     3      2      1            20.80841   \n",
      "4               28.000000     3      2      1          -100.19159   \n",
      "\n",
      "   diff_bene_day_srvc_cnt  diff_avg_submitted_chrg_amt  \n",
      "0              -91.584367                   -52.951272  \n",
      "1              -81.584367                   -64.331272  \n",
      "2              -24.584367                    -2.740363  \n",
      "3               29.415633                    45.457460  \n",
      "4              -91.584367                   -71.331272  \n"
     ]
    }
   ],
   "source": [
    "df_fraud2012_map_dev=convert_to_category(2012,fraudtypes,df_fraud2012_addcolumns,fraudtype_dict, fraudcities,fraudcity_dict,fraudstates,fraudstate_dict)"
   ]
  },
  {
   "cell_type": "code",
   "execution_count": 28,
   "metadata": {},
   "outputs": [
    {
     "name": "stdout",
     "output_type": "stream",
     "text": [
      "done for mapping types for 2012 in developed data set.\n",
      "done for mapping cities for 2012 in developed data set.\n",
      "done for mapping states for 2012\n",
      "          npi  type gender hcpcs_c  line_srvc_cnt  bene_unique_cnt  \\\n",
      "2  1003000126   0.0      M   99223           93.0             88.0   \n",
      "3  1003000126   0.0      M   99231          111.0             83.0   \n",
      "4  1003000126   0.0      M   99232          544.0            295.0   \n",
      "5  1003000126   0.0      M   99233           75.0             55.0   \n",
      "6  1003000126   0.0      M   99238           95.0             95.0   \n",
      "\n",
      "   bene_day_srvc_cnt  avg_allowed_amt  avg_payment_amt  \\\n",
      "2               93.0           198.59       158.870000   \n",
      "3              111.0            38.75        30.720721   \n",
      "4              544.0            70.95        56.655662   \n",
      "5               75.0           101.74        81.390000   \n",
      "6               95.0            71.06        55.768842   \n",
      "\n",
      "   avg_submitted_chrg_amt  city  state  Fraud  diff_line_srvc_cnt  \\\n",
      "2                   291.0     3      2      0               -22.0   \n",
      "3                    58.0     3      2      0                18.0   \n",
      "4                   105.0     3      2      0               433.0   \n",
      "5                   150.0     3      2      0              -469.0   \n",
      "6                   104.0     3      2      0                20.0   \n",
      "\n",
      "   diff_bene_day_srvc_cnt  diff_avg_submitted_chrg_amt  \n",
      "2                   -22.0                         92.0  \n",
      "3                    18.0                       -233.0  \n",
      "4                   433.0                         47.0  \n",
      "5                  -469.0                         45.0  \n",
      "6                    20.0                        -46.0  \n"
     ]
    }
   ],
   "source": [
    "df_clean2012_map_dev=convert_to_category(2012,fraudtypes,df_clean2012_addcolumns,fraudtype_dict, fraudcities,fraudcity_dict,fraudstates,fraudstate_dict)"
   ]
  },
  {
   "cell_type": "markdown",
   "metadata": {},
   "source": [
    "## Save the developed Data Sets using pickle"
   ]
  },
  {
   "cell_type": "code",
   "execution_count": 29,
   "metadata": {},
   "outputs": [],
   "source": [
    "def devdata_topickle(df,name):\n",
    "    df_pkl=open(str(name)+\"_pickle\",\"wb\")\n",
    "    pickle.dump(df,df_pkl)\n",
    "    df_pkl.close()\n",
    "    print (\"Done.\")"
   ]
  },
  {
   "cell_type": "code",
   "execution_count": 30,
   "metadata": {},
   "outputs": [
    {
     "name": "stdout",
     "output_type": "stream",
     "text": [
      "Done.\n",
      "Done.\n",
      "Done.\n",
      "Done.\n",
      "Done.\n",
      "Done.\n",
      "Done.\n",
      "Done.\n"
     ]
    }
   ],
   "source": [
    "devdata_topickle(df_clean2015_map_dev,\"df_clean2015_map_dev\")\n",
    "devdata_topickle(df_clean2014_map_dev,\"df_clean2014_map_dev\")\n",
    "devdata_topickle(df_clean2013_map_dev,\"df_clean2013_map_dev\")\n",
    "devdata_topickle(df_clean2012_map_dev,\"df_clean2012_map_dev\")\n",
    "\n",
    "devdata_topickle(df_fraud2015_map_dev,\"df_fraud2015_map_dev\")\n",
    "devdata_topickle(df_fraud2014_map_dev,\"df_fraud2014_map_dev\")\n",
    "devdata_topickle(df_fraud2013_map_dev,\"df_fraud2013_map_dev\")\n",
    "devdata_topickle(df_fraud2012_map_dev,\"df_fraud2012_map_dev\")"
   ]
  },
  {
   "cell_type": "markdown",
   "metadata": {},
   "source": [
    "## Use 2015 Non-Fraud Mean to Develop 2016 Data Sets"
   ]
  },
  {
   "cell_type": "code",
   "execution_count": 31,
   "metadata": {},
   "outputs": [
    {
     "data": {
      "text/plain": [
       "Index(['npi', 'line_srvc_cnt', 'bene_unique_cnt', 'bene_day_srvc_cnt',\n",
       "       'avg_allowed_amt', 'avg_payment_amt', 'avg_submitted_chrg_amt',\n",
       "       'Fraud'],\n",
       "      dtype='object')"
      ]
     },
     "execution_count": 31,
     "metadata": {},
     "output_type": "execute_result"
    }
   ],
   "source": [
    "df_clean_2015_mean.columns"
   ]
  },
  {
   "cell_type": "code",
   "execution_count": 32,
   "metadata": {},
   "outputs": [],
   "source": [
    "df_clean_2015_mean_drop = df_clean_2015_mean.drop(columns=['npi','bene_unique_cnt','avg_allowed_amt', 'avg_payment_amt','Fraud'])"
   ]
  },
  {
   "cell_type": "code",
   "execution_count": 33,
   "metadata": {},
   "outputs": [],
   "source": [
    "df_clean_2015_mean_drop.columns=['mean_line_srvc_cnt','mean_bene_day_srvc_cnt','mean_avg_submitted_chrg_amt']"
   ]
  },
  {
   "cell_type": "code",
   "execution_count": 95,
   "metadata": {},
   "outputs": [
    {
     "data": {
      "text/plain": [
       "Index(['mean_line_srvc_cnt', 'mean_bene_day_srvc_cnt',\n",
       "       'mean_avg_submitted_chrg_amt'],\n",
       "      dtype='object')"
      ]
     },
     "execution_count": 95,
     "metadata": {},
     "output_type": "execute_result"
    }
   ],
   "source": [
    "df_clean_2015_mean_drop.columns"
   ]
  },
  {
   "cell_type": "code",
   "execution_count": 96,
   "metadata": {},
   "outputs": [],
   "source": [
    "df_clean_2015_mean_drop=df_clean_2015_mean_drop.reset_index()"
   ]
  },
  {
   "cell_type": "code",
   "execution_count": 97,
   "metadata": {},
   "outputs": [
    {
     "data": {
      "text/plain": [
       "Index(['type', 'state', 'mean_line_srvc_cnt', 'mean_bene_day_srvc_cnt',\n",
       "       'mean_avg_submitted_chrg_amt'],\n",
       "      dtype='object')"
      ]
     },
     "execution_count": 97,
     "metadata": {},
     "output_type": "execute_result"
    }
   ],
   "source": [
    "df_clean_2015_mean_drop.columns"
   ]
  },
  {
   "cell_type": "code",
   "execution_count": 99,
   "metadata": {},
   "outputs": [],
   "source": [
    "df_clean2016=df_clean2016.dropna()"
   ]
  },
  {
   "cell_type": "code",
   "execution_count": 102,
   "metadata": {},
   "outputs": [],
   "source": [
    "df_clean2016_addcolumns=pd.merge(df_clean2016,df_clean_2015_mean_drop)"
   ]
  },
  {
   "cell_type": "code",
   "execution_count": 104,
   "metadata": {},
   "outputs": [
    {
     "data": {
      "text/plain": [
       "Index(['npi', 'type', 'gender', 'hcpcs_c', 'line_srvc_cnt', 'bene_unique_cnt',\n",
       "       'bene_day_srvc_cnt', 'avg_allowed_amt', 'avg_payment_amt',\n",
       "       'avg_submitted_chrg_amt', 'city', 'state', 'Fraud',\n",
       "       'mean_line_srvc_cnt', 'mean_bene_day_srvc_cnt',\n",
       "       'mean_avg_submitted_chrg_amt'],\n",
       "      dtype='object')"
      ]
     },
     "execution_count": 104,
     "metadata": {},
     "output_type": "execute_result"
    }
   ],
   "source": [
    "df_clean2016_addcolumns.columns"
   ]
  },
  {
   "cell_type": "code",
   "execution_count": 105,
   "metadata": {},
   "outputs": [],
   "source": [
    "df_clean2016_addcolumns['diff_line_srvc_cnt']=df_clean2016_addcolumns['line_srvc_cnt'] - df_clean2016_addcolumns['mean_line_srvc_cnt']\n",
    "df_clean2016_addcolumns['diff_bene_day_srvc_cnt']=df_clean2016_addcolumns['bene_day_srvc_cnt'] - df_clean2016_addcolumns['mean_bene_day_srvc_cnt']\n",
    "df_clean2016_addcolumns['diff_avg_submitted_chrg_amt']=df_clean2016_addcolumns['avg_submitted_chrg_amt'] - df_clean2016_addcolumns['mean_avg_submitted_chrg_amt']"
   ]
  },
  {
   "cell_type": "code",
   "execution_count": 36,
   "metadata": {},
   "outputs": [
    {
     "ename": "NameError",
     "evalue": "name 'df_clean2016_addcolumns' is not defined",
     "output_type": "error",
     "traceback": [
      "\u001b[1;31m---------------------------------------------------------------------------\u001b[0m",
      "\u001b[1;31mNameError\u001b[0m                                 Traceback (most recent call last)",
      "\u001b[1;32m<ipython-input-36-e12bc471c766>\u001b[0m in \u001b[0;36m<module>\u001b[1;34m\u001b[0m\n\u001b[1;32m----> 1\u001b[1;33m \u001b[0mdf_clean2016_addcolumns\u001b[0m\u001b[1;33m.\u001b[0m\u001b[0mcolumns\u001b[0m\u001b[1;33m\u001b[0m\u001b[1;33m\u001b[0m\u001b[0m\n\u001b[0m",
      "\u001b[1;31mNameError\u001b[0m: name 'df_clean2016_addcolumns' is not defined"
     ]
    }
   ],
   "source": [
    "df_clean2016_addcolumns.columns"
   ]
  },
  {
   "cell_type": "code",
   "execution_count": 107,
   "metadata": {},
   "outputs": [],
   "source": [
    "df_clean2016_addcolumns=df_clean2016_addcolumns.drop(columns=['mean_line_srvc_cnt', 'mean_bene_day_srvc_cnt',\n",
    "       'mean_avg_submitted_chrg_amt',])"
   ]
  },
  {
   "cell_type": "code",
   "execution_count": 109,
   "metadata": {},
   "outputs": [
    {
     "name": "stdout",
     "output_type": "stream",
     "text": [
      "done for mapping types for 2016\n",
      "done for mapping cities for 2016\n",
      "done for mapping states for 2016\n",
      "          npi  type gender hcpcs_c  line_srvc_cnt  bene_unique_cnt  \\\n",
      "0  1003000126   0.0      M   99217           57.0             55.0   \n",
      "1  1003000126   0.0      M   99219           38.0             38.0   \n",
      "2  1003000126   0.0      M   99220           23.0             23.0   \n",
      "3  1003000126   0.0      M   99221           20.0             20.0   \n",
      "4  1003000126   0.0      M   99222           96.0             87.0   \n",
      "\n",
      "   bene_day_srvc_cnt  avg_allowed_amt  avg_payment_amt  \\\n",
      "0               57.0        72.743158        54.474386   \n",
      "1               38.0       135.010000       105.850000   \n",
      "2               23.0       189.239565       146.116522   \n",
      "3               20.0       100.750000        78.990000   \n",
      "4               96.0       136.250000       105.477604   \n",
      "\n",
      "   avg_submitted_chrg_amt  city  state  Fraud  diff_line_srvc_cnt  \\\n",
      "0              325.157895     3      2      0          -94.793615   \n",
      "1              614.000000     3      2      0         -113.793615   \n",
      "2              769.347826     3      2      0         -128.793615   \n",
      "3              460.000000     3      2      0         -131.793615   \n",
      "4              625.000000     3      2      0          -55.793615   \n",
      "\n",
      "   diff_bene_day_srvc_cnt  diff_avg_submitted_chrg_amt  \n",
      "0              -81.933584                   163.496499  \n",
      "1             -100.933584                   452.338604  \n",
      "2             -115.933584                   607.686430  \n",
      "3             -118.933584                   298.338604  \n",
      "4              -42.933584                   463.338604  \n",
      "Saved in pickle conver develope2016_pickle.\n"
     ]
    }
   ],
   "source": [
    "df_clean2016_map_dev=convert_to_category(2016,fraudtypes,df_clean2016_addcolumns,fraudtype_dict, fraudcities,fraudcity_dict,fraudstates,fraudstate_dict)"
   ]
  },
  {
   "cell_type": "code",
   "execution_count": 110,
   "metadata": {},
   "outputs": [],
   "source": [
    "df_fraud2016_addcolumns=pd.merge(df_fraud2016,df_clean_2015_mean_drop)"
   ]
  },
  {
   "cell_type": "code",
   "execution_count": 111,
   "metadata": {},
   "outputs": [],
   "source": [
    "df_fraud2016_addcolumns['diff_line_srvc_cnt']=df_fraud2016_addcolumns['line_srvc_cnt'] - df_fraud2016_addcolumns['mean_line_srvc_cnt']\n",
    "df_fraud2016_addcolumns['diff_bene_day_srvc_cnt']=df_fraud2016_addcolumns['bene_day_srvc_cnt'] - df_fraud2016_addcolumns['mean_bene_day_srvc_cnt']\n",
    "df_fraud2016_addcolumns['diff_avg_submitted_chrg_amt']=df_fraud2016_addcolumns['avg_submitted_chrg_amt'] - df_fraud2016_addcolumns['mean_avg_submitted_chrg_amt']"
   ]
  },
  {
   "cell_type": "code",
   "execution_count": 112,
   "metadata": {},
   "outputs": [],
   "source": [
    "df_fraud2016_addcolumns=df_fraud2016_addcolumns.drop(columns=['mean_line_srvc_cnt', 'mean_bene_day_srvc_cnt',\n",
    "       'mean_avg_submitted_chrg_amt',])"
   ]
  },
  {
   "cell_type": "code",
   "execution_count": 113,
   "metadata": {},
   "outputs": [
    {
     "name": "stdout",
     "output_type": "stream",
     "text": [
      "done for mapping types for 2016\n",
      "done for mapping cities for 2016\n",
      "done for mapping states for 2016\n",
      "          npi  type gender hcpcs_c  line_srvc_cnt  bene_unique_cnt  \\\n",
      "0  1003811167   2.0      M   20552           25.0             14.0   \n",
      "1  1003811167   2.0      M   20553           67.0             18.0   \n",
      "2  1003811167   2.0      M   20610           29.0             12.0   \n",
      "3  1003811167   2.0      M   99205           11.0             11.0   \n",
      "4  1003811167   2.0      M   99213          196.0             44.0   \n",
      "\n",
      "   bene_day_srvc_cnt  avg_allowed_amt  avg_payment_amt  \\\n",
      "0               25.0        63.994000        45.280800   \n",
      "1               67.0        75.310000        52.674925   \n",
      "2               28.0        79.735172        58.394483   \n",
      "3               11.0       239.000000       169.576364   \n",
      "4              196.0        83.890000        59.233214   \n",
      "\n",
      "   avg_submitted_chrg_amt  city  state  Fraud  diff_line_srvc_cnt  \\\n",
      "0              125.000000     2      1      1         -143.040616   \n",
      "1              142.000000     2      1      1         -101.040616   \n",
      "2              211.034483     2      1      1         -139.040616   \n",
      "3              410.000000     2      1      1         -157.040616   \n",
      "4              105.000000     2      1      1           27.959384   \n",
      "\n",
      "   diff_bene_day_srvc_cnt  diff_avg_submitted_chrg_amt  \n",
      "0              -95.468576                  -447.166748  \n",
      "1              -53.468576                  -430.166748  \n",
      "2              -92.468576                  -361.132265  \n",
      "3             -109.468576                  -162.166748  \n",
      "4               75.531424                  -467.166748  \n",
      "Saved in pickle conver develope2016_pickle.\n"
     ]
    }
   ],
   "source": [
    "df_fraud2016_map_dev=convert_to_category(2016,fraudtypes,df_fraud2016_addcolumns,fraudtype_dict, fraudcities,fraudcity_dict,fraudstates,fraudstate_dict)"
   ]
  },
  {
   "cell_type": "code",
   "execution_count": 114,
   "metadata": {},
   "outputs": [
    {
     "name": "stdout",
     "output_type": "stream",
     "text": [
      "Done.\n",
      "Done.\n"
     ]
    }
   ],
   "source": [
    "devdata_topickle(df_clean2016_map_dev,\"df_clean2016_map_dev\")\n",
    "\n",
    "devdata_topickle(df_fraud2016_map_dev,\"df_fraud2016_map_dev\")"
   ]
  },
  {
   "cell_type": "code",
   "execution_count": 35,
   "metadata": {},
   "outputs": [
    {
     "ename": "NameError",
     "evalue": "name 'df_fraud2016_addcolumns' is not defined",
     "output_type": "error",
     "traceback": [
      "\u001b[1;31m---------------------------------------------------------------------------\u001b[0m",
      "\u001b[1;31mNameError\u001b[0m                                 Traceback (most recent call last)",
      "\u001b[1;32m<ipython-input-35-86c9a40cb526>\u001b[0m in \u001b[0;36m<module>\u001b[1;34m\u001b[0m\n\u001b[1;32m----> 1\u001b[1;33m \u001b[0mdf_fraud2016_addcolumns\u001b[0m\u001b[1;33m\u001b[0m\u001b[1;33m\u001b[0m\u001b[0m\n\u001b[0m",
      "\u001b[1;31mNameError\u001b[0m: name 'df_fraud2016_addcolumns' is not defined"
     ]
    }
   ],
   "source": [
    "df_fraud2016_addcolumns"
   ]
  },
  {
   "cell_type": "code",
   "execution_count": 30,
   "metadata": {},
   "outputs": [
    {
     "ename": "AttributeError",
     "evalue": "'NoneType' object has no attribute 'head'",
     "output_type": "error",
     "traceback": [
      "\u001b[1;31m---------------------------------------------------------------------------\u001b[0m",
      "\u001b[1;31mAttributeError\u001b[0m                            Traceback (most recent call last)",
      "\u001b[1;32m<ipython-input-30-b9c87294905a>\u001b[0m in \u001b[0;36m<module>\u001b[1;34m\u001b[0m\n\u001b[1;32m----> 1\u001b[1;33m \u001b[0mdf_clean2016_map_dev_load\u001b[0m\u001b[1;33m.\u001b[0m\u001b[0mhead\u001b[0m\u001b[1;33m(\u001b[0m\u001b[1;33m)\u001b[0m\u001b[1;33m\u001b[0m\u001b[1;33m\u001b[0m\u001b[0m\n\u001b[0m",
      "\u001b[1;31mAttributeError\u001b[0m: 'NoneType' object has no attribute 'head'"
     ]
    }
   ],
   "source": [
    "df_clean2016_map_dev_load.head()"
   ]
  },
  {
   "cell_type": "code",
   "execution_count": 33,
   "metadata": {},
   "outputs": [
    {
     "ename": "NameError",
     "evalue": "name 'df_fraud2016_map_dev' is not defined",
     "output_type": "error",
     "traceback": [
      "\u001b[1;31m---------------------------------------------------------------------------\u001b[0m",
      "\u001b[1;31mNameError\u001b[0m                                 Traceback (most recent call last)",
      "\u001b[1;32m<ipython-input-33-121c500e8a82>\u001b[0m in \u001b[0;36m<module>\u001b[1;34m\u001b[0m\n\u001b[1;32m----> 1\u001b[1;33m \u001b[0mdf_fraud2016_map_dev\u001b[0m\u001b[1;33m\u001b[0m\u001b[1;33m\u001b[0m\u001b[0m\n\u001b[0m",
      "\u001b[1;31mNameError\u001b[0m: name 'df_fraud2016_map_dev' is not defined"
     ]
    }
   ],
   "source": [
    "df_fraud2016_map_dev"
   ]
  },
  {
   "cell_type": "code",
   "execution_count": null,
   "metadata": {},
   "outputs": [],
   "source": []
  },
  {
   "cell_type": "markdown",
   "metadata": {},
   "source": [
    "## References:"
   ]
  },
  {
   "cell_type": "code",
   "execution_count": null,
   "metadata": {},
   "outputs": [],
   "source": []
  }
 ],
 "metadata": {
  "kernelspec": {
   "display_name": "Python 3",
   "language": "python",
   "name": "python3"
  },
  "language_info": {
   "codemirror_mode": {
    "name": "ipython",
    "version": 3
   },
   "file_extension": ".py",
   "mimetype": "text/x-python",
   "name": "python",
   "nbconvert_exporter": "python",
   "pygments_lexer": "ipython3",
   "version": "3.7.2"
  }
 },
 "nbformat": 4,
 "nbformat_minor": 2
}
