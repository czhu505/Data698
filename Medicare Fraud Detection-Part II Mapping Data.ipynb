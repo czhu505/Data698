{
 "cells": [
  {
   "cell_type": "markdown",
   "metadata": {},
   "source": [
    "# Medicare Fraud Detection"
   ]
  },
  {
   "cell_type": "markdown",
   "metadata": {},
   "source": [
    "### Data 698: Data Science Research Project - Spring 2019"
   ]
  },
  {
   "cell_type": "markdown",
   "metadata": {},
   "source": [
    "### Student: Chunhui Zhu"
   ]
  },
  {
   "cell_type": "markdown",
   "metadata": {},
   "source": [
    "Medicare_Provider_Utilization_and_Payment_Data__Physician_and_Other_Supplier_PUF_CY2016.csv: https://data.cms.gov/Medicare-Physician-Supplier/Medicare-Provider-Utilization-and-Payment-Data-Phy/utc4-f9xp"
   ]
  },
  {
   "cell_type": "markdown",
   "metadata": {},
   "source": [
    "LEIE2019.csv: https://oig.hhs.gov/exclusions/exclusions_list.asp"
   ]
  },
  {
   "cell_type": "markdown",
   "metadata": {},
   "source": [
    "fraud_df16_pickle : contain unique Fraud NPI\n",
    "\n",
    "fraud_2016_pickle : contain all rows with Fraud NPI (non-unique)\n",
    "\n",
    "df16_pickle : contain traucated data set but all rows from original data\n",
    "\n",
    "df16_pickle columns : 'npi', 'type','gender','hcpcs_c', 'line_srvc_cnt', 'bene_unique_cnt', 'bene_day_srvc_cnt','avg_allowed_amt','avg_payment_amt','avg_submitted_chrg_amt','city','state'\n",
    "\n",
    "\n",
    "map2016_pickle : added fraud mapping in data set which is from df16_pickle"
   ]
  },
  {
   "cell_type": "markdown",
   "metadata": {},
   "source": []
  },
  {
   "cell_type": "markdown",
   "metadata": {},
   "source": [
    "## Continouse from Part I"
   ]
  },
  {
   "cell_type": "code",
   "execution_count": 1,
   "metadata": {},
   "outputs": [],
   "source": [
    "import pandas as pd\n",
    "import numpy as np\n",
    "import networkx as nx\n",
    "import matplotlib as plt\n",
    "import pickle\n",
    "from math import isnan"
   ]
  },
  {
   "cell_type": "markdown",
   "metadata": {},
   "source": [
    "### Step 1: Map Fraud data sets 2012-2016"
   ]
  },
  {
   "cell_type": "code",
   "execution_count": 2,
   "metadata": {},
   "outputs": [],
   "source": [
    "#I used the searching result of unique NPI finding in a specifit year in previous steps. \n",
    "#load Fraud unique NPI from pickle, example for 2016 yr: \"fraud_df16_pickle\"\n",
    "#close pickle\n",
    "#function returns pd df for fraud_NPI in that year\n",
    "def loadfraudNPI (year):\n",
    "    y=str(year)\n",
    "    fraud_pkl=open(\"fraud_df\"+str(y[2:4])+\"_pickle\",\"rb\")\n",
    "    fraud_NPI=pickle.load(fraud_pkl)\n",
    "    print(fraud_NPI.head(5))\n",
    "    print(\"The number of fraud NPI found in \" + y +\" is \" + str(len(fraud_NPI)) + \".\")\n",
    "    fraud_pkl.close()\n",
    "    return (fraud_NPI)\n",
    "\n",
    "\n",
    "#example pickle name df13_pickle\n",
    "def loadrawdata (year):\n",
    "    y=str(year)\n",
    "    raw_pkl=open(\"df\"+str(y[2:4])+\"_pickle\",\"rb\")\n",
    "    raw=pickle.load(raw_pkl)\n",
    "    print(\"The number of raw data in \" + y +\" is \" + str(len(raw)) + \".\")\n",
    "    raw_pkl.close()\n",
    "    return (raw)\n"
   ]
  },
  {
   "cell_type": "code",
   "execution_count": 3,
   "metadata": {},
   "outputs": [],
   "source": [
    "#Use fraudNPI unique NPI to map the raw data\n",
    "#set \"1 is fraud\" if found from LEIE\n",
    "#break down fraud and clean NPI in seperated data sets\n",
    "#function return fraud2016 and map2016 (full year data)\n",
    "def mapfrauddata (df,year):\n",
    "    Fraud_list=df.iloc[:, 0].values\n",
    "    \n",
    "    #read in raw data\n",
    "    raw=loadrawdata(year)\n",
    "    fraud=[]\n",
    "    for id in raw.npi.values:\n",
    "        if id in Fraud_list:\n",
    "            #set \"1 is fraud\"\n",
    "            fraud.append(1)\n",
    "        else:\n",
    "            fraud.append(0)\n",
    "    print(\"Finished mapping.\")\n",
    "    raw['Fraud']=fraud\n",
    "    fraud_raw=raw[raw['Fraud']==1]\n",
    "    clean_raw=raw[raw['Fraud']==0]\n",
    "    print(\"Done for mapping data for \" + str(year)+\" .\")\n",
    "    \n",
    "    #dump the fraud data set in a pickle\n",
    "    print(\"dump fraud data in a pickle\")\n",
    "    fraud_pkl=open(\"fraud_\"+str(year)+\"_pickle\",\"wb\")\n",
    "    pickle.dump(fraud_raw,fraud_pkl)\n",
    "    fraud_pkl.close()\n",
    "    \n",
    "    #dump the fraud data set in a pickle\n",
    "    print(\"dump clean data in a pickle\")\n",
    "    clean_pkl=open(\"clean_\"+str(year)+\"_pickle\",\"wb\")\n",
    "    pickle.dump(clean_raw,clean_pkl)\n",
    "    clean_pkl.close()\n",
    "    \n",
    "    print(\"finished the process.\")\n",
    "    \n",
    "    return (fraud_raw, raw)"
   ]
  },
  {
   "cell_type": "markdown",
   "metadata": {},
   "source": [
    "I used last found fruad NPI data for each year, and looked for the matched NPI in a whole year data set, then created a column 'Fraud' in using 1 and 0 represting fraud and non-fraud in a whole year data set. \n",
    "\n",
    "I also extracted the fraud data with name such as 'fraud16df'. For the fraud data set, I used it to check categories data and found weather the variable is significian in predicting the fraud data. "
   ]
  },
  {
   "cell_type": "markdown",
   "metadata": {},
   "source": [
    "### 2016"
   ]
  },
  {
   "cell_type": "code",
   "execution_count": 4,
   "metadata": {},
   "outputs": [
    {
     "name": "stdout",
     "output_type": "stream",
     "text": [
      "   Fraud_id_16\n",
      "0   1003811167\n",
      "1   1003817743\n",
      "2   1003822834\n",
      "3   1003859885\n",
      "4   1003892746\n",
      "The number of fraud NPI found in 2016 is 281.\n",
      "The number of raw data in 2016 is 9714897.\n",
      "Finished mapping.\n",
      "Done for mapping data for 2016 .\n",
      "dump fraud data in a pickle\n",
      "dump clean data in a pickle\n",
      "finished the process.\n"
     ]
    }
   ],
   "source": [
    "f16NPI=loadfraudNPI(2016)\n",
    "\n",
    "#in fucntion of mapfrauddata(f16NPI,2016) \n",
    "#two pickles created, for one containing fraud NPI, mapp2016_pickle\n",
    "\n",
    "fraud16df,map2016 =mapfrauddata (f16NPI,2016)"
   ]
  },
  {
   "cell_type": "code",
   "execution_count": 5,
   "metadata": {},
   "outputs": [
    {
     "data": {
      "text/plain": [
       "2843"
      ]
     },
     "execution_count": 5,
     "metadata": {},
     "output_type": "execute_result"
    }
   ],
   "source": [
    "len(fraud16df)"
   ]
  },
  {
   "cell_type": "code",
   "execution_count": 6,
   "metadata": {},
   "outputs": [
    {
     "data": {
      "text/plain": [
       "npi                         0\n",
       "type                        0\n",
       "gender                    252\n",
       "hcpcs_c                     0\n",
       "line_srvc_cnt               0\n",
       "bene_unique_cnt             0\n",
       "bene_day_srvc_cnt           0\n",
       "avg_allowed_amt             0\n",
       "avg_payment_amt             0\n",
       "avg_submitted_chrg_amt      0\n",
       "city                        0\n",
       "state                       0\n",
       "Fraud                       0\n",
       "dtype: int64"
      ]
     },
     "execution_count": 6,
     "metadata": {},
     "output_type": "execute_result"
    }
   ],
   "source": [
    "#To observe which pramaters have null values, then I will consider to remove these pramaters in my study\n",
    "fraud16df.isnull().sum()"
   ]
  },
  {
   "cell_type": "markdown",
   "metadata": {},
   "source": [
    "### 2015"
   ]
  },
  {
   "cell_type": "code",
   "execution_count": 7,
   "metadata": {},
   "outputs": [
    {
     "name": "stdout",
     "output_type": "stream",
     "text": [
      "   Fraud_id_15\n",
      "0   1003042441\n",
      "1   1003811167\n",
      "2   1003817743\n",
      "3   1003822834\n",
      "4   1003859885\n",
      "The number of fraud NPI found in 2015 is 475.\n",
      "The number of raw data in 2015 is 9497892.\n",
      "Finished mapping.\n",
      "Done for mapping data for 2015 .\n",
      "dump fraud data in a pickle\n",
      "dump clean data in a pickle\n",
      "finished the process.\n"
     ]
    },
    {
     "data": {
      "text/plain": [
       "5110"
      ]
     },
     "execution_count": 7,
     "metadata": {},
     "output_type": "execute_result"
    }
   ],
   "source": [
    "f15NPI=loadfraudNPI(2015)\n",
    "fraud15df,map2015 =mapfrauddata (f15NPI,2015)\n",
    "len(fraud15df)"
   ]
  },
  {
   "cell_type": "code",
   "execution_count": 8,
   "metadata": {},
   "outputs": [
    {
     "data": {
      "text/plain": [
       "npi                         0\n",
       "type                        0\n",
       "gender                    267\n",
       "hcpcs_c                     0\n",
       "line_srvc_cnt               0\n",
       "bene_unique_cnt             0\n",
       "bene_day_srvc_cnt           0\n",
       "avg_allowed_amt             0\n",
       "avg_payment_amt             0\n",
       "avg_submitted_chrg_amt      0\n",
       "city                        0\n",
       "state                       0\n",
       "Fraud                       0\n",
       "dtype: int64"
      ]
     },
     "execution_count": 8,
     "metadata": {},
     "output_type": "execute_result"
    }
   ],
   "source": [
    "fraud15df.isnull().sum()"
   ]
  },
  {
   "cell_type": "markdown",
   "metadata": {},
   "source": [
    "### 2014"
   ]
  },
  {
   "cell_type": "code",
   "execution_count": 9,
   "metadata": {},
   "outputs": [
    {
     "name": "stdout",
     "output_type": "stream",
     "text": [
      "   Fraud_id_14\n",
      "0   1003811167\n",
      "1   1003817743\n",
      "2   1003822834\n",
      "3   1003859885\n",
      "4   1003878711\n",
      "The number of fraud NPI found in 2014 is 696.\n",
      "The number of raw data in 2014 is 9316308.\n",
      "Finished mapping.\n",
      "Done for mapping data for 2014 .\n",
      "dump fraud data in a pickle\n",
      "dump clean data in a pickle\n",
      "finished the process.\n"
     ]
    },
    {
     "data": {
      "text/plain": [
       "7993"
      ]
     },
     "execution_count": 9,
     "metadata": {},
     "output_type": "execute_result"
    }
   ],
   "source": [
    "f14NPI=loadfraudNPI(2014)\n",
    "fraud14df,map2014 =mapfrauddata (f14NPI,2014)\n",
    "len(fraud14df)"
   ]
  },
  {
   "cell_type": "code",
   "execution_count": 10,
   "metadata": {},
   "outputs": [
    {
     "data": {
      "text/plain": [
       "npi                         0\n",
       "type                        0\n",
       "gender                    423\n",
       "hcpcs_c                     0\n",
       "line_srvc_cnt               0\n",
       "bene_unique_cnt             0\n",
       "bene_day_srvc_cnt           0\n",
       "avg_allowed_amt             0\n",
       "avg_payment_amt             0\n",
       "avg_submitted_chrg_amt      0\n",
       "city                        0\n",
       "state                       0\n",
       "Fraud                       0\n",
       "dtype: int64"
      ]
     },
     "execution_count": 10,
     "metadata": {},
     "output_type": "execute_result"
    }
   ],
   "source": [
    "fraud14df.isnull().sum()"
   ]
  },
  {
   "cell_type": "markdown",
   "metadata": {},
   "source": [
    "### 2013"
   ]
  },
  {
   "cell_type": "code",
   "execution_count": 11,
   "metadata": {},
   "outputs": [
    {
     "name": "stdout",
     "output_type": "stream",
     "text": [
      "   Fraud_id_13\n",
      "0   1003042441\n",
      "1   1003809195\n",
      "2   1003811167\n",
      "3   1003817743\n",
      "4   1003822834\n",
      "The number of fraud NPI found in 2013 is 906.\n",
      "The number of raw data in 2013 is 9287877.\n",
      "Finished mapping.\n",
      "Done for mapping data for 2013 .\n",
      "dump fraud data in a pickle\n",
      "dump clean data in a pickle\n",
      "finished the process.\n"
     ]
    },
    {
     "data": {
      "text/plain": [
       "10817"
      ]
     },
     "execution_count": 11,
     "metadata": {},
     "output_type": "execute_result"
    }
   ],
   "source": [
    "f13NPI=loadfraudNPI(2013)\n",
    "fraud13df,map2013=mapfrauddata (f13NPI,2013)\n",
    "len(fraud13df)"
   ]
  },
  {
   "cell_type": "code",
   "execution_count": 12,
   "metadata": {},
   "outputs": [
    {
     "data": {
      "text/plain": [
       "npi                         0\n",
       "type                        0\n",
       "gender                    534\n",
       "hcpcs_c                     0\n",
       "line_srvc_cnt               0\n",
       "bene_unique_cnt             0\n",
       "bene_day_srvc_cnt           0\n",
       "avg_allowed_amt             0\n",
       "avg_payment_amt             0\n",
       "avg_submitted_chrg_amt      0\n",
       "city                        0\n",
       "state                       0\n",
       "Fraud                       0\n",
       "dtype: int64"
      ]
     },
     "execution_count": 12,
     "metadata": {},
     "output_type": "execute_result"
    }
   ],
   "source": [
    "fraud13df.isnull().sum()"
   ]
  },
  {
   "cell_type": "markdown",
   "metadata": {},
   "source": [
    "### 2012"
   ]
  },
  {
   "cell_type": "code",
   "execution_count": 13,
   "metadata": {},
   "outputs": [
    {
     "name": "stdout",
     "output_type": "stream",
     "text": [
      "   Fraud_id_12\n",
      "0   1003809195\n",
      "1   1003811167\n",
      "2   1003817743\n",
      "3   1003822834\n",
      "4   1003838087\n",
      "The number of fraud NPI found in 2012 is 1149.\n",
      "The number of raw data in 2012 is 9153273.\n",
      "Finished mapping.\n",
      "Done for mapping data for 2012 .\n",
      "dump fraud data in a pickle\n",
      "dump clean data in a pickle\n",
      "finished the process.\n"
     ]
    },
    {
     "data": {
      "text/plain": [
       "13723"
      ]
     },
     "execution_count": 13,
     "metadata": {},
     "output_type": "execute_result"
    }
   ],
   "source": [
    "f12NPI=loadfraudNPI(2012)\n",
    "fraud12df,map2012 =mapfrauddata (f12NPI,2012)\n",
    "len(fraud12df)"
   ]
  },
  {
   "cell_type": "code",
   "execution_count": 14,
   "metadata": {},
   "outputs": [
    {
     "data": {
      "text/plain": [
       "npi                         0\n",
       "type                        0\n",
       "gender                    607\n",
       "hcpcs_c                     0\n",
       "line_srvc_cnt               0\n",
       "bene_unique_cnt             0\n",
       "bene_day_srvc_cnt           0\n",
       "avg_allowed_amt             0\n",
       "avg_payment_amt             0\n",
       "avg_submitted_chrg_amt      0\n",
       "city                        0\n",
       "state                       0\n",
       "Fraud                       0\n",
       "dtype: int64"
      ]
     },
     "execution_count": 14,
     "metadata": {},
     "output_type": "execute_result"
    }
   ],
   "source": [
    "fraud12df.isnull().sum()"
   ]
  },
  {
   "cell_type": "markdown",
   "metadata": {},
   "source": [
    "## Feature Engineering"
   ]
  },
  {
   "cell_type": "markdown",
   "metadata": {},
   "source": [
    "\n",
    "### Drop \"gender\" column and rows with Null values in map2016 data set (also do the same process for the other years) since I don't want to loss any fraud NPI records."
   ]
  },
  {
   "cell_type": "code",
   "execution_count": 99,
   "metadata": {},
   "outputs": [],
   "source": [
    "#drop \"gender\" column from the map2016 data set. \n",
    "#return new df without gender column\n",
    "def refinedataset (df, year):\n",
    "    df=df.drop('gender',axis=1)\n",
    "    df = df.dropna(how='any',axis=0) \n",
    "    #after adding the fraud column in raw df, over write the raw pickle\n",
    "    print(\"dump data set in a pickle, over write the old raw df\")\n",
    "    df_pkl=open(str(\"map\"+str(year)+\"_pickle\"),\"wb\")\n",
    "    pickle.dump(df,df_pkl)\n",
    "    df_pkl.close()\n",
    "    print(\"overwritted the raw data set.\")\n",
    "    return (df)"
   ]
  },
  {
   "cell_type": "code",
   "execution_count": 100,
   "metadata": {},
   "outputs": [
    {
     "name": "stdout",
     "output_type": "stream",
     "text": [
      "dump data set in a pickle, over write the old raw df\n",
      "overwritted the raw data set.\n"
     ]
    }
   ],
   "source": [
    "#new raw data set dropped gender col\n",
    "map2016v1= refinedataset(map2016,2016)"
   ]
  },
  {
   "cell_type": "code",
   "execution_count": 101,
   "metadata": {},
   "outputs": [
    {
     "data": {
      "text/html": [
       "<div>\n",
       "<style scoped>\n",
       "    .dataframe tbody tr th:only-of-type {\n",
       "        vertical-align: middle;\n",
       "    }\n",
       "\n",
       "    .dataframe tbody tr th {\n",
       "        vertical-align: top;\n",
       "    }\n",
       "\n",
       "    .dataframe thead th {\n",
       "        text-align: right;\n",
       "    }\n",
       "</style>\n",
       "<table border=\"1\" class=\"dataframe\">\n",
       "  <thead>\n",
       "    <tr style=\"text-align: right;\">\n",
       "      <th></th>\n",
       "      <th>npi</th>\n",
       "      <th>type</th>\n",
       "      <th>hcpcs_c</th>\n",
       "      <th>line_srvc_cnt</th>\n",
       "      <th>bene_unique_cnt</th>\n",
       "      <th>bene_day_srvc_cnt</th>\n",
       "      <th>avg_allowed_amt</th>\n",
       "      <th>avg_payment_amt</th>\n",
       "      <th>avg_submitted_chrg_amt</th>\n",
       "      <th>city</th>\n",
       "      <th>state</th>\n",
       "      <th>Fraud</th>\n",
       "    </tr>\n",
       "  </thead>\n",
       "  <tbody>\n",
       "    <tr>\n",
       "      <th>1</th>\n",
       "      <td>1003000126</td>\n",
       "      <td>Internal Medicine</td>\n",
       "      <td>99217</td>\n",
       "      <td>57.0</td>\n",
       "      <td>55.0</td>\n",
       "      <td>57.0</td>\n",
       "      <td>72.743158</td>\n",
       "      <td>54.474386</td>\n",
       "      <td>325.157895</td>\n",
       "      <td>CUMBERLAND</td>\n",
       "      <td>MD</td>\n",
       "      <td>0</td>\n",
       "    </tr>\n",
       "    <tr>\n",
       "      <th>2</th>\n",
       "      <td>1003000126</td>\n",
       "      <td>Internal Medicine</td>\n",
       "      <td>99219</td>\n",
       "      <td>38.0</td>\n",
       "      <td>38.0</td>\n",
       "      <td>38.0</td>\n",
       "      <td>135.010000</td>\n",
       "      <td>105.850000</td>\n",
       "      <td>614.000000</td>\n",
       "      <td>CUMBERLAND</td>\n",
       "      <td>MD</td>\n",
       "      <td>0</td>\n",
       "    </tr>\n",
       "    <tr>\n",
       "      <th>3</th>\n",
       "      <td>1003000126</td>\n",
       "      <td>Internal Medicine</td>\n",
       "      <td>99220</td>\n",
       "      <td>23.0</td>\n",
       "      <td>23.0</td>\n",
       "      <td>23.0</td>\n",
       "      <td>189.239565</td>\n",
       "      <td>146.116522</td>\n",
       "      <td>769.347826</td>\n",
       "      <td>CUMBERLAND</td>\n",
       "      <td>MD</td>\n",
       "      <td>0</td>\n",
       "    </tr>\n",
       "    <tr>\n",
       "      <th>4</th>\n",
       "      <td>1003000126</td>\n",
       "      <td>Internal Medicine</td>\n",
       "      <td>99221</td>\n",
       "      <td>20.0</td>\n",
       "      <td>20.0</td>\n",
       "      <td>20.0</td>\n",
       "      <td>100.750000</td>\n",
       "      <td>78.990000</td>\n",
       "      <td>460.000000</td>\n",
       "      <td>CUMBERLAND</td>\n",
       "      <td>MD</td>\n",
       "      <td>0</td>\n",
       "    </tr>\n",
       "    <tr>\n",
       "      <th>5</th>\n",
       "      <td>1003000126</td>\n",
       "      <td>Internal Medicine</td>\n",
       "      <td>99222</td>\n",
       "      <td>96.0</td>\n",
       "      <td>87.0</td>\n",
       "      <td>96.0</td>\n",
       "      <td>136.250000</td>\n",
       "      <td>105.477604</td>\n",
       "      <td>625.000000</td>\n",
       "      <td>CUMBERLAND</td>\n",
       "      <td>MD</td>\n",
       "      <td>0</td>\n",
       "    </tr>\n",
       "  </tbody>\n",
       "</table>\n",
       "</div>"
      ],
      "text/plain": [
       "          npi               type hcpcs_c  line_srvc_cnt  bene_unique_cnt  \\\n",
       "1  1003000126  Internal Medicine   99217           57.0             55.0   \n",
       "2  1003000126  Internal Medicine   99219           38.0             38.0   \n",
       "3  1003000126  Internal Medicine   99220           23.0             23.0   \n",
       "4  1003000126  Internal Medicine   99221           20.0             20.0   \n",
       "5  1003000126  Internal Medicine   99222           96.0             87.0   \n",
       "\n",
       "   bene_day_srvc_cnt  avg_allowed_amt  avg_payment_amt  \\\n",
       "1               57.0        72.743158        54.474386   \n",
       "2               38.0       135.010000       105.850000   \n",
       "3               23.0       189.239565       146.116522   \n",
       "4               20.0       100.750000        78.990000   \n",
       "5               96.0       136.250000       105.477604   \n",
       "\n",
       "   avg_submitted_chrg_amt        city state  Fraud  \n",
       "1              325.157895  CUMBERLAND    MD      0  \n",
       "2              614.000000  CUMBERLAND    MD      0  \n",
       "3              769.347826  CUMBERLAND    MD      0  \n",
       "4              460.000000  CUMBERLAND    MD      0  \n",
       "5              625.000000  CUMBERLAND    MD      0  "
      ]
     },
     "execution_count": 101,
     "metadata": {},
     "output_type": "execute_result"
    }
   ],
   "source": [
    "map2016v1.head()"
   ]
  },
  {
   "cell_type": "code",
   "execution_count": 102,
   "metadata": {},
   "outputs": [
    {
     "name": "stdout",
     "output_type": "stream",
     "text": [
      "dump data set in a pickle, over write the old raw df\n",
      "overwritted the raw data set.\n",
      "dump data set in a pickle, over write the old raw df\n",
      "overwritted the raw data set.\n",
      "dump data set in a pickle, over write the old raw df\n",
      "overwritted the raw data set.\n",
      "dump data set in a pickle, over write the old raw df\n",
      "overwritted the raw data set.\n"
     ]
    }
   ],
   "source": [
    "map2015v1= refinedataset(map2015,2015)\n",
    "map2014v1= refinedataset(map2014,2014)\n",
    "map2013v1= refinedataset(map2013,2013)\n",
    "map2012v1= refinedataset(map2012,2012)"
   ]
  },
  {
   "cell_type": "code",
   "execution_count": 103,
   "metadata": {},
   "outputs": [
    {
     "data": {
      "text/plain": [
       "False"
      ]
     },
     "execution_count": 103,
     "metadata": {},
     "output_type": "execute_result"
    }
   ],
   "source": [
    "#check NUll in data set\n",
    "map2016v1.isnull().values.any()"
   ]
  },
  {
   "cell_type": "code",
   "execution_count": 104,
   "metadata": {},
   "outputs": [
    {
     "data": {
      "text/plain": [
       "False"
      ]
     },
     "execution_count": 104,
     "metadata": {},
     "output_type": "execute_result"
    }
   ],
   "source": [
    "map2015v1.isnull().values.any()"
   ]
  },
  {
   "cell_type": "code",
   "execution_count": 105,
   "metadata": {},
   "outputs": [
    {
     "data": {
      "text/plain": [
       "False"
      ]
     },
     "execution_count": 105,
     "metadata": {},
     "output_type": "execute_result"
    }
   ],
   "source": [
    "map2014v1.isnull().values.any()"
   ]
  },
  {
   "cell_type": "code",
   "execution_count": 106,
   "metadata": {},
   "outputs": [
    {
     "data": {
      "text/plain": [
       "False"
      ]
     },
     "execution_count": 106,
     "metadata": {},
     "output_type": "execute_result"
    }
   ],
   "source": [
    "map2013v1.isnull().values.any()"
   ]
  },
  {
   "cell_type": "code",
   "execution_count": 107,
   "metadata": {},
   "outputs": [
    {
     "data": {
      "text/plain": [
       "False"
      ]
     },
     "execution_count": 107,
     "metadata": {},
     "output_type": "execute_result"
    }
   ],
   "source": [
    "map2012v1.isnull().values.any()"
   ]
  },
  {
   "cell_type": "markdown",
   "metadata": {},
   "source": [
    "### Comparing Fraud and Whole data sets"
   ]
  },
  {
   "cell_type": "markdown",
   "metadata": {},
   "source": [
    "There are non-numerical columns such as 'type', 'city' and 'state'. I want to see if there is neccery to keep all these columns.\n",
    "\n",
    "I checked the len for unique values for thoese 3 columns in a whole data set and fraud data set. If there are significian numbers of values drop between two data sets, that means the variable would have significan to dive fraud and non fraud data. "
   ]
  },
  {
   "cell_type": "markdown",
   "metadata": {},
   "source": [
    "### 2016"
   ]
  },
  {
   "cell_type": "code",
   "execution_count": 108,
   "metadata": {},
   "outputs": [
    {
     "data": {
      "text/plain": [
       "91"
      ]
     },
     "execution_count": 108,
     "metadata": {},
     "output_type": "execute_result"
    }
   ],
   "source": [
    "len(map2016v1['type'].unique())"
   ]
  },
  {
   "cell_type": "code",
   "execution_count": 109,
   "metadata": {},
   "outputs": [],
   "source": [
    "fraud16_pickle=open('fraud_2016_pickle','rb')\n",
    "fraud16df=pickle.load(fraud16_pickle)\n",
    "#fraud16df.head()"
   ]
  },
  {
   "cell_type": "code",
   "execution_count": 110,
   "metadata": {},
   "outputs": [
    {
     "data": {
      "text/plain": [
       "44"
      ]
     },
     "execution_count": 110,
     "metadata": {},
     "output_type": "execute_result"
    }
   ],
   "source": [
    "len(fraud16df['type'].unique())"
   ]
  },
  {
   "cell_type": "code",
   "execution_count": 111,
   "metadata": {},
   "outputs": [
    {
     "data": {
      "text/plain": [
       "12867"
      ]
     },
     "execution_count": 111,
     "metadata": {},
     "output_type": "execute_result"
    }
   ],
   "source": [
    "len(map2016v1['city'].unique())"
   ]
  },
  {
   "cell_type": "code",
   "execution_count": 112,
   "metadata": {},
   "outputs": [
    {
     "data": {
      "text/plain": [
       "236"
      ]
     },
     "execution_count": 112,
     "metadata": {},
     "output_type": "execute_result"
    }
   ],
   "source": [
    "len(fraud16df['city'].unique())"
   ]
  },
  {
   "cell_type": "code",
   "execution_count": 113,
   "metadata": {},
   "outputs": [
    {
     "data": {
      "text/plain": [
       "61"
      ]
     },
     "execution_count": 113,
     "metadata": {},
     "output_type": "execute_result"
    }
   ],
   "source": [
    "len(map2016v1['state'].unique())"
   ]
  },
  {
   "cell_type": "code",
   "execution_count": 114,
   "metadata": {},
   "outputs": [
    {
     "data": {
      "text/plain": [
       "43"
      ]
     },
     "execution_count": 114,
     "metadata": {},
     "output_type": "execute_result"
    }
   ],
   "source": [
    "len(fraud16df['state'].unique())"
   ]
  },
  {
   "cell_type": "markdown",
   "metadata": {},
   "source": [
    "#### 2015"
   ]
  },
  {
   "cell_type": "code",
   "execution_count": 115,
   "metadata": {},
   "outputs": [
    {
     "data": {
      "text/plain": [
       "91"
      ]
     },
     "execution_count": 115,
     "metadata": {},
     "output_type": "execute_result"
    }
   ],
   "source": [
    "len(map2015v1['type'].unique())"
   ]
  },
  {
   "cell_type": "code",
   "execution_count": 116,
   "metadata": {},
   "outputs": [],
   "source": [
    "fraud15_pickle=open('fraud_2015_pickle','rb')\n",
    "fraud15df=pickle.load(fraud15_pickle)\n",
    "#fraud16df.head()"
   ]
  },
  {
   "cell_type": "code",
   "execution_count": 117,
   "metadata": {},
   "outputs": [
    {
     "data": {
      "text/plain": [
       "47"
      ]
     },
     "execution_count": 117,
     "metadata": {},
     "output_type": "execute_result"
    }
   ],
   "source": [
    "len(fraud15df['type'].unique())"
   ]
  },
  {
   "cell_type": "code",
   "execution_count": 118,
   "metadata": {},
   "outputs": [
    {
     "data": {
      "text/plain": [
       "12838"
      ]
     },
     "execution_count": 118,
     "metadata": {},
     "output_type": "execute_result"
    }
   ],
   "source": [
    "len(map2015v1['city'].unique())"
   ]
  },
  {
   "cell_type": "code",
   "execution_count": 119,
   "metadata": {},
   "outputs": [
    {
     "data": {
      "text/plain": [
       "354"
      ]
     },
     "execution_count": 119,
     "metadata": {},
     "output_type": "execute_result"
    }
   ],
   "source": [
    "len(fraud15df['city'].unique())"
   ]
  },
  {
   "cell_type": "code",
   "execution_count": 120,
   "metadata": {},
   "outputs": [
    {
     "data": {
      "text/plain": [
       "61"
      ]
     },
     "execution_count": 120,
     "metadata": {},
     "output_type": "execute_result"
    }
   ],
   "source": [
    "len(map2015v1['state'].unique())"
   ]
  },
  {
   "cell_type": "code",
   "execution_count": 121,
   "metadata": {},
   "outputs": [
    {
     "data": {
      "text/plain": [
       "47"
      ]
     },
     "execution_count": 121,
     "metadata": {},
     "output_type": "execute_result"
    }
   ],
   "source": [
    "len(fraud15df['state'].unique())"
   ]
  },
  {
   "cell_type": "markdown",
   "metadata": {},
   "source": [
    "### 2014"
   ]
  },
  {
   "cell_type": "code",
   "execution_count": 122,
   "metadata": {},
   "outputs": [
    {
     "data": {
      "text/plain": [
       "91"
      ]
     },
     "execution_count": 122,
     "metadata": {},
     "output_type": "execute_result"
    }
   ],
   "source": [
    "len(map2014v1['type'].unique())"
   ]
  },
  {
   "cell_type": "code",
   "execution_count": 123,
   "metadata": {},
   "outputs": [],
   "source": [
    "fraud14_pickle=open('fraud_2014_pickle','rb')\n",
    "fraud14df=pickle.load(fraud14_pickle)\n",
    "#fraud14df.head()"
   ]
  },
  {
   "cell_type": "code",
   "execution_count": 124,
   "metadata": {},
   "outputs": [
    {
     "data": {
      "text/plain": [
       "54"
      ]
     },
     "execution_count": 124,
     "metadata": {},
     "output_type": "execute_result"
    }
   ],
   "source": [
    "len(fraud14df['type'].unique())"
   ]
  },
  {
   "cell_type": "code",
   "execution_count": 125,
   "metadata": {},
   "outputs": [
    {
     "data": {
      "text/plain": [
       "12837"
      ]
     },
     "execution_count": 125,
     "metadata": {},
     "output_type": "execute_result"
    }
   ],
   "source": [
    "len(map2014v1['city'].unique())"
   ]
  },
  {
   "cell_type": "code",
   "execution_count": 126,
   "metadata": {},
   "outputs": [
    {
     "data": {
      "text/plain": [
       "500"
      ]
     },
     "execution_count": 126,
     "metadata": {},
     "output_type": "execute_result"
    }
   ],
   "source": [
    "len(fraud14df['city'].unique())"
   ]
  },
  {
   "cell_type": "code",
   "execution_count": 127,
   "metadata": {},
   "outputs": [
    {
     "data": {
      "text/plain": [
       "61"
      ]
     },
     "execution_count": 127,
     "metadata": {},
     "output_type": "execute_result"
    }
   ],
   "source": [
    "len(map2014v1['state'].unique())"
   ]
  },
  {
   "cell_type": "code",
   "execution_count": 128,
   "metadata": {},
   "outputs": [
    {
     "data": {
      "text/plain": [
       "47"
      ]
     },
     "execution_count": 128,
     "metadata": {},
     "output_type": "execute_result"
    }
   ],
   "source": [
    "len(fraud14df['state'].unique())"
   ]
  },
  {
   "cell_type": "markdown",
   "metadata": {},
   "source": [
    "### 2013"
   ]
  },
  {
   "cell_type": "code",
   "execution_count": 129,
   "metadata": {},
   "outputs": [
    {
     "data": {
      "text/plain": [
       "90"
      ]
     },
     "execution_count": 129,
     "metadata": {},
     "output_type": "execute_result"
    }
   ],
   "source": [
    "len(map2013v1['type'].unique())"
   ]
  },
  {
   "cell_type": "code",
   "execution_count": 130,
   "metadata": {},
   "outputs": [],
   "source": [
    "fraud13_pickle=open('fraud_2013_pickle','rb')\n",
    "fraud13df=pickle.load(fraud13_pickle)\n",
    "#fraud13df.head()"
   ]
  },
  {
   "cell_type": "code",
   "execution_count": 131,
   "metadata": {},
   "outputs": [
    {
     "data": {
      "text/plain": [
       "54"
      ]
     },
     "execution_count": 131,
     "metadata": {},
     "output_type": "execute_result"
    }
   ],
   "source": [
    "len(fraud13df['type'].unique())"
   ]
  },
  {
   "cell_type": "code",
   "execution_count": 132,
   "metadata": {},
   "outputs": [
    {
     "data": {
      "text/plain": [
       "12834"
      ]
     },
     "execution_count": 132,
     "metadata": {},
     "output_type": "execute_result"
    }
   ],
   "source": [
    "len(map2013v1['city'].unique())"
   ]
  },
  {
   "cell_type": "code",
   "execution_count": 133,
   "metadata": {},
   "outputs": [
    {
     "data": {
      "text/plain": [
       "614"
      ]
     },
     "execution_count": 133,
     "metadata": {},
     "output_type": "execute_result"
    }
   ],
   "source": [
    "len(fraud13df['city'].unique())"
   ]
  },
  {
   "cell_type": "code",
   "execution_count": 134,
   "metadata": {},
   "outputs": [
    {
     "data": {
      "text/plain": [
       "61"
      ]
     },
     "execution_count": 134,
     "metadata": {},
     "output_type": "execute_result"
    }
   ],
   "source": [
    "len(map2013v1['state'].unique())"
   ]
  },
  {
   "cell_type": "code",
   "execution_count": 135,
   "metadata": {},
   "outputs": [
    {
     "data": {
      "text/plain": [
       "49"
      ]
     },
     "execution_count": 135,
     "metadata": {},
     "output_type": "execute_result"
    }
   ],
   "source": [
    "len(fraud13df['state'].unique())"
   ]
  },
  {
   "cell_type": "markdown",
   "metadata": {},
   "source": [
    "### 2012"
   ]
  },
  {
   "cell_type": "code",
   "execution_count": 140,
   "metadata": {},
   "outputs": [
    {
     "data": {
      "text/plain": [
       "89"
      ]
     },
     "execution_count": 140,
     "metadata": {},
     "output_type": "execute_result"
    }
   ],
   "source": [
    "len(map2012v1['type'].unique())"
   ]
  },
  {
   "cell_type": "code",
   "execution_count": 141,
   "metadata": {},
   "outputs": [],
   "source": [
    "fraud12_pickle=open('fraud_2012_pickle','rb')\n",
    "fraud12df=pickle.load(fraud12_pickle)\n",
    "#fraud12df.head()"
   ]
  },
  {
   "cell_type": "code",
   "execution_count": 142,
   "metadata": {},
   "outputs": [
    {
     "data": {
      "text/plain": [
       "58"
      ]
     },
     "execution_count": 142,
     "metadata": {},
     "output_type": "execute_result"
    }
   ],
   "source": [
    "len(fraud12df['type'].unique())"
   ]
  },
  {
   "cell_type": "code",
   "execution_count": 143,
   "metadata": {},
   "outputs": [
    {
     "data": {
      "text/plain": [
       "12780"
      ]
     },
     "execution_count": 143,
     "metadata": {},
     "output_type": "execute_result"
    }
   ],
   "source": [
    "len(map2012v1['city'].unique())"
   ]
  },
  {
   "cell_type": "code",
   "execution_count": 144,
   "metadata": {},
   "outputs": [
    {
     "data": {
      "text/plain": [
       "731"
      ]
     },
     "execution_count": 144,
     "metadata": {},
     "output_type": "execute_result"
    }
   ],
   "source": [
    "len(fraud12df['city'].unique())"
   ]
  },
  {
   "cell_type": "code",
   "execution_count": 145,
   "metadata": {},
   "outputs": [
    {
     "data": {
      "text/plain": [
       "61"
      ]
     },
     "execution_count": 145,
     "metadata": {},
     "output_type": "execute_result"
    }
   ],
   "source": [
    "len(map2012v1['state'].unique())"
   ]
  },
  {
   "cell_type": "code",
   "execution_count": 146,
   "metadata": {},
   "outputs": [
    {
     "data": {
      "text/plain": [
       "49"
      ]
     },
     "execution_count": 146,
     "metadata": {},
     "output_type": "execute_result"
    }
   ],
   "source": [
    "len(fraud12df['state'].unique())"
   ]
  },
  {
   "cell_type": "markdown",
   "metadata": {},
   "source": [
    "## Feature Engineering "
   ]
  },
  {
   "cell_type": "markdown",
   "metadata": {},
   "source": [
    "Looking for the commen values in columns 'type', 'city', and 'state' from Fraud data set in each year. \n",
    "\n",
    "fristly, I looked for the fraud NPI excludsive in years using backward method"
   ]
  },
  {
   "cell_type": "markdown",
   "metadata": {},
   "source": [
    "#### Fraud Only in 2015"
   ]
  },
  {
   "cell_type": "code",
   "execution_count": 147,
   "metadata": {},
   "outputs": [
    {
     "data": {
      "text/plain": [
       "281"
      ]
     },
     "execution_count": 147,
     "metadata": {},
     "output_type": "execute_result"
    }
   ],
   "source": [
    "f15npi=fraud15df.npi.unique()\n",
    "f16npi=fraud16df.npi.unique()\n",
    "fraud_2015only=[i for i, j in zip(f15npi,f16npi) if i != j]\n",
    "len(fraud_2015only)"
   ]
  },
  {
   "cell_type": "code",
   "execution_count": 148,
   "metadata": {},
   "outputs": [
    {
     "data": {
      "text/plain": [
       "3137"
      ]
     },
     "execution_count": 148,
     "metadata": {},
     "output_type": "execute_result"
    }
   ],
   "source": [
    "frauddf_2015only=fraud15df.loc[fraud15df['npi'].isin(fraud_2015only)]\n",
    "len(frauddf_2015only)"
   ]
  },
  {
   "cell_type": "markdown",
   "metadata": {},
   "source": [
    "#### Fraud Only in 2014"
   ]
  },
  {
   "cell_type": "code",
   "execution_count": 149,
   "metadata": {},
   "outputs": [
    {
     "data": {
      "text/plain": [
       "277"
      ]
     },
     "execution_count": 149,
     "metadata": {},
     "output_type": "execute_result"
    }
   ],
   "source": [
    "f14npi=fraud14df.npi.unique()\n",
    "temp=[i for i, j in zip(f14npi,f15npi) if i != j]\n",
    "fraud_2014only=[i for i, j in zip(temp,f16npi) if i != j]\n",
    "len(fraud_2014only)"
   ]
  },
  {
   "cell_type": "code",
   "execution_count": 150,
   "metadata": {},
   "outputs": [
    {
     "data": {
      "text/plain": [
       "3346"
      ]
     },
     "execution_count": 150,
     "metadata": {},
     "output_type": "execute_result"
    }
   ],
   "source": [
    "frauddf_2014only=fraud14df.loc[fraud14df['npi'].isin(fraud_2014only)]\n",
    "len(frauddf_2014only)"
   ]
  },
  {
   "cell_type": "markdown",
   "metadata": {},
   "source": [
    "#### Fraud Only in 2013"
   ]
  },
  {
   "cell_type": "code",
   "execution_count": 151,
   "metadata": {},
   "outputs": [
    {
     "data": {
      "text/plain": [
       "281"
      ]
     },
     "execution_count": 151,
     "metadata": {},
     "output_type": "execute_result"
    }
   ],
   "source": [
    "f13npi=fraud13df.npi.unique()\n",
    "temp=[i for i, j in zip(f13npi,f14npi) if i != j]\n",
    "temp=[i for i, j in zip(temp,f15npi) if i != j]\n",
    "fraud_2013only=[i for i, j in zip(temp,f16npi) if i != j]\n",
    "len(fraud_2013only)"
   ]
  },
  {
   "cell_type": "code",
   "execution_count": 152,
   "metadata": {},
   "outputs": [
    {
     "data": {
      "text/plain": [
       "3367"
      ]
     },
     "execution_count": 152,
     "metadata": {},
     "output_type": "execute_result"
    }
   ],
   "source": [
    "frauddf_2013only=fraud13df.loc[fraud13df['npi'].isin(fraud_2013only)]\n",
    "len(frauddf_2013only)"
   ]
  },
  {
   "cell_type": "markdown",
   "metadata": {},
   "source": [
    "#### Fraud Only in 2012"
   ]
  },
  {
   "cell_type": "code",
   "execution_count": 153,
   "metadata": {},
   "outputs": [
    {
     "data": {
      "text/plain": [
       "281"
      ]
     },
     "execution_count": 153,
     "metadata": {},
     "output_type": "execute_result"
    }
   ],
   "source": [
    "f12npi=fraud12df.npi.unique()\n",
    "temp=[i for i, j in zip(f12npi,f13npi) if i != j]\n",
    "temp=[i for i, j in zip(temp,f14npi) if i != j]\n",
    "temp=[i for i, j in zip(temp,f15npi) if i != j]\n",
    "fraud_2012only=[i for i, j in zip(temp,f16npi) if i != j]\n",
    "len(fraud_2012only)"
   ]
  },
  {
   "cell_type": "code",
   "execution_count": 154,
   "metadata": {},
   "outputs": [
    {
     "data": {
      "text/plain": [
       "3104"
      ]
     },
     "execution_count": 154,
     "metadata": {},
     "output_type": "execute_result"
    }
   ],
   "source": [
    "frauddf_2012only=fraud12df.loc[fraud12df['npi'].isin(fraud_2012only)]\n",
    "len(frauddf_2012only)"
   ]
  },
  {
   "cell_type": "markdown",
   "metadata": {},
   "source": [
    "### Map Categories data bewteen 2012 to 2015"
   ]
  },
  {
   "cell_type": "markdown",
   "metadata": {},
   "source": [
    "### Start with Fraud data sets"
   ]
  },
  {
   "cell_type": "code",
   "execution_count": 155,
   "metadata": {},
   "outputs": [],
   "source": [
    "fraud_12to15= [frauddf_2012only,frauddf_2013only,frauddf_2014only,frauddf_2015only]\n",
    "frauddf_12to15=pd.concat(fraud_12to15)"
   ]
  },
  {
   "cell_type": "code",
   "execution_count": 156,
   "metadata": {},
   "outputs": [
    {
     "data": {
      "text/plain": [
       "12954"
      ]
     },
     "execution_count": 156,
     "metadata": {},
     "output_type": "execute_result"
    }
   ],
   "source": [
    "len(frauddf_12to15)"
   ]
  },
  {
   "cell_type": "markdown",
   "metadata": {},
   "source": [
    "#### Mapping fraud data types"
   ]
  },
  {
   "cell_type": "code",
   "execution_count": 157,
   "metadata": {},
   "outputs": [
    {
     "data": {
      "text/plain": [
       "Internal Medicine                          3240\n",
       "Family Practice                            1841\n",
       "Cardiology                                  952\n",
       "Interventional Pain Management              885\n",
       "Podiatry                                    788\n",
       "Clinical Laboratory                         450\n",
       "Psychiatry                                  387\n",
       "Neurology                                   362\n",
       "General Practice                            294\n",
       "Physical Medicine and Rehabilitation        281\n",
       "Plastic and Reconstructive Surgery          273\n",
       "Obstetrics/Gynecology                       244\n",
       "Emergency Medicine                          234\n",
       "Pain Management                             222\n",
       "Hematology/Oncology                         210\n",
       "Nurse Practitioner                          206\n",
       "Physician Assistant                         195\n",
       "Dermatology                                 178\n",
       "Orthopedic Surgery                          172\n",
       "Ophthalmology                               171\n",
       "Otolaryngology                              168\n",
       "Neurosurgery                                149\n",
       "Medical Oncology                            129\n",
       "Anesthesiology                              109\n",
       "Chiropractic                                 67\n",
       "Gastroenterology                             64\n",
       "Geriatric Medicine                           64\n",
       "Optometry                                    64\n",
       "Physical Therapist                           56\n",
       "Allergy/Immunology                           51\n",
       "Pathology                                    45\n",
       "Independent Diagnostic Testing Facility      43\n",
       "Pediatric Medicine                           41\n",
       "Nephrology                                   37\n",
       "Diagnostic Radiology                         37\n",
       "CRNA                                         36\n",
       "Sports Medicine                              28\n",
       "Licensed Clinical Social Worker              26\n",
       "Pulmonary Disease                            23\n",
       "Nuclear Medicine                             22\n",
       "Hand Surgery                                 18\n",
       "Osteopathic Manipulative Medicine            18\n",
       "General Surgery                              17\n",
       "Clinical Psychologist                        17\n",
       "Ambulance Service Supplier                   14\n",
       "Urology                                      13\n",
       "Radiation Oncology                            5\n",
       "Endocrinology                                 3\n",
       "Thoracic Surgery                              2\n",
       "Neuropsychiatry                               1\n",
       "Oral Surgery (dentists only)                  1\n",
       "Speech Language Pathologist                   1\n",
       "Name: type, dtype: int64"
      ]
     },
     "execution_count": 157,
     "metadata": {},
     "output_type": "execute_result"
    }
   ],
   "source": [
    "frauddf_12to15.type.value_counts()"
   ]
  },
  {
   "cell_type": "code",
   "execution_count": 158,
   "metadata": {},
   "outputs": [
    {
     "data": {
      "text/plain": [
       "{'Internal Medicine': 0,\n",
       " 'Family Practice': 0,\n",
       " 'Cardiology': 1,\n",
       " 'Interventional Pain Management': 1,\n",
       " 'Podiatry': 1,\n",
       " 'Clinical Laboratory': 1,\n",
       " 'Psychiatry': 1,\n",
       " 'Neurology': 1,\n",
       " 'General Practice': 2,\n",
       " 'Physical Medicine and Rehabilitation': 2,\n",
       " 'Plastic and Reconstructive Surgery': 2,\n",
       " 'Obstetrics/Gynecology': 2,\n",
       " 'Emergency Medicine': 2,\n",
       " 'Pain Management': 2,\n",
       " 'Hematology/Oncology': 2,\n",
       " 'Nurse Practitioner': 2,\n",
       " 'Physician Assistant': 3,\n",
       " 'Dermatology': 3,\n",
       " 'Orthopedic Surgery': 3,\n",
       " 'Ophthalmology': 3,\n",
       " 'Otolaryngology': 3,\n",
       " 'Neurosurgery': 3,\n",
       " 'Medical Oncology': 3,\n",
       " 'Anesthesiology': 3,\n",
       " 'Chiropractic': 4,\n",
       " 'Gastroenterology': 4,\n",
       " 'Geriatric Medicine': 4,\n",
       " 'Optometry': 4,\n",
       " 'Physical Therapist': 4,\n",
       " 'Allergy/Immunology': 4,\n",
       " 'Pathology': 4,\n",
       " 'Independent Diagnostic Testing Facility': 4,\n",
       " 'Pediatric Medicine': 4,\n",
       " 'Nephrology': 4,\n",
       " 'Diagnostic Radiology': 4,\n",
       " 'CRNA': 4,\n",
       " 'Sports Medicine': 4,\n",
       " 'Licensed Clinical Social Worker': 4,\n",
       " 'Pulmonary Disease': 4,\n",
       " 'Nuclear Medicine': 4,\n",
       " 'Hand Surgery': 4,\n",
       " 'Osteopathic Manipulative Medicine': 4,\n",
       " 'General Surgery': 4,\n",
       " 'Clinical Psychologist': 4,\n",
       " 'Ambulance Service Supplier': 4,\n",
       " 'Urology': 4,\n",
       " 'Radiation Oncology': 5,\n",
       " 'Endocrinology': 5,\n",
       " 'Thoracic Surgery': 5,\n",
       " 'Neuropsychiatry': 5,\n",
       " 'Oral Surgery (dentists only)': 5}"
      ]
     },
     "execution_count": 158,
     "metadata": {},
     "output_type": "execute_result"
    }
   ],
   "source": [
    "fraudtypes=frauddf_12to15.type.value_counts().index\n",
    "maptype=[0,0,1,1,1,1,1,1,2,2,2,2,2,2,2,2,3,3,3,3,3,3,3,3,4,4,4,4,4,4,4,4,4,4,4,4,4,4,4,4,4,4,4,4,4,4,5,5,5,5,5]\n",
    "fraudtype_dict=dict(zip(fraudtypes, maptype))\n",
    "fraudtype_dict"
   ]
  },
  {
   "cell_type": "markdown",
   "metadata": {},
   "source": [
    "\n",
    "#### Mapping fraud data Cites"
   ]
  },
  {
   "cell_type": "code",
   "execution_count": 159,
   "metadata": {},
   "outputs": [
    {
     "data": {
      "text/plain": [
       "MOBILE                    548\n",
       "OCALA                     434\n",
       "WEBSTER                   415\n",
       "DETROIT                   276\n",
       "LAS VEGAS                 232\n",
       "HUNTINGTON                184\n",
       "MARIETTA                  173\n",
       "PATERSON                  173\n",
       "JOHNSTOWN                 171\n",
       "CHEVERLY                  159\n",
       "JACKSON                   152\n",
       "CHICAGO                   144\n",
       "COLUMBUS                  142\n",
       "LAREDO                    141\n",
       "LAKE CITY                 137\n",
       "HUNTSVILLE                127\n",
       "HOUSTON                   126\n",
       "THOMSON                   125\n",
       "JEFFERSON CITY            124\n",
       "ORANGEBURG                123\n",
       "LOUISVILLE                115\n",
       "JACKSONVILLE              113\n",
       "CRESTWOOD                 112\n",
       "BECKLEY                   108\n",
       "VERO BEACH                107\n",
       "TOLEDO                    104\n",
       "ANNISTON                  103\n",
       "HICKORY                   100\n",
       "WEST PALM BEACH            92\n",
       "PLATTSBURGH                91\n",
       "                         ... \n",
       "NORTON                      2\n",
       "HARRISBURG                  2\n",
       "YPSILANTI                   2\n",
       "BATAVIA                     1\n",
       "WICHITA                     1\n",
       "LAKE ELSINORE               1\n",
       "MAMARONECK                  1\n",
       "RANDALLSTOWN                1\n",
       "LITTLE CANADA               1\n",
       "BOULDER                     1\n",
       "BETHLEHEM                   1\n",
       "EAST MEADOW                 1\n",
       "LANCASTER                   1\n",
       "ROGERS                      1\n",
       "VAN NUYS                    1\n",
       "BENSALEM                    1\n",
       "ATLANTA                     1\n",
       "NORFOLK                     1\n",
       "PORT JEFFERSON STATION      1\n",
       "DES MOINES                  1\n",
       "DESOTO                      1\n",
       "MORRO BAY                   1\n",
       "FALL RIVER MILLS            1\n",
       "ROBSTOWN                    1\n",
       "LANSING                     1\n",
       "DOWNINGTOWN                 1\n",
       "NASHVILLE                   1\n",
       "ALBANY                      1\n",
       "WORCESTER                   1\n",
       "SCOTTSDALE                  1\n",
       "Name: city, Length: 397, dtype: int64"
      ]
     },
     "execution_count": 159,
     "metadata": {},
     "output_type": "execute_result"
    }
   ],
   "source": [
    "frauddf_12to15.city.value_counts()"
   ]
  },
  {
   "cell_type": "code",
   "execution_count": 160,
   "metadata": {},
   "outputs": [
    {
     "data": {
      "text/plain": [
       "{'MOBILE': 0,\n",
       " 'OCALA': 0,\n",
       " 'WEBSTER': 0,\n",
       " 'DETROIT': 1,\n",
       " 'LAS VEGAS': 1,\n",
       " 'HUNTINGTON': 2,\n",
       " 'MARIETTA': 2,\n",
       " 'PATERSON': 2,\n",
       " 'JOHNSTOWN': 2,\n",
       " 'CHEVERLY': 2,\n",
       " 'JACKSON': 2,\n",
       " 'CHICAGO': 2,\n",
       " 'COLUMBUS': 2,\n",
       " 'LAREDO': 2,\n",
       " 'LAKE CITY': 2,\n",
       " 'HUNTSVILLE': 2,\n",
       " 'HOUSTON': 2,\n",
       " 'THOMSON': 2,\n",
       " 'JEFFERSON CITY': 2,\n",
       " 'ORANGEBURG': 2,\n",
       " 'LOUISVILLE': 2,\n",
       " 'JACKSONVILLE': 2,\n",
       " 'CRESTWOOD': 2,\n",
       " 'BECKLEY': 2,\n",
       " 'VERO BEACH': 2,\n",
       " 'TOLEDO': 2,\n",
       " 'ANNISTON': 2,\n",
       " 'HICKORY': 2,\n",
       " 'WEST PALM BEACH': 3,\n",
       " 'PLATTSBURGH': 3,\n",
       " 'TOMS RIVER': 3,\n",
       " 'COLORADO SPRINGS': 3,\n",
       " 'OKLAHOMA CITY': 3,\n",
       " 'LILBURN': 3,\n",
       " 'FORT COLLINS': 3,\n",
       " 'NORTH ADAMS': 3,\n",
       " 'EL CAJON': 3,\n",
       " 'SOMERSET': 3,\n",
       " 'GLEN ALLEN': 3,\n",
       " 'DANVILLE': 3,\n",
       " 'MOUNT HOLLY': 3,\n",
       " 'RENO': 3,\n",
       " 'SYLVANIA': 3,\n",
       " 'SOUTHFIELD': 3,\n",
       " 'PHILA': 3,\n",
       " 'PHILADELPHIA': 3,\n",
       " 'PALM HARBOR': 3,\n",
       " 'FLORISSANT': 3,\n",
       " 'FRESNO': 3,\n",
       " 'GLADWIN': 3,\n",
       " 'SEA GIRT': 3,\n",
       " 'ROCKVILLE CTR': 3,\n",
       " 'SAGINAW': 3,\n",
       " 'SAINT LOUIS': 3,\n",
       " 'CHARLOTTESVILLE': 3,\n",
       " 'UPLAND': 3,\n",
       " 'UNION CITY': 3,\n",
       " 'BURLINGTON': 3,\n",
       " 'MARRERO': 3,\n",
       " 'NEW YORK': 3,\n",
       " 'SAINT LOUIS PARK': 3,\n",
       " 'GERMANTOWN': 3,\n",
       " 'BUNKER HILL': 3,\n",
       " 'BRONX': 3,\n",
       " 'ROSEVILLE': 3,\n",
       " 'BALTIMORE': 3,\n",
       " 'FITZGERALD': 3,\n",
       " 'BROOKLYN': 3,\n",
       " 'LEXINGTON': 3,\n",
       " 'HIALEAH': 3,\n",
       " 'CLEVELAND': 3,\n",
       " 'BARBOURSVILLE': 3,\n",
       " 'EAST ISLIP': 3,\n",
       " 'SMYRNA': 3,\n",
       " 'ELKTON': 3,\n",
       " 'BEVERLY HILLS': 3,\n",
       " 'NEW BERN': 3,\n",
       " 'FISHERS': 3,\n",
       " 'SAINT CROIX FALLS': 3,\n",
       " 'BLACKWOOD': 3,\n",
       " 'LOS ANGELES': 3,\n",
       " 'MILWAUKEE': 3,\n",
       " 'DAPHNE': 3,\n",
       " 'FAIRHOPE': 3,\n",
       " 'PERU': 3,\n",
       " 'LAKE CHARLES': 3,\n",
       " 'URBANA': 3,\n",
       " 'N MIAMI BEACH': 3,\n",
       " 'BUFFALO GROVE': 3,\n",
       " 'FALLBROOK': 3,\n",
       " 'CHAMA': 3,\n",
       " 'COEBURN': 3,\n",
       " 'WEST NEW YORK': 3,\n",
       " 'BURNSVILLE': 3,\n",
       " 'MEDIA': 3,\n",
       " 'BROWNSVILLE': 3,\n",
       " 'FAIR OAKS': 3,\n",
       " 'CHILLICOTHE': 3,\n",
       " 'CHESTERLAND': 3,\n",
       " 'MONTERRY': 3,\n",
       " 'LAKESIDE': 3,\n",
       " 'YUBA CITY': 3,\n",
       " 'AURORA': 3,\n",
       " 'CORPUS CHRISTI': 3,\n",
       " 'EAST HARTFORD': 3,\n",
       " 'CHATTANOOGA': 3,\n",
       " 'JASPER': 3,\n",
       " 'CHARLESTON': 3,\n",
       " 'DOVER': 3,\n",
       " 'CHRISTIANSTED ST CROIX': 3,\n",
       " 'WALNUT CREEK': 3,\n",
       " 'FREDERICKSBURG': 3,\n",
       " 'STATEN ISLAND': 3,\n",
       " 'GREENEVILLE': 3,\n",
       " 'STONEHAM': 3,\n",
       " 'SHEFFIELD': 3,\n",
       " 'ROCKFORD': 3,\n",
       " 'LITTLE ROCK': 3,\n",
       " 'KANSAS CITY': 3,\n",
       " 'PITTSBURGH': 3,\n",
       " 'CLINTON TWP': 3,\n",
       " 'ORANGE': 3,\n",
       " 'FLUSHING': 3,\n",
       " 'LEESBURG': 3,\n",
       " 'YORKVILLE': 3,\n",
       " 'MIAMI': 3,\n",
       " 'MONTCLAIR': 3,\n",
       " 'CLINTON TOWNSHIP': 3,\n",
       " 'ALBUQUERQUE': 3,\n",
       " 'FOUNTAIN VALLEY': 3,\n",
       " 'FREEHOLD': 3,\n",
       " 'MAHWAH': 3,\n",
       " 'KOKOMO': 3,\n",
       " 'FLINT': 3,\n",
       " 'BOUNTIFUL': 3,\n",
       " 'LITTLETON': 3,\n",
       " 'YORBA LINDA': 3,\n",
       " 'MOLINE': 3,\n",
       " 'ROCHESTER HILLS': 3,\n",
       " 'AIKEN': 3,\n",
       " 'MT PLEASANT': 3,\n",
       " 'INDIANAPOLIS': 3,\n",
       " 'ROCKVILLE': 3,\n",
       " 'SADDLE BROOK': 3,\n",
       " 'SALINAS': 3,\n",
       " 'POMPANO BEACH': 3,\n",
       " 'FAIRFIELD': 3,\n",
       " 'CANTON': 3,\n",
       " 'TAYLORSVILLE': 3,\n",
       " 'RUSSELL SPRINGS': 3,\n",
       " 'ANNAPOLIS': 3,\n",
       " 'OMAHA': 3,\n",
       " 'CHAMBLEE': 3,\n",
       " 'SUGAR LAND': 3,\n",
       " 'RANCHO MIRAGE': 3,\n",
       " 'DICKSON': 3,\n",
       " 'HOMEWOOD': 3,\n",
       " 'NEPTUNE BEACH': 3,\n",
       " 'AMERICAN FORK': 3,\n",
       " 'LOWVILLE': 3,\n",
       " 'SAINT PETERS': 3,\n",
       " 'RACINE': 3,\n",
       " 'NEWHALL': 3,\n",
       " 'PARSONS': 3,\n",
       " 'CANFIELD': 3,\n",
       " 'METAIRIE': 3,\n",
       " 'RICHMOND': 3,\n",
       " 'MURRIETA': 3,\n",
       " 'BLOOMFIELD HILLS': 3,\n",
       " 'COMMERCE TOWNSHIP': 3,\n",
       " 'CHAPARRAL': 3,\n",
       " 'EAST ORANGE': 3,\n",
       " 'UNIONTOWN': 3,\n",
       " 'VANCOUVER': 3,\n",
       " 'SKOKIE': 3,\n",
       " 'HOPKINSVILLE': 3,\n",
       " 'HYDEN': 3,\n",
       " 'SCRANTON': 3,\n",
       " 'PRINCETON': 3,\n",
       " 'DIAMOND BAR': 3,\n",
       " 'SAN JOSE': 3,\n",
       " 'KENNER': 3,\n",
       " 'NORWALK': 3,\n",
       " 'SYRACUSE': 3,\n",
       " 'BOSTON': 3,\n",
       " 'NEW IBERIA': 3,\n",
       " 'MOUNTAIN BRK': 3,\n",
       " 'STERLING HEIGHTS': 3,\n",
       " 'SALT LAKE CITY': 3,\n",
       " 'SANTA ROSA': 3,\n",
       " 'PEORIA': 3,\n",
       " 'MORRISONVILLE': 3,\n",
       " 'DEARBORN': 3,\n",
       " 'ABERDEEN': 3,\n",
       " 'WEST HOLLYWOOD': 3,\n",
       " 'BUFFALO': 3,\n",
       " 'HINCKLEY': 3,\n",
       " 'MOUNT CARMEL': 3,\n",
       " 'MILFORD': 3,\n",
       " 'BROWNWOOD': 3,\n",
       " 'COLUMBIA': 3,\n",
       " 'MCCOMB': 3,\n",
       " 'CLYDE': 3,\n",
       " 'MONROE TOWNSHIP': 3,\n",
       " 'ALBION': 3,\n",
       " 'PINEHUSRT': 3,\n",
       " 'CAMBRIDGE': 3,\n",
       " 'RUSSELLVILLE': 3,\n",
       " 'HANOVER': 3,\n",
       " 'MILLERSBURG': 3,\n",
       " 'BRIDGEPORT': 3,\n",
       " 'GOLDSBORO': 3,\n",
       " 'HENDERSONVILLE': 3,\n",
       " 'TILTONSVILLE': 3,\n",
       " 'WEST ORANGE': 3,\n",
       " 'ROCHESTER': 3,\n",
       " 'BEL AIR': 3,\n",
       " 'DENVER': 3,\n",
       " 'PARKERSBURG': 3,\n",
       " 'VIRGINIA BEACH': 3,\n",
       " 'BIRMINGHAM': 3,\n",
       " 'GRAND RAPIDS': 3,\n",
       " 'MODESTO': 3,\n",
       " 'AMITYVILLE': 3,\n",
       " 'PORTAGE': 3,\n",
       " 'RIDGEFIELD': 3,\n",
       " 'NEWPORT': 3,\n",
       " 'REDONDO BEACH': 3,\n",
       " 'MORRISTOWN': 3,\n",
       " 'SIOUX FALLS': 3,\n",
       " 'LAKELAND': 3,\n",
       " 'AMARILLO': 3,\n",
       " 'PHOENIX': 3,\n",
       " 'BLOOMINGDALE': 3,\n",
       " 'TAMPA': 3,\n",
       " 'BLUE SPRINGS': 3,\n",
       " 'SOUTH MIAMI': 3,\n",
       " 'KNOXVILLE': 3,\n",
       " 'SACRAMENTO': 3,\n",
       " 'HAMMOND': 3,\n",
       " 'UTICA': 3,\n",
       " 'VISALIA': 3,\n",
       " 'EMPORIA': 3,\n",
       " 'NORTHVALE': 3,\n",
       " 'CENTER LINE': 3,\n",
       " 'YONKERS': 3,\n",
       " 'MIDDLETOWN': 3,\n",
       " 'LENEXA': 3,\n",
       " 'TORRANCE': 3,\n",
       " 'ENCINO': 3,\n",
       " 'LACEY': 3,\n",
       " 'SAN RAMON': 3,\n",
       " 'WEST HEMPSTEAD': 3,\n",
       " 'CENTENNIAL': 3,\n",
       " 'PHENIX CITY': 3,\n",
       " 'BUTLER': 3,\n",
       " 'HAMTRAMCK': 3,\n",
       " 'GUAYNABO': 3,\n",
       " 'BRYAN': 3,\n",
       " 'GUILFORD': 3,\n",
       " 'WHITTIER': 3,\n",
       " 'PEMBROKE PINES': 3,\n",
       " 'PALO ALTO': 3,\n",
       " 'GREENBELT': 3,\n",
       " 'TROTWOOD': 3,\n",
       " 'STUART': 3,\n",
       " 'WESTERVILLE': 3,\n",
       " 'BUENA PARK': 3,\n",
       " 'AVONDALE': 3,\n",
       " 'TUCSON': 3,\n",
       " 'HAZEL CREST': 3,\n",
       " 'LITTLEFIELD': 3,\n",
       " 'TOMPKINSVILLE': 3,\n",
       " 'DEL RIO': 3,\n",
       " 'HOHENWALD': 3,\n",
       " 'KEARNY': 3,\n",
       " 'NEWARK': 3,\n",
       " 'FLANDERS': 3,\n",
       " 'OAK HILL': 3,\n",
       " 'ORLAND PARK': 3,\n",
       " 'ROTAN': 3,\n",
       " 'DELRAY BEACH': 3,\n",
       " 'FAR ROCKAWAY': 3,\n",
       " 'QUINCY': 3,\n",
       " 'MINNEAPOLIS': 3,\n",
       " 'PITTSFORD': 3,\n",
       " 'LEWISTON': 3,\n",
       " 'LEICESTER': 3,\n",
       " 'SILVER SPRING': 3,\n",
       " 'CHARLOTTE': 3,\n",
       " 'FAIRMONT': 3,\n",
       " 'AVON': 3,\n",
       " 'SALEM': 3,\n",
       " 'MONTGOMERY': 3,\n",
       " 'ORLANDO': 3,\n",
       " 'CARLSBAD': 3,\n",
       " 'LOCKPORT': 3,\n",
       " 'SAINT JOHNS': 3,\n",
       " 'BEREA': 3,\n",
       " 'BURBANK': 3,\n",
       " 'MANDEVILLE': 3,\n",
       " 'PERRY': 3,\n",
       " 'MOUNT VERNON': 3,\n",
       " 'FORTUNA': 3,\n",
       " 'MANALAPAN': 3,\n",
       " 'SUNRISE': 3,\n",
       " 'PIKEVILLE': 3,\n",
       " 'SHERMAN OAKS': 3,\n",
       " 'LARCHMONT': 3,\n",
       " 'HARTSDALE': 3,\n",
       " 'EL PASO': 3,\n",
       " 'WARREN': 3,\n",
       " 'SANDY': 3,\n",
       " 'REEDS SPRING': 3,\n",
       " 'TWIN FALLS': 3,\n",
       " 'SAN PEDRO': 3,\n",
       " 'PROVIDENCE': 3,\n",
       " 'CORAL GABLES': 3,\n",
       " 'FALLS CHURCH': 3,\n",
       " 'PAHRUMP': 3,\n",
       " 'HIXSON': 3,\n",
       " 'WAYNE': 3,\n",
       " 'DALLAS': 3,\n",
       " 'FERNDALE': 3,\n",
       " 'BARRINGTON': 3,\n",
       " 'ALPENA': 3,\n",
       " 'PLANO': 3,\n",
       " 'TUCUMCARI': 3,\n",
       " 'CUMBERLAND': 3,\n",
       " 'FREDERICK': 3,\n",
       " 'RALEIGH': 3,\n",
       " 'CAMDEN': 3,\n",
       " 'MURRAY': 3,\n",
       " 'GLENDALE': 3,\n",
       " 'VIENNA': 3,\n",
       " 'LOUISA': 3,\n",
       " 'RANDOLPH': 3,\n",
       " 'NORTH TONAWANDA': 3,\n",
       " 'TARZANA': 3,\n",
       " 'GRANITE CITY': 3,\n",
       " 'BRISTOL': 3,\n",
       " 'KATY': 3,\n",
       " 'SLC': 3,\n",
       " 'BELTSVILLE': 3,\n",
       " 'PORTLAND': 3,\n",
       " 'LATHAM': 3,\n",
       " 'SANTA CLARA': 3,\n",
       " 'SALISBURY': 3,\n",
       " 'SOMERSWORTH': 3,\n",
       " 'SLIDELL': 3,\n",
       " 'HYATTSVILLE': 3,\n",
       " 'OREM': 3,\n",
       " 'NORRIS CITY': 3,\n",
       " 'EUGENE': 3,\n",
       " 'BOCA RATON': 3,\n",
       " 'MADISON': 3,\n",
       " 'LIVINGSTON': 3,\n",
       " 'MC MINNVILLE': 3,\n",
       " 'DEL MAR': 3,\n",
       " 'GREENSBURG': 3,\n",
       " 'SEATTLE': 3,\n",
       " 'VANDALIA': 3,\n",
       " 'OAK PARK': 3,\n",
       " 'VERNON': 3,\n",
       " 'TULSA': 3,\n",
       " 'FRANKLIN': 3,\n",
       " 'COOPERSTOWN': 3,\n",
       " 'NORTON': 3,\n",
       " 'HARRISBURG': 3,\n",
       " 'YPSILANTI': 3,\n",
       " 'BATAVIA': 3,\n",
       " 'WICHITA': 3,\n",
       " 'LAKE ELSINORE': 3,\n",
       " 'MAMARONECK': 3,\n",
       " 'RANDALLSTOWN': 3,\n",
       " 'LITTLE CANADA': 3,\n",
       " 'BOULDER': 3,\n",
       " 'BETHLEHEM': 3,\n",
       " 'EAST MEADOW': 3,\n",
       " 'LANCASTER': 3,\n",
       " 'ROGERS': 3,\n",
       " 'VAN NUYS': 3,\n",
       " 'BENSALEM': 3,\n",
       " 'ATLANTA': 3,\n",
       " 'NORFOLK': 3,\n",
       " 'PORT JEFFERSON STATION': 3,\n",
       " 'DES MOINES': 3,\n",
       " 'DESOTO': 3,\n",
       " 'MORRO BAY': 3,\n",
       " 'FALL RIVER MILLS': 3,\n",
       " 'ROBSTOWN': 3,\n",
       " 'LANSING': 3,\n",
       " 'DOWNINGTOWN': 3,\n",
       " 'NASHVILLE': 3,\n",
       " 'ALBANY': 3,\n",
       " 'WORCESTER': 3,\n",
       " 'SCOTTSDALE': 3}"
      ]
     },
     "execution_count": 160,
     "metadata": {},
     "output_type": "execute_result"
    }
   ],
   "source": [
    "fraudcities=frauddf_12to15.city.value_counts().index\n",
    "mapcity1=[0,0,0,1,1,2,2,2,2,2,2,2,2,2,2,2,2,2,2,2,2,2,2,2,2,2,2,2]\n",
    "mapcity2=[3]*(397-len(mapcity1))\n",
    "mapcity=mapcity1+mapcity2\n",
    "fraudcity_dict=dict(zip(fraudcities, mapcity))\n",
    "fraudcity_dict"
   ]
  },
  {
   "cell_type": "markdown",
   "metadata": {},
   "source": [
    "#### Mapping fraud states"
   ]
  },
  {
   "cell_type": "code",
   "execution_count": 161,
   "metadata": {},
   "outputs": [
    {
     "data": {
      "text/plain": [
       "FL    1098\n",
       "AL     982\n",
       "CA     963\n",
       "MI     921\n",
       "TX     892\n",
       "NJ     685\n",
       "NY     649\n",
       "GA     604\n",
       "IL     584\n",
       "PA     491\n",
       "IN     459\n",
       "MD     410\n",
       "TN     375\n",
       "KY     350\n",
       "VA     340\n",
       "MO     340\n",
       "OH     316\n",
       "NV     299\n",
       "NC     290\n",
       "CO     235\n",
       "WV     235\n",
       "LA     182\n",
       "MA     156\n",
       "SC     150\n",
       "WI     130\n",
       "NM     113\n",
       "MS      93\n",
       "UT      92\n",
       "OK      89\n",
       "CT      80\n",
       "MN      65\n",
       "WA      51\n",
       "DE      37\n",
       "VI      35\n",
       "AR      33\n",
       "AZ      27\n",
       "NE      24\n",
       "KS      24\n",
       "ID      19\n",
       "SD      11\n",
       "PR       8\n",
       "ME       8\n",
       "RI       4\n",
       "OR       2\n",
       "NH       2\n",
       "IA       1\n",
       "Name: state, dtype: int64"
      ]
     },
     "execution_count": 161,
     "metadata": {},
     "output_type": "execute_result"
    }
   ],
   "source": [
    "frauddf_12to15.state.value_counts()"
   ]
  },
  {
   "cell_type": "code",
   "execution_count": 162,
   "metadata": {},
   "outputs": [
    {
     "data": {
      "text/plain": [
       "{'FL': 0,\n",
       " 'AL': 0,\n",
       " 'CA': 0,\n",
       " 'MI': 0,\n",
       " 'TX': 0,\n",
       " 'NJ': 1,\n",
       " 'NY': 1,\n",
       " 'GA': 1,\n",
       " 'IL': 1,\n",
       " 'PA': 2,\n",
       " 'IN': 2,\n",
       " 'MD': 2,\n",
       " 'TN': 2,\n",
       " 'KY': 2,\n",
       " 'VA': 2,\n",
       " 'MO': 2,\n",
       " 'OH': 2,\n",
       " 'NV': 3,\n",
       " 'NC': 3,\n",
       " 'CO': 3,\n",
       " 'WV': 3,\n",
       " 'LA': 3,\n",
       " 'MA': 3,\n",
       " 'SC': 3,\n",
       " 'WI': 3,\n",
       " 'NM': 3,\n",
       " 'MS': 4,\n",
       " 'UT': 4,\n",
       " 'OK': 4,\n",
       " 'CT': 4,\n",
       " 'MN': 4,\n",
       " 'WA': 4,\n",
       " 'DE': 4,\n",
       " 'VI': 4,\n",
       " 'AR': 4,\n",
       " 'AZ': 4,\n",
       " 'NE': 4,\n",
       " 'KS': 4,\n",
       " 'ID': 4,\n",
       " 'SD': 4,\n",
       " 'PR': 4,\n",
       " 'ME': 4,\n",
       " 'RI': 4,\n",
       " 'OR': 4,\n",
       " 'NH': 4,\n",
       " 'IA': 4}"
      ]
     },
     "execution_count": 162,
     "metadata": {},
     "output_type": "execute_result"
    }
   ],
   "source": [
    "fraudstates=frauddf_12to15.state.value_counts().index\n",
    "mapstate1=[0]*5\n",
    "mapstate2=[1]*4\n",
    "mapstate3=[2]*8\n",
    "mapstate4=[3]*9\n",
    "mapstate5=[4]*(len(fraudstates)-5-4-8-9)\n",
    "mapstate=mapstate1+mapstate2+mapstate3+mapstate4+mapstate5\n",
    "fraudstate_dict=dict(zip(fraudstates, mapstate))\n",
    "fraudstate_dict"
   ]
  },
  {
   "cell_type": "markdown",
   "metadata": {},
   "source": [
    "### Map in whole year data set"
   ]
  },
  {
   "cell_type": "code",
   "execution_count": 164,
   "metadata": {},
   "outputs": [],
   "source": [
    "def convert_to_category(year,fraudtypes,mapyear,fraudtype_dict, fraudcities,fraudcity_dict,fraudstates,fraudstate_dict):\n",
    "        #Map type\n",
    "        nonfraudtype_temp=mapyear[~mapyear.type.isin(fraudtypes)].type.unique()\n",
    "        maptype_temp=[6]*len(nonfraudtype_temp)\n",
    "        nonfraudtype_dict_temp=dict(zip(nonfraudtype_temp,maptype_temp))\n",
    "        fraudtype_dict_temp=fraudtype_dict\n",
    "        mapyear.type=mapyear.type.map(fraudtype_dict_temp)\n",
    "        mapyear=mapyear.dropna()\n",
    "        print(\"done for mapping types for \"+str(year))\n",
    "\n",
    "        nonfraudcity_temp=mapyear[~mapyear.city.isin(fraudcities)].city.unique()\n",
    "        mapcity_temp=[4]*len(nonfraudcity_temp)\n",
    "        nonfraudcity_dict_temp=dict(zip(nonfraudcity_temp,mapcity_temp))\n",
    "        #combine both fraud and non fraud type dict\n",
    "        fraudcity_dict_temp=fraudcity_dict\n",
    "        fraudcity_dict_temp.update(nonfraudcity_dict_temp)\n",
    "        mapyear.city=mapyear.city.map(fraudcity_dict_temp)\n",
    "        mapyear=mapyear.dropna()\n",
    "        print(\"done for mapping cities for \"+str(year))\n",
    "\n",
    "        #Map states\n",
    "        \n",
    "        nonfraudstate_temp=mapyear[~mapyear.state.isin(fraudstates)].state.unique()\n",
    "        mapstate_temp=[5]*len(nonfraudstate_temp)\n",
    "        nonfraudstate_dict_temp=dict(zip(nonfraudstate_temp,mapstate_temp))\n",
    "        #combine both fraud and non fraud state dict\n",
    "        fraudstate_dict_temp=fraudstate_dict\n",
    "        fraudstate_dict_temp.update(nonfraudstate_dict_temp)\n",
    "        mapyear.state=mapyear.state.map(fraudstate_dict_temp)\n",
    "        print(\"done for mapping states for \"+str(year))\n",
    "        \n",
    "        #final data set\n",
    "        print(mapyear.head())\n",
    "        \n",
    "        \n",
    "        #dump into picklle named \"conver2016_pickle\"\n",
    "        mapyear_pkl=open(\"convt\"+str(year)+\"_pickle\",\"wb\")\n",
    "        pickle.dump(mapyear,mapyear_pkl)\n",
    "        mapyear_pkl.close()\n",
    "        \n",
    "        print(\"Saved in pickle conver\"+str(year)+\"_pickle.\")"
   ]
  },
  {
   "cell_type": "markdown",
   "metadata": {},
   "source": [
    "### 2016"
   ]
  },
  {
   "cell_type": "code",
   "execution_count": 165,
   "metadata": {},
   "outputs": [
    {
     "name": "stdout",
     "output_type": "stream",
     "text": [
      "done for mapping types for 2016\n"
     ]
    },
    {
     "name": "stderr",
     "output_type": "stream",
     "text": [
      "C:\\Users\\czhu5\\Anaconda3\\lib\\site-packages\\pandas\\core\\generic.py:4405: SettingWithCopyWarning: \n",
      "A value is trying to be set on a copy of a slice from a DataFrame.\n",
      "Try using .loc[row_indexer,col_indexer] = value instead\n",
      "\n",
      "See the caveats in the documentation: http://pandas.pydata.org/pandas-docs/stable/indexing.html#indexing-view-versus-copy\n",
      "  self[name] = value\n"
     ]
    },
    {
     "name": "stdout",
     "output_type": "stream",
     "text": [
      "done for mapping cities for 2016\n",
      "done for mapping states for 2016\n",
      "          npi  type hcpcs_c  line_srvc_cnt  bene_unique_cnt  \\\n",
      "1  1003000126   0.0   99217           57.0             55.0   \n",
      "2  1003000126   0.0   99219           38.0             38.0   \n",
      "3  1003000126   0.0   99220           23.0             23.0   \n",
      "4  1003000126   0.0   99221           20.0             20.0   \n",
      "5  1003000126   0.0   99222           96.0             87.0   \n",
      "\n",
      "   bene_day_srvc_cnt  avg_allowed_amt  avg_payment_amt  \\\n",
      "1               57.0        72.743158        54.474386   \n",
      "2               38.0       135.010000       105.850000   \n",
      "3               23.0       189.239565       146.116522   \n",
      "4               20.0       100.750000        78.990000   \n",
      "5               96.0       136.250000       105.477604   \n",
      "\n",
      "   avg_submitted_chrg_amt  city  state  Fraud  \n",
      "1              325.157895     3      2      0  \n",
      "2              614.000000     3      2      0  \n",
      "3              769.347826     3      2      0  \n",
      "4              460.000000     3      2      0  \n",
      "5              625.000000     3      2      0  \n",
      "Saved in pickle conver2016_pickle.\n"
     ]
    }
   ],
   "source": [
    "convert_to_category(2016,fraudtypes,map2016v1,fraudtype_dict, fraudcities,fraudcity_dict,fraudstates,fraudstate_dict)"
   ]
  },
  {
   "cell_type": "markdown",
   "metadata": {},
   "source": [
    "### 2015"
   ]
  },
  {
   "cell_type": "code",
   "execution_count": 166,
   "metadata": {},
   "outputs": [
    {
     "name": "stdout",
     "output_type": "stream",
     "text": [
      "done for mapping types for 2015\n",
      "done for mapping cities for 2015\n",
      "done for mapping states for 2015\n",
      "          npi  type hcpcs_c  line_srvc_cnt  bene_unique_cnt  \\\n",
      "1  1003000126   0.0   99217           23.0             23.0   \n",
      "2  1003000126   0.0   99219           18.0             18.0   \n",
      "3  1003000126   0.0   99221           59.0             58.0   \n",
      "4  1003000126   0.0   99222          132.0            130.0   \n",
      "5  1003000126   0.0   99223          220.0            215.0   \n",
      "\n",
      "   bene_day_srvc_cnt  avg_allowed_amt  avg_payment_amt  \\\n",
      "1               23.0        72.680000        54.502609   \n",
      "2               18.0       135.850000       100.958889   \n",
      "3               59.0       101.365085        79.469661   \n",
      "4              132.0       139.010455       107.933409   \n",
      "5              220.0       205.185955       157.908955   \n",
      "\n",
      "   avg_submitted_chrg_amt  city  state  Fraud  \n",
      "1              328.000000     3      2      0  \n",
      "2              614.000000     3      2      0  \n",
      "3              333.288136     3      2      0  \n",
      "4              356.492424     3      2      0  \n",
      "5              631.186364     3      2      0  \n",
      "Saved in pickle conver2015_pickle.\n"
     ]
    }
   ],
   "source": [
    "convert_to_category(2015,fraudtypes,map2015v1,fraudtype_dict, fraudcities,fraudcity_dict,fraudstates,fraudstate_dict)"
   ]
  },
  {
   "cell_type": "markdown",
   "metadata": {},
   "source": [
    "### 2014"
   ]
  },
  {
   "cell_type": "code",
   "execution_count": 167,
   "metadata": {},
   "outputs": [
    {
     "name": "stdout",
     "output_type": "stream",
     "text": [
      "done for mapping types for 2014\n",
      "done for mapping cities for 2014\n",
      "done for mapping states for 2014\n",
      "          npi  type hcpcs_c  line_srvc_cnt  bene_unique_cnt  \\\n",
      "1  1003000126   0.0   99222          357.0            341.0   \n",
      "2  1003000126   0.0   99223           98.0             98.0   \n",
      "3  1003000126   0.0   99231          104.0             65.0   \n",
      "4  1003000126   0.0   99232         1418.0            596.0   \n",
      "5  1003000126   0.0   99233          175.0            104.0   \n",
      "\n",
      "   bene_day_srvc_cnt  avg_allowed_amt  avg_payment_amt  \\\n",
      "1              357.0           141.05       107.517871   \n",
      "2               98.0           207.79       152.551224   \n",
      "3              104.0            40.10        30.835385   \n",
      "4             1418.0            73.66        56.297757   \n",
      "5              175.0           106.12        82.398171   \n",
      "\n",
      "   avg_submitted_chrg_amt  city  state  Fraud  \n",
      "1              416.546218     3      2      0  \n",
      "2              611.000000     3      2      0  \n",
      "3              119.000000     3      2      0  \n",
      "4              217.000000     3      2      0  \n",
      "5              312.000000     3      2      0  \n",
      "Saved in pickle conver2014_pickle.\n"
     ]
    }
   ],
   "source": [
    "convert_to_category(2014,fraudtypes,map2014v1,fraudtype_dict, fraudcities,fraudcity_dict,fraudstates,fraudstate_dict)"
   ]
  },
  {
   "cell_type": "markdown",
   "metadata": {},
   "source": [
    "### 2013"
   ]
  },
  {
   "cell_type": "code",
   "execution_count": 168,
   "metadata": {},
   "outputs": [
    {
     "name": "stdout",
     "output_type": "stream",
     "text": [
      "done for mapping types for 2013\n",
      "done for mapping cities for 2013\n",
      "done for mapping states for 2013\n",
      "          npi  type hcpcs_c  line_srvc_cnt  bene_unique_cnt  \\\n",
      "1  1003000126   0.0   99222          142.0            138.0   \n",
      "2  1003000126   0.0   99223           96.0             95.0   \n",
      "3  1003000126   0.0   99231           61.0             47.0   \n",
      "4  1003000126   0.0   99232          777.0            381.0   \n",
      "5  1003000126   0.0   99233          170.0            106.0   \n",
      "\n",
      "   bene_day_srvc_cnt  avg_allowed_amt  avg_payment_amt  \\\n",
      "1              142.0       368.626761       104.299718   \n",
      "2               96.0       524.604167       155.901146   \n",
      "3               61.0        97.000000        30.065246   \n",
      "4              777.0       187.594595        55.091351   \n",
      "5              170.0       271.976471        80.641235   \n",
      "\n",
      "   avg_submitted_chrg_amt  city  state  Fraud  \n",
      "1              368.626761     3      2      0  \n",
      "2              524.604167     3      2      0  \n",
      "3               97.000000     3      2      0  \n",
      "4              187.594595     3      2      0  \n",
      "5              271.976471     3      2      0  \n",
      "Saved in pickle conver2013_pickle.\n"
     ]
    }
   ],
   "source": [
    "convert_to_category(2013,fraudtypes,map2013v1,fraudtype_dict, fraudcities,fraudcity_dict,fraudstates,fraudstate_dict)"
   ]
  },
  {
   "cell_type": "markdown",
   "metadata": {},
   "source": [
    "### 2012"
   ]
  },
  {
   "cell_type": "code",
   "execution_count": 169,
   "metadata": {},
   "outputs": [
    {
     "name": "stdout",
     "output_type": "stream",
     "text": [
      "done for mapping types for 2012\n",
      "done for mapping cities for 2012\n",
      "done for mapping states for 2012\n",
      "          npi  type hcpcs_c  line_srvc_cnt  bene_unique_cnt  \\\n",
      "1  1003000126   0.0   99222          115.0            112.0   \n",
      "2  1003000126   0.0   99223           93.0             88.0   \n",
      "3  1003000126   0.0   99231          111.0             83.0   \n",
      "4  1003000126   0.0   99232          544.0            295.0   \n",
      "5  1003000126   0.0   99233           75.0             55.0   \n",
      "\n",
      "   bene_day_srvc_cnt  avg_allowed_amt  avg_payment_amt  \\\n",
      "1              115.0           135.25       108.115652   \n",
      "2               93.0           198.59       158.870000   \n",
      "3              111.0            38.75        30.720721   \n",
      "4              544.0            70.95        56.655662   \n",
      "5               75.0           101.74        81.390000   \n",
      "\n",
      "   avg_submitted_chrg_amt  city  state  Fraud  \n",
      "1                   199.0     3      2      0  \n",
      "2                   291.0     3      2      0  \n",
      "3                    58.0     3      2      0  \n",
      "4                   105.0     3      2      0  \n",
      "5                   150.0     3      2      0  \n",
      "Saved in pickle conver2012_pickle.\n"
     ]
    }
   ],
   "source": [
    "convert_to_category(2012,fraudtypes,map2012v1,fraudtype_dict, fraudcities,fraudcity_dict,fraudstates,fraudstate_dict)"
   ]
  },
  {
   "cell_type": "code",
   "execution_count": null,
   "metadata": {},
   "outputs": [],
   "source": []
  },
  {
   "cell_type": "markdown",
   "metadata": {},
   "source": [
    "## Total number of pysicians between 2012-2016"
   ]
  },
  {
   "cell_type": "code",
   "execution_count": 193,
   "metadata": {},
   "outputs": [],
   "source": [
    "npi_2016=pd.DataFrame(map2016.npi.unique(),columns=['npi'])\n",
    "npi_2015=pd.DataFrame(map2015.npi.unique(),columns=['npi'])\n",
    "npi_2014=pd.DataFrame(map2014.npi.unique(),columns=['npi'])\n",
    "npi_2013=pd.DataFrame(map2013.npi.unique(),columns=['npi'])\n",
    "npi_2012=pd.DataFrame(map2012.npi.unique(),columns=['npi'])"
   ]
  },
  {
   "cell_type": "code",
   "execution_count": 195,
   "metadata": {},
   "outputs": [
    {
     "name": "stdout",
     "output_type": "stream",
     "text": [
      "1208122\n"
     ]
    }
   ],
   "source": [
    "total_id=pd.concat([npi_2016,npi_2015], axis=0, ignore_index=True)\n",
    "total_id=pd.concat([total_id,npi_2014], axis=0, ignore_index=True)\n",
    "total_id=pd.concat([total_id,npi_2013], axis=0, ignore_index=True)\n",
    "total_id=pd.concat([total_id,npi_2012], axis=0, ignore_index=True)\n",
    "print(len(total_id.npi.unique()))"
   ]
  },
  {
   "cell_type": "markdown",
   "metadata": {},
   "source": [
    "## Total number of fraud pysicians between 2012-2016"
   ]
  },
  {
   "cell_type": "code",
   "execution_count": 196,
   "metadata": {},
   "outputs": [
    {
     "name": "stdout",
     "output_type": "stream",
     "text": [
      "1231\n"
     ]
    }
   ],
   "source": [
    "fraud_12to16= [fraud12df,fraud13df,fraud14df,fraud15df,fraud16df]\n",
    "frauddf_12to16=pd.concat(fraud_12to16)\n",
    "print(len(frauddf_12to16.npi.unique()))"
   ]
  },
  {
   "cell_type": "markdown",
   "metadata": {},
   "source": [
    "## Crime Rate 2012-2016"
   ]
  },
  {
   "cell_type": "code",
   "execution_count": 197,
   "metadata": {},
   "outputs": [
    {
     "data": {
      "text/plain": [
       "0.0010189368292275118"
      ]
     },
     "execution_count": 197,
     "metadata": {},
     "output_type": "execute_result"
    }
   ],
   "source": [
    "len(frauddf_12to16.npi.unique())/len(total_id.npi.unique())"
   ]
  },
  {
   "cell_type": "code",
   "execution_count": null,
   "metadata": {},
   "outputs": [],
   "source": []
  }
 ],
 "metadata": {
  "kernelspec": {
   "display_name": "Python 3",
   "language": "python",
   "name": "python3"
  },
  "language_info": {
   "codemirror_mode": {
    "name": "ipython",
    "version": 3
   },
   "file_extension": ".py",
   "mimetype": "text/x-python",
   "name": "python",
   "nbconvert_exporter": "python",
   "pygments_lexer": "ipython3",
   "version": "3.7.2"
  }
 },
 "nbformat": 4,
 "nbformat_minor": 2
}
