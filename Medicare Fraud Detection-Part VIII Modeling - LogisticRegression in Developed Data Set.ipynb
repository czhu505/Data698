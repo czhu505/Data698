{
 "cells": [
  {
   "cell_type": "markdown",
   "metadata": {},
   "source": [
    "# Medicare Fraud Detection"
   ]
  },
  {
   "cell_type": "markdown",
   "metadata": {},
   "source": [
    "### Data 698: Data Science Research Project - Spring 2019"
   ]
  },
  {
   "cell_type": "markdown",
   "metadata": {},
   "source": [
    "### Student: Chunhui Zhu"
   ]
  },
  {
   "cell_type": "markdown",
   "metadata": {},
   "source": [
    "Medicare_Provider_Utilization_and_Payment_Data__Physician_and_Other_Supplier_PUF_CY2016.csv: https://data.cms.gov/Medicare-Physician-Supplier/Medicare-Provider-Utilization-and-Payment-Data-Phy/utc4-f9xp"
   ]
  },
  {
   "cell_type": "markdown",
   "metadata": {},
   "source": [
    "LEIE2019.csv: https://oig.hhs.gov/exclusions/exclusions_list.asp"
   ]
  },
  {
   "cell_type": "markdown",
   "metadata": {},
   "source": []
  },
  {
   "cell_type": "markdown",
   "metadata": {},
   "source": [
    "## Continouse from Part IV"
   ]
  },
  {
   "cell_type": "code",
   "execution_count": 1,
   "metadata": {},
   "outputs": [],
   "source": [
    "import pandas as pd\n",
    "import numpy as np\n",
    "import networkx as nx\n",
    "import matplotlib as plt\n",
    "from matplotlib import pyplot as plt\n",
    "\n",
    "import pickle\n",
    "from sklearn.model_selection import train_test_split\n",
    "\n",
    "import seaborn as sns\n",
    "%matplotlib inline\n",
    "from sklearn import preprocessing\n",
    "\n",
    "from sklearn import metrics"
   ]
  },
  {
   "cell_type": "markdown",
   "metadata": {},
   "source": [
    "### Apply ML in Developed Data Set "
   ]
  },
  {
   "cell_type": "markdown",
   "metadata": {},
   "source": [
    "devdata_topickle(df_clean2016_map_dev,\"df_clean2016_map_dev\")\n",
    "\n",
    "devdata_topickle(df_fraud2016_map_dev,\"df_fraud2016_map_dev\")"
   ]
  },
  {
   "cell_type": "code",
   "execution_count": 2,
   "metadata": {},
   "outputs": [],
   "source": [
    "df_pkl=open(\"df_clean2016_map_dev_pickle\",\"rb\")\n",
    "df_clean2016_map_dev=pickle.load(df_pkl)\n",
    "df_pkl.close()"
   ]
  },
  {
   "cell_type": "code",
   "execution_count": 3,
   "metadata": {},
   "outputs": [
    {
     "data": {
      "text/html": [
       "<div>\n",
       "<style scoped>\n",
       "    .dataframe tbody tr th:only-of-type {\n",
       "        vertical-align: middle;\n",
       "    }\n",
       "\n",
       "    .dataframe tbody tr th {\n",
       "        vertical-align: top;\n",
       "    }\n",
       "\n",
       "    .dataframe thead th {\n",
       "        text-align: right;\n",
       "    }\n",
       "</style>\n",
       "<table border=\"1\" class=\"dataframe\">\n",
       "  <thead>\n",
       "    <tr style=\"text-align: right;\">\n",
       "      <th></th>\n",
       "      <th>npi</th>\n",
       "      <th>type</th>\n",
       "      <th>gender</th>\n",
       "      <th>hcpcs_c</th>\n",
       "      <th>line_srvc_cnt</th>\n",
       "      <th>bene_unique_cnt</th>\n",
       "      <th>bene_day_srvc_cnt</th>\n",
       "      <th>avg_allowed_amt</th>\n",
       "      <th>avg_payment_amt</th>\n",
       "      <th>avg_submitted_chrg_amt</th>\n",
       "      <th>city</th>\n",
       "      <th>state</th>\n",
       "      <th>Fraud</th>\n",
       "      <th>diff_line_srvc_cnt</th>\n",
       "      <th>diff_bene_day_srvc_cnt</th>\n",
       "      <th>diff_avg_submitted_chrg_amt</th>\n",
       "    </tr>\n",
       "  </thead>\n",
       "  <tbody>\n",
       "    <tr>\n",
       "      <th>0</th>\n",
       "      <td>1003000126</td>\n",
       "      <td>0.0</td>\n",
       "      <td>M</td>\n",
       "      <td>99217</td>\n",
       "      <td>23.0</td>\n",
       "      <td>23.0</td>\n",
       "      <td>23.0</td>\n",
       "      <td>72.680000</td>\n",
       "      <td>54.502609</td>\n",
       "      <td>328.000000</td>\n",
       "      <td>3</td>\n",
       "      <td>2</td>\n",
       "      <td>0</td>\n",
       "      <td>-128.793615</td>\n",
       "      <td>-115.933584</td>\n",
       "      <td>166.338604</td>\n",
       "    </tr>\n",
       "    <tr>\n",
       "      <th>1</th>\n",
       "      <td>1003000126</td>\n",
       "      <td>0.0</td>\n",
       "      <td>M</td>\n",
       "      <td>99219</td>\n",
       "      <td>18.0</td>\n",
       "      <td>18.0</td>\n",
       "      <td>18.0</td>\n",
       "      <td>135.850000</td>\n",
       "      <td>100.958889</td>\n",
       "      <td>614.000000</td>\n",
       "      <td>3</td>\n",
       "      <td>2</td>\n",
       "      <td>0</td>\n",
       "      <td>-133.793615</td>\n",
       "      <td>-120.933584</td>\n",
       "      <td>452.338604</td>\n",
       "    </tr>\n",
       "    <tr>\n",
       "      <th>2</th>\n",
       "      <td>1003000126</td>\n",
       "      <td>0.0</td>\n",
       "      <td>M</td>\n",
       "      <td>99221</td>\n",
       "      <td>59.0</td>\n",
       "      <td>58.0</td>\n",
       "      <td>59.0</td>\n",
       "      <td>101.365085</td>\n",
       "      <td>79.469661</td>\n",
       "      <td>333.288136</td>\n",
       "      <td>3</td>\n",
       "      <td>2</td>\n",
       "      <td>0</td>\n",
       "      <td>-92.793615</td>\n",
       "      <td>-79.933584</td>\n",
       "      <td>171.626740</td>\n",
       "    </tr>\n",
       "    <tr>\n",
       "      <th>3</th>\n",
       "      <td>1003000126</td>\n",
       "      <td>0.0</td>\n",
       "      <td>M</td>\n",
       "      <td>99222</td>\n",
       "      <td>132.0</td>\n",
       "      <td>130.0</td>\n",
       "      <td>132.0</td>\n",
       "      <td>139.010455</td>\n",
       "      <td>107.933409</td>\n",
       "      <td>356.492424</td>\n",
       "      <td>3</td>\n",
       "      <td>2</td>\n",
       "      <td>0</td>\n",
       "      <td>-19.793615</td>\n",
       "      <td>-6.933584</td>\n",
       "      <td>194.831028</td>\n",
       "    </tr>\n",
       "    <tr>\n",
       "      <th>4</th>\n",
       "      <td>1003000126</td>\n",
       "      <td>0.0</td>\n",
       "      <td>M</td>\n",
       "      <td>99223</td>\n",
       "      <td>220.0</td>\n",
       "      <td>215.0</td>\n",
       "      <td>220.0</td>\n",
       "      <td>205.185955</td>\n",
       "      <td>157.908955</td>\n",
       "      <td>631.186364</td>\n",
       "      <td>3</td>\n",
       "      <td>2</td>\n",
       "      <td>0</td>\n",
       "      <td>68.206385</td>\n",
       "      <td>81.066416</td>\n",
       "      <td>469.524968</td>\n",
       "    </tr>\n",
       "  </tbody>\n",
       "</table>\n",
       "</div>"
      ],
      "text/plain": [
       "          npi  type gender hcpcs_c  line_srvc_cnt  bene_unique_cnt  \\\n",
       "0  1003000126   0.0      M   99217           23.0             23.0   \n",
       "1  1003000126   0.0      M   99219           18.0             18.0   \n",
       "2  1003000126   0.0      M   99221           59.0             58.0   \n",
       "3  1003000126   0.0      M   99222          132.0            130.0   \n",
       "4  1003000126   0.0      M   99223          220.0            215.0   \n",
       "\n",
       "   bene_day_srvc_cnt  avg_allowed_amt  avg_payment_amt  \\\n",
       "0               23.0        72.680000        54.502609   \n",
       "1               18.0       135.850000       100.958889   \n",
       "2               59.0       101.365085        79.469661   \n",
       "3              132.0       139.010455       107.933409   \n",
       "4              220.0       205.185955       157.908955   \n",
       "\n",
       "   avg_submitted_chrg_amt  city  state  Fraud  diff_line_srvc_cnt  \\\n",
       "0              328.000000     3      2      0         -128.793615   \n",
       "1              614.000000     3      2      0         -133.793615   \n",
       "2              333.288136     3      2      0          -92.793615   \n",
       "3              356.492424     3      2      0          -19.793615   \n",
       "4              631.186364     3      2      0           68.206385   \n",
       "\n",
       "   diff_bene_day_srvc_cnt  diff_avg_submitted_chrg_amt  \n",
       "0             -115.933584                   166.338604  \n",
       "1             -120.933584                   452.338604  \n",
       "2              -79.933584                   171.626740  \n",
       "3               -6.933584                   194.831028  \n",
       "4               81.066416                   469.524968  "
      ]
     },
     "execution_count": 3,
     "metadata": {},
     "output_type": "execute_result"
    }
   ],
   "source": [
    "df_clean2016_map_dev.head()"
   ]
  },
  {
   "cell_type": "markdown",
   "metadata": {},
   "source": [
    "## Prepare for Training set and Test set"
   ]
  },
  {
   "cell_type": "markdown",
   "metadata": {},
   "source": [
    "### Use 2012-2015 as training data set, 2016 as testing data set"
   ]
  },
  {
   "cell_type": "code",
   "execution_count": 4,
   "metadata": {},
   "outputs": [],
   "source": [
    "#example pickle name df13_pickle\n",
    "def loaddf (name):\n",
    "    df_pkl=open(str(name),\"rb\")\n",
    "    df=pickle.load(df_pkl)\n",
    "    print(\"The number of rows in data set \"+str(name) + \" is \" + str(len(df)) + \".\")\n",
    "    df_pkl.close()\n",
    "\n",
    "    return (df)"
   ]
  },
  {
   "cell_type": "code",
   "execution_count": 5,
   "metadata": {},
   "outputs": [
    {
     "name": "stdout",
     "output_type": "stream",
     "text": [
      "The number of rows in data set df_clean2016_map_dev_pickle is 8616830.\n",
      "The number of rows in data set df_clean2015_map_dev_pickle is 8614233.\n",
      "The number of rows in data set df_clean2014_map_dev_pickle is 8518795.\n",
      "The number of rows in data set df_clean2013_map_dev_pickle is 8492184.\n",
      "The number of rows in data set df_clean2012_map_dev_pickle is 8394058.\n",
      "The number of rows in data set df_fraud2016_map_dev_pickle is 4785.\n",
      "The number of rows in data set df_fraud2015_map_dev_pickle is 4785.\n",
      "The number of rows in data set df_fraud2014_map_dev_pickle is 7502.\n",
      "The number of rows in data set df_fraud2013_map_dev_pickle is 10195.\n",
      "The number of rows in data set df_fraud2012_map_dev_pickle is 13012.\n"
     ]
    }
   ],
   "source": [
    "df_clean2016_map_dev = loaddf(\"df_clean2016_map_dev_pickle\")\n",
    "df_clean2015_map_dev = loaddf(\"df_clean2015_map_dev_pickle\")\n",
    "df_clean2014_map_dev = loaddf(\"df_clean2014_map_dev_pickle\")\n",
    "df_clean2013_map_dev = loaddf(\"df_clean2013_map_dev_pickle\")\n",
    "df_clean2012_map_dev = loaddf(\"df_clean2012_map_dev_pickle\")\n",
    "\n",
    "df_fraud2016_map_dev = loaddf(\"df_fraud2016_map_dev_pickle\")\n",
    "df_fraud2015_map_dev = loaddf(\"df_fraud2015_map_dev_pickle\")\n",
    "df_fraud2014_map_dev = loaddf(\"df_fraud2014_map_dev_pickle\")\n",
    "df_fraud2013_map_dev = loaddf(\"df_fraud2013_map_dev_pickle\")\n",
    "df_fraud2012_map_dev = loaddf(\"df_fraud2012_map_dev_pickle\")"
   ]
  },
  {
   "cell_type": "code",
   "execution_count": 6,
   "metadata": {},
   "outputs": [
    {
     "name": "stdout",
     "output_type": "stream",
     "text": [
      "34019270\n"
     ]
    }
   ],
   "source": [
    "df_clean2012to2015_devlist= [df_clean2015_map_dev,df_clean2014_map_dev,df_clean2013_map_dev,df_clean2012_map_dev]\n",
    "df_clean2012to2015_map_dev=pd.concat(df_clean2012to2015_devlist)\n",
    "print(len(df_clean2012to2015_map_dev))"
   ]
  },
  {
   "cell_type": "code",
   "execution_count": 7,
   "metadata": {},
   "outputs": [
    {
     "name": "stdout",
     "output_type": "stream",
     "text": [
      "35494\n"
     ]
    }
   ],
   "source": [
    "df_fraud2012to2015_devlist= [df_fraud2015_map_dev,df_fraud2014_map_dev,df_fraud2013_map_dev,df_fraud2012_map_dev]\n",
    "df_fraud2012to2015_map_dev=pd.concat(df_fraud2012to2015_devlist)\n",
    "print(len(df_fraud2012to2015_map_dev))"
   ]
  },
  {
   "cell_type": "markdown",
   "metadata": {},
   "source": [
    "### Exclude 2016 sampling data from 2012-2015 training set"
   ]
  },
  {
   "cell_type": "markdown",
   "metadata": {},
   "source": [
    "#### Ended in 2015, there is unkonw for the fraud in 2016. I exclusive the 2016 fraud from df_fraud2012to2015_1 data set."
   ]
  },
  {
   "cell_type": "code",
   "execution_count": 8,
   "metadata": {},
   "outputs": [
    {
     "data": {
      "text/plain": [
       "12287"
      ]
     },
     "execution_count": 8,
     "metadata": {},
     "output_type": "execute_result"
    }
   ],
   "source": [
    "df_fraud2012to2015_map_dev_only=df_fraud2012to2015_map_dev[~df_fraud2012to2015_map_dev.npi.isin(df_fraud2016_map_dev.npi.unique())]\n",
    "len(df_fraud2012to2015_map_dev_only)"
   ]
  },
  {
   "cell_type": "code",
   "execution_count": 9,
   "metadata": {},
   "outputs": [
    {
     "data": {
      "text/plain": [
       "34031557"
      ]
     },
     "execution_count": 9,
     "metadata": {},
     "output_type": "execute_result"
    }
   ],
   "source": [
    "df_2012to2015_map_dev=pd.concat([df_fraud2012to2015_map_dev_only,df_clean2012to2015_map_dev],axis=0)\n",
    "len(df_2012to2015_map_dev)"
   ]
  },
  {
   "cell_type": "code",
   "execution_count": 10,
   "metadata": {},
   "outputs": [
    {
     "data": {
      "text/plain": [
       "Index(['npi', 'type', 'gender', 'hcpcs_c', 'line_srvc_cnt', 'bene_unique_cnt',\n",
       "       'bene_day_srvc_cnt', 'avg_allowed_amt', 'avg_payment_amt',\n",
       "       'avg_submitted_chrg_amt', 'city', 'state', 'Fraud',\n",
       "       'diff_line_srvc_cnt', 'diff_bene_day_srvc_cnt',\n",
       "       'diff_avg_submitted_chrg_amt'],\n",
       "      dtype='object')"
      ]
     },
     "execution_count": 10,
     "metadata": {},
     "output_type": "execute_result"
    }
   ],
   "source": [
    "df_2012to2015_map_dev.columns"
   ]
  },
  {
   "cell_type": "markdown",
   "metadata": {},
   "source": [
    "### Ramdom Shuffle all rows using sample()"
   ]
  },
  {
   "cell_type": "markdown",
   "metadata": {},
   "source": [
    "#### Random sampling 1 million data from 2016 as test data, and exclusive them from training data set"
   ]
  },
  {
   "cell_type": "code",
   "execution_count": 11,
   "metadata": {},
   "outputs": [
    {
     "data": {
      "text/plain": [
       "8621615"
      ]
     },
     "execution_count": 11,
     "metadata": {},
     "output_type": "execute_result"
    }
   ],
   "source": [
    "df_2016_map_dev=pd.concat([df_fraud2016_map_dev,df_clean2016_map_dev],axis=0)\n",
    "df_2016_map_dev_shuffle=df_2016_map_dev.sample( frac = 1 )\n",
    "len(df_2016_map_dev)"
   ]
  },
  {
   "cell_type": "code",
   "execution_count": 12,
   "metadata": {},
   "outputs": [],
   "source": [
    "#random sampling 1 Million non-fraud ID from \n",
    "test_2016_map_dev_shuffle= df_2016_map_dev.sample(1000000, replace=True)"
   ]
  },
  {
   "cell_type": "code",
   "execution_count": 13,
   "metadata": {},
   "outputs": [
    {
     "data": {
      "text/plain": [
       "8854569"
      ]
     },
     "execution_count": 13,
     "metadata": {},
     "output_type": "execute_result"
    }
   ],
   "source": [
    "df_2012to2015_map_dev_only=df_2012to2015_map_dev[~df_2012to2015_map_dev.npi.isin(test_2016_map_dev_shuffle.npi.unique())]\n",
    "len(df_2012to2015_map_dev_only)"
   ]
  },
  {
   "cell_type": "code",
   "execution_count": 14,
   "metadata": {},
   "outputs": [],
   "source": [
    "train_2012to2015_map_dev_only_shuffle=df_2012to2015_map_dev_only.sample( frac = 1 )"
   ]
  },
  {
   "cell_type": "code",
   "execution_count": 15,
   "metadata": {},
   "outputs": [
    {
     "data": {
      "text/plain": [
       "Index(['npi', 'type', 'gender', 'hcpcs_c', 'line_srvc_cnt', 'bene_unique_cnt',\n",
       "       'bene_day_srvc_cnt', 'avg_allowed_amt', 'avg_payment_amt',\n",
       "       'avg_submitted_chrg_amt', 'city', 'state', 'Fraud',\n",
       "       'diff_line_srvc_cnt', 'diff_bene_day_srvc_cnt',\n",
       "       'diff_avg_submitted_chrg_amt'],\n",
       "      dtype='object')"
      ]
     },
     "execution_count": 15,
     "metadata": {},
     "output_type": "execute_result"
    }
   ],
   "source": [
    "train_2012to2015_map_dev_only_shuffle.columns"
   ]
  },
  {
   "cell_type": "code",
   "execution_count": 16,
   "metadata": {},
   "outputs": [
    {
     "data": {
      "text/plain": [
       "Index(['npi', 'type', 'gender', 'hcpcs_c', 'line_srvc_cnt', 'bene_unique_cnt',\n",
       "       'bene_day_srvc_cnt', 'avg_allowed_amt', 'avg_payment_amt',\n",
       "       'avg_submitted_chrg_amt', 'city', 'state', 'Fraud',\n",
       "       'diff_line_srvc_cnt', 'diff_bene_day_srvc_cnt',\n",
       "       'diff_avg_submitted_chrg_amt'],\n",
       "      dtype='object')"
      ]
     },
     "execution_count": 16,
     "metadata": {},
     "output_type": "execute_result"
    }
   ],
   "source": [
    "test_2016_map_dev_shuffle.columns"
   ]
  },
  {
   "cell_type": "markdown",
   "metadata": {},
   "source": [
    "#### Drop \"npi\" & \"hcpcs_c\""
   ]
  },
  {
   "cell_type": "code",
   "execution_count": 17,
   "metadata": {},
   "outputs": [],
   "source": [
    "train_2012to2015_map_dev_only_shuffle = train_2012to2015_map_dev_only_shuffle.drop(['npi', 'hcpcs_c','gender','bene_unique_cnt','avg_allowed_amt', 'avg_payment_amt'],axis=1)\n",
    "test_2016_map_dev_shuffle = test_2016_map_dev_shuffle.drop(['npi', 'hcpcs_c','gender','bene_unique_cnt','avg_allowed_amt', 'avg_payment_amt'],axis=1)"
   ]
  },
  {
   "cell_type": "code",
   "execution_count": 18,
   "metadata": {},
   "outputs": [
    {
     "name": "stdout",
     "output_type": "stream",
     "text": [
      "Fraud 0: 8842282\n",
      "Fraud 1: 12287\n",
      "Proportion: 719.65 : 1\n"
     ]
    },
    {
     "data": {
      "image/png": "[encoded data removed]",
      "text/plain": [
       "<Figure size 432x288 with 1 Axes>"
      ]
     },
     "metadata": {
      "needs_background": "light"
     },
     "output_type": "display_data"
    }
   ],
   "source": [
    "fraud_count = train_2012to2015_map_dev_only_shuffle.Fraud.value_counts()\n",
    "print('Fraud 0:', fraud_count[0])\n",
    "print('Fraud 1:', fraud_count[1])\n",
    "print('Proportion:', round(fraud_count[0] / fraud_count[1], 2), ': 1')\n",
    "\n",
    "fraud_count.plot(kind='bar', title='Count (Fraud) in 2012-2015');"
   ]
  },
  {
   "cell_type": "markdown",
   "metadata": {},
   "source": [
    "# Logistic Regression"
   ]
  },
  {
   "cell_type": "code",
   "execution_count": 19,
   "metadata": {},
   "outputs": [],
   "source": [
    "from sklearn.linear_model import LogisticRegression\n",
    "\n",
    "# instantiate the model (using the default parameters)\n",
    "logreg = LogisticRegression()"
   ]
  },
  {
   "cell_type": "code",
   "execution_count": 20,
   "metadata": {},
   "outputs": [],
   "source": [
    "df_x_train_shuffle = train_2012to2015_map_dev_only_shuffle.drop(columns=['Fraud'])"
   ]
  },
  {
   "cell_type": "code",
   "execution_count": 21,
   "metadata": {},
   "outputs": [],
   "source": [
    "df_y_train_shuffle = train_2012to2015_map_dev_only_shuffle.Fraud"
   ]
  },
  {
   "cell_type": "code",
   "execution_count": 22,
   "metadata": {},
   "outputs": [
    {
     "name": "stderr",
     "output_type": "stream",
     "text": [
      "C:\\Users\\czhu5\\Anaconda3\\lib\\site-packages\\sklearn\\linear_model\\logistic.py:433: FutureWarning: Default solver will be changed to 'lbfgs' in 0.22. Specify a solver to silence this warning.\n",
      "  FutureWarning)\n",
      "C:\\Users\\czhu5\\Anaconda3\\lib\\site-packages\\sklearn\\svm\\base.py:922: ConvergenceWarning: Liblinear failed to converge, increase the number of iterations.\n",
      "  \"the number of iterations.\", ConvergenceWarning)\n"
     ]
    },
    {
     "data": {
      "text/plain": [
       "LogisticRegression(C=1.0, class_weight=None, dual=False, fit_intercept=True,\n",
       "          intercept_scaling=1, max_iter=100, multi_class='warn',\n",
       "          n_jobs=None, penalty='l2', random_state=None, solver='warn',\n",
       "          tol=0.0001, verbose=0, warm_start=False)"
      ]
     },
     "execution_count": 22,
     "metadata": {},
     "output_type": "execute_result"
    }
   ],
   "source": [
    "# fit the model with data\n",
    "logreg.fit(df_x_train_shuffle,df_y_train_shuffle)"
   ]
  },
  {
   "cell_type": "code",
   "execution_count": 23,
   "metadata": {},
   "outputs": [],
   "source": [
    "df_x_test_shuffle=test_2016_map_dev_shuffle.drop(['Fraud'],axis=1)\n",
    "df_y_test_shuffle=test_2016_map_dev_shuffle.Fraud"
   ]
  },
  {
   "cell_type": "code",
   "execution_count": 24,
   "metadata": {},
   "outputs": [],
   "source": [
    "pred_y=logreg.predict(df_x_test_shuffle)"
   ]
  },
  {
   "cell_type": "code",
   "execution_count": 25,
   "metadata": {},
   "outputs": [
    {
     "data": {
      "text/plain": [
       "array([[999469,      0],\n",
       "       [   531,      0]], dtype=int64)"
      ]
     },
     "execution_count": 25,
     "metadata": {},
     "output_type": "execute_result"
    }
   ],
   "source": [
    "cnf_matrix = metrics.confusion_matrix(df_y_test_shuffle, pred_y)\n",
    "cnf_matrix"
   ]
  },
  {
   "cell_type": "code",
   "execution_count": 26,
   "metadata": {},
   "outputs": [
    {
     "data": {
      "text/plain": [
       "Text(0.5, 257.44, 'Predicted label')"
      ]
     },
     "execution_count": 26,
     "metadata": {},
     "output_type": "execute_result"
    },
    {
     "data": {
      "image/png": "[encoded data removed]",
      "text/plain": [
       "<Figure size 432x288 with 2 Axes>"
      ]
     },
     "metadata": {
      "needs_background": "light"
     },
     "output_type": "display_data"
    }
   ],
   "source": [
    "class_names=[0,1] # name  of classes\n",
    "fig, ax = plt.subplots()\n",
    "tick_marks = np.arange(len(class_names))\n",
    "plt.xticks(tick_marks, class_names)\n",
    "plt.yticks(tick_marks, class_names)\n",
    "# create heatmap\n",
    "sns.heatmap(pd.DataFrame(cnf_matrix), annot=True, cmap=\"YlGnBu\" ,fmt='g')\n",
    "ax.xaxis.set_label_position(\"top\")\n",
    "plt.tight_layout()\n",
    "plt.title('Confusion matrix', y=1.1)\n",
    "plt.ylabel('Actual label')\n",
    "plt.xlabel('Predicted label')"
   ]
  },
  {
   "cell_type": "code",
   "execution_count": 27,
   "metadata": {},
   "outputs": [
    {
     "name": "stdout",
     "output_type": "stream",
     "text": [
      "Accuracy: 0.999469\n"
     ]
    },
    {
     "name": "stderr",
     "output_type": "stream",
     "text": [
      "C:\\Users\\czhu5\\Anaconda3\\lib\\site-packages\\sklearn\\metrics\\classification.py:1143: UndefinedMetricWarning: Precision is ill-defined and being set to 0.0 due to no predicted samples.\n",
      "  'precision', 'predicted', average, warn_for)\n"
     ]
    },
    {
     "name": "stdout",
     "output_type": "stream",
     "text": [
      "Precision: 0.0\n",
      "Recall: 0.0\n"
     ]
    }
   ],
   "source": [
    "print(\"Accuracy:\",metrics.accuracy_score(df_y_test_shuffle, pred_y))\n",
    "print(\"Precision:\",metrics.precision_score(df_y_test_shuffle, pred_y))\n",
    "print(\"Recall:\",metrics.recall_score(df_y_test_shuffle, pred_y))"
   ]
  },
  {
   "cell_type": "markdown",
   "metadata": {},
   "source": [
    "### ROC Curve"
   ]
  },
  {
   "cell_type": "code",
   "execution_count": 28,
   "metadata": {},
   "outputs": [
    {
     "data": {
      "image/png": "[encoded data removed]",
      "text/plain": [
       "<Figure size 432x288 with 1 Axes>"
      ]
     },
     "metadata": {
      "needs_background": "light"
     },
     "output_type": "display_data"
    }
   ],
   "source": [
    "y_pred_proba = logreg.predict_proba(df_x_test_shuffle)[::,1]\n",
    "fpr, tpr, _ = metrics.roc_curve(df_y_test_shuffle,  y_pred_proba)\n",
    "auc = metrics.roc_auc_score(df_y_test_shuffle, y_pred_proba)\n",
    "plt.plot(fpr,tpr,label=\"data 1, auc=\"+str(auc))\n",
    "plt.legend(loc=4)\n",
    "plt.show()"
   ]
  },
  {
   "cell_type": "markdown",
   "metadata": {},
   "source": [
    "## Imbalanced-learn module - Over Sampling SMOTE (ratio =1.0)"
   ]
  },
  {
   "cell_type": "code",
   "execution_count": 29,
   "metadata": {},
   "outputs": [],
   "source": [
    "from imblearn.over_sampling import SMOTE"
   ]
  },
  {
   "cell_type": "code",
   "execution_count": 30,
   "metadata": {},
   "outputs": [],
   "source": [
    "sm = SMOTE(random_state=12, ratio = 1.0)\n",
    "x_train_sm, y_train_sm = sm.fit_sample(df_x_test_shuffle,df_y_test_shuffle)"
   ]
  },
  {
   "cell_type": "code",
   "execution_count": 31,
   "metadata": {},
   "outputs": [],
   "source": [
    "df_y_train_sm_resample=pd.DataFrame(y_train_sm)\n",
    "df_x_train_sm_resample=pd.DataFrame(x_train_sm)\n",
    "aftersample_2012to2015=pd.concat([df_x_train_sm_resample, df_y_train_sm_resample],axis=1)"
   ]
  },
  {
   "cell_type": "code",
   "execution_count": 32,
   "metadata": {},
   "outputs": [
    {
     "data": {
      "text/html": [
       "<div>\n",
       "<style scoped>\n",
       "    .dataframe tbody tr th:only-of-type {\n",
       "        vertical-align: middle;\n",
       "    }\n",
       "\n",
       "    .dataframe tbody tr th {\n",
       "        vertical-align: top;\n",
       "    }\n",
       "\n",
       "    .dataframe thead th {\n",
       "        text-align: right;\n",
       "    }\n",
       "</style>\n",
       "<table border=\"1\" class=\"dataframe\">\n",
       "  <thead>\n",
       "    <tr style=\"text-align: right;\">\n",
       "      <th></th>\n",
       "      <th>0</th>\n",
       "      <th>1</th>\n",
       "      <th>2</th>\n",
       "      <th>3</th>\n",
       "      <th>4</th>\n",
       "      <th>5</th>\n",
       "      <th>6</th>\n",
       "      <th>7</th>\n",
       "      <th>8</th>\n",
       "      <th>0</th>\n",
       "    </tr>\n",
       "  </thead>\n",
       "  <tbody>\n",
       "    <tr>\n",
       "      <th>0</th>\n",
       "      <td>0.0</td>\n",
       "      <td>622.0</td>\n",
       "      <td>622.0</td>\n",
       "      <td>140.000000</td>\n",
       "      <td>4.0</td>\n",
       "      <td>4.0</td>\n",
       "      <td>490.438935</td>\n",
       "      <td>508.346102</td>\n",
       "      <td>-30.351692</td>\n",
       "      <td>0</td>\n",
       "    </tr>\n",
       "    <tr>\n",
       "      <th>1</th>\n",
       "      <td>2.0</td>\n",
       "      <td>30.0</td>\n",
       "      <td>30.0</td>\n",
       "      <td>351.066667</td>\n",
       "      <td>4.0</td>\n",
       "      <td>4.0</td>\n",
       "      <td>-116.400389</td>\n",
       "      <td>-101.067305</td>\n",
       "      <td>-64.477720</td>\n",
       "      <td>0</td>\n",
       "    </tr>\n",
       "    <tr>\n",
       "      <th>2</th>\n",
       "      <td>3.0</td>\n",
       "      <td>125.0</td>\n",
       "      <td>125.0</td>\n",
       "      <td>224.000000</td>\n",
       "      <td>4.0</td>\n",
       "      <td>0.0</td>\n",
       "      <td>-1048.285949</td>\n",
       "      <td>-57.867339</td>\n",
       "      <td>-49.554222</td>\n",
       "      <td>0</td>\n",
       "    </tr>\n",
       "    <tr>\n",
       "      <th>3</th>\n",
       "      <td>0.0</td>\n",
       "      <td>28.0</td>\n",
       "      <td>28.0</td>\n",
       "      <td>219.000000</td>\n",
       "      <td>4.0</td>\n",
       "      <td>1.0</td>\n",
       "      <td>-83.345505</td>\n",
       "      <td>-71.936406</td>\n",
       "      <td>79.164403</td>\n",
       "      <td>0</td>\n",
       "    </tr>\n",
       "    <tr>\n",
       "      <th>4</th>\n",
       "      <td>3.0</td>\n",
       "      <td>25.0</td>\n",
       "      <td>25.0</td>\n",
       "      <td>854.810000</td>\n",
       "      <td>3.0</td>\n",
       "      <td>2.0</td>\n",
       "      <td>-55.307411</td>\n",
       "      <td>-43.858285</td>\n",
       "      <td>551.065758</td>\n",
       "      <td>0</td>\n",
       "    </tr>\n",
       "  </tbody>\n",
       "</table>\n",
       "</div>"
      ],
      "text/plain": [
       "     0      1      2           3    4    5            6           7  \\\n",
       "0  0.0  622.0  622.0  140.000000  4.0  4.0   490.438935  508.346102   \n",
       "1  2.0   30.0   30.0  351.066667  4.0  4.0  -116.400389 -101.067305   \n",
       "2  3.0  125.0  125.0  224.000000  4.0  0.0 -1048.285949  -57.867339   \n",
       "3  0.0   28.0   28.0  219.000000  4.0  1.0   -83.345505  -71.936406   \n",
       "4  3.0   25.0   25.0  854.810000  3.0  2.0   -55.307411  -43.858285   \n",
       "\n",
       "            8  0  \n",
       "0  -30.351692  0  \n",
       "1  -64.477720  0  \n",
       "2  -49.554222  0  \n",
       "3   79.164403  0  \n",
       "4  551.065758  0  "
      ]
     },
     "execution_count": 32,
     "metadata": {},
     "output_type": "execute_result"
    }
   ],
   "source": [
    "aftersample_2012to2015.head()"
   ]
  },
  {
   "cell_type": "code",
   "execution_count": 33,
   "metadata": {},
   "outputs": [
    {
     "name": "stdout",
     "output_type": "stream",
     "text": [
      "Fraud 0: 999469\n",
      "Fraud 1: 999469\n",
      "Proportion: 1.0 : 1\n"
     ]
    },
    {
     "data": {
      "image/png": "[encoded data removed]",
      "text/plain": [
       "<Figure size 432x288 with 1 Axes>"
      ]
     },
     "metadata": {
      "needs_background": "light"
     },
     "output_type": "display_data"
    }
   ],
   "source": [
    "fraud_count_aftersample = aftersample_2012to2015.iloc[:,-1].value_counts()\n",
    "print('Fraud 0:', fraud_count_aftersample [0])\n",
    "print('Fraud 1:', fraud_count_aftersample [1])\n",
    "print('Proportion:', round(fraud_count_aftersample [0] / fraud_count_aftersample [1], 2), ': 1')\n",
    "\n",
    "fraud_count_aftersample.plot(kind='bar', title='Count (Fraud) after sampling in 2012-2015');"
   ]
  },
  {
   "cell_type": "code",
   "execution_count": 34,
   "metadata": {},
   "outputs": [],
   "source": [
    "aftersample_2012to2015.columns=['type','line_srvc_cnt','bene_day_srvc_cnt','avg_submitted_chrg_amt','city','state','diff_line_srvc_cnt', 'diff_bene_day_srvc_cnt',\n",
    "       'diff_avg_submitted_chrg_amt','Fraud']"
   ]
  },
  {
   "cell_type": "code",
   "execution_count": 32,
   "metadata": {},
   "outputs": [
    {
     "data": {
      "text/html": [
       "<div>\n",
       "<style scoped>\n",
       "    .dataframe tbody tr th:only-of-type {\n",
       "        vertical-align: middle;\n",
       "    }\n",
       "\n",
       "    .dataframe tbody tr th {\n",
       "        vertical-align: top;\n",
       "    }\n",
       "\n",
       "    .dataframe thead th {\n",
       "        text-align: right;\n",
       "    }\n",
       "</style>\n",
       "<table border=\"1\" class=\"dataframe\">\n",
       "  <thead>\n",
       "    <tr style=\"text-align: right;\">\n",
       "      <th></th>\n",
       "      <th>type</th>\n",
       "      <th>line_srvc_cnt</th>\n",
       "      <th>bene_day_srvc_cnt</th>\n",
       "      <th>avg_submitted_chrg_amt</th>\n",
       "      <th>city</th>\n",
       "      <th>state</th>\n",
       "      <th>Fraud</th>\n",
       "    </tr>\n",
       "  </thead>\n",
       "  <tbody>\n",
       "    <tr>\n",
       "      <th>0</th>\n",
       "      <td>1.0</td>\n",
       "      <td>62.0</td>\n",
       "      <td>54.0</td>\n",
       "      <td>89.000000</td>\n",
       "      <td>4.0</td>\n",
       "      <td>0.0</td>\n",
       "      <td>0</td>\n",
       "    </tr>\n",
       "    <tr>\n",
       "      <th>1</th>\n",
       "      <td>4.0</td>\n",
       "      <td>62.0</td>\n",
       "      <td>62.0</td>\n",
       "      <td>325.300000</td>\n",
       "      <td>4.0</td>\n",
       "      <td>0.0</td>\n",
       "      <td>0</td>\n",
       "    </tr>\n",
       "    <tr>\n",
       "      <th>2</th>\n",
       "      <td>4.0</td>\n",
       "      <td>12.0</td>\n",
       "      <td>12.0</td>\n",
       "      <td>22.833333</td>\n",
       "      <td>4.0</td>\n",
       "      <td>0.0</td>\n",
       "      <td>0</td>\n",
       "    </tr>\n",
       "    <tr>\n",
       "      <th>3</th>\n",
       "      <td>4.0</td>\n",
       "      <td>23.0</td>\n",
       "      <td>23.0</td>\n",
       "      <td>217.000000</td>\n",
       "      <td>3.0</td>\n",
       "      <td>1.0</td>\n",
       "      <td>0</td>\n",
       "    </tr>\n",
       "    <tr>\n",
       "      <th>4</th>\n",
       "      <td>2.0</td>\n",
       "      <td>23.0</td>\n",
       "      <td>23.0</td>\n",
       "      <td>90.000000</td>\n",
       "      <td>4.0</td>\n",
       "      <td>0.0</td>\n",
       "      <td>0</td>\n",
       "    </tr>\n",
       "  </tbody>\n",
       "</table>\n",
       "</div>"
      ],
      "text/plain": [
       "   type  line_srvc_cnt  bene_day_srvc_cnt  avg_submitted_chrg_amt  city  \\\n",
       "0   1.0           62.0               54.0               89.000000   4.0   \n",
       "1   4.0           62.0               62.0              325.300000   4.0   \n",
       "2   4.0           12.0               12.0               22.833333   4.0   \n",
       "3   4.0           23.0               23.0              217.000000   3.0   \n",
       "4   2.0           23.0               23.0               90.000000   4.0   \n",
       "\n",
       "   state  Fraud  \n",
       "0    0.0      0  \n",
       "1    0.0      0  \n",
       "2    0.0      0  \n",
       "3    1.0      0  \n",
       "4    0.0      0  "
      ]
     },
     "execution_count": 32,
     "metadata": {},
     "output_type": "execute_result"
    }
   ],
   "source": [
    "aftersample_2012to2015.head()"
   ]
  },
  {
   "cell_type": "markdown",
   "metadata": {},
   "source": [
    "## Logistic Regression using Oversampls"
   ]
  },
  {
   "cell_type": "code",
   "execution_count": 35,
   "metadata": {},
   "outputs": [],
   "source": [
    "# instantiate the model (using the default parameters)\n",
    "logreg = LogisticRegression()"
   ]
  },
  {
   "cell_type": "code",
   "execution_count": 36,
   "metadata": {},
   "outputs": [
    {
     "name": "stderr",
     "output_type": "stream",
     "text": [
      "C:\\Users\\czhu5\\Anaconda3\\lib\\site-packages\\sklearn\\linear_model\\logistic.py:433: FutureWarning: Default solver will be changed to 'lbfgs' in 0.22. Specify a solver to silence this warning.\n",
      "  FutureWarning)\n",
      "C:\\Users\\czhu5\\Anaconda3\\lib\\site-packages\\sklearn\\utils\\validation.py:761: DataConversionWarning: A column-vector y was passed when a 1d array was expected. Please change the shape of y to (n_samples, ), for example using ravel().\n",
      "  y = column_or_1d(y, warn=True)\n"
     ]
    },
    {
     "data": {
      "text/plain": [
       "LogisticRegression(C=1.0, class_weight=None, dual=False, fit_intercept=True,\n",
       "          intercept_scaling=1, max_iter=100, multi_class='warn',\n",
       "          n_jobs=None, penalty='l2', random_state=None, solver='warn',\n",
       "          tol=0.0001, verbose=0, warm_start=False)"
      ]
     },
     "execution_count": 36,
     "metadata": {},
     "output_type": "execute_result"
    }
   ],
   "source": [
    "# fit the model with data\n",
    "logreg.fit(df_x_train_sm_resample,df_y_train_sm_resample)"
   ]
  },
  {
   "cell_type": "code",
   "execution_count": 37,
   "metadata": {},
   "outputs": [],
   "source": [
    "pred_y_oversample=logreg.predict(df_x_test_shuffle)"
   ]
  },
  {
   "cell_type": "code",
   "execution_count": 38,
   "metadata": {},
   "outputs": [
    {
     "data": {
      "text/plain": [
       "array([[770412, 229057],\n",
       "       [   186,    345]], dtype=int64)"
      ]
     },
     "execution_count": 38,
     "metadata": {},
     "output_type": "execute_result"
    }
   ],
   "source": [
    "cnf_matrix = metrics.confusion_matrix(df_y_test_shuffle, pred_y_oversample)\n",
    "cnf_matrix"
   ]
  },
  {
   "cell_type": "code",
   "execution_count": 39,
   "metadata": {},
   "outputs": [
    {
     "data": {
      "text/plain": [
       "Text(0.5, 257.44, 'Predicted label')"
      ]
     },
     "execution_count": 39,
     "metadata": {},
     "output_type": "execute_result"
    },
    {
     "data": {
      "image/png": "[encoded data removed]",
      "text/plain": [
       "<Figure size 432x288 with 2 Axes>"
      ]
     },
     "metadata": {
      "needs_background": "light"
     },
     "output_type": "display_data"
    }
   ],
   "source": [
    "class_names=[0,1] # name  of classes\n",
    "fig, ax = plt.subplots()\n",
    "tick_marks = np.arange(len(class_names))\n",
    "plt.xticks(tick_marks, class_names)\n",
    "plt.yticks(tick_marks, class_names)\n",
    "# create heatmap\n",
    "sns.heatmap(pd.DataFrame(cnf_matrix), annot=True, cmap=\"YlGnBu\" ,fmt='g')\n",
    "ax.xaxis.set_label_position(\"top\")\n",
    "plt.tight_layout()\n",
    "plt.title('Confusion matrix', y=1.1)\n",
    "plt.ylabel('Actual label')\n",
    "plt.xlabel('Predicted label')"
   ]
  },
  {
   "cell_type": "code",
   "execution_count": 40,
   "metadata": {},
   "outputs": [
    {
     "name": "stdout",
     "output_type": "stream",
     "text": [
      "Accuracy: 0.770757\n",
      "Precision: 0.001503910166432725\n",
      "Recall: 0.6497175141242938\n"
     ]
    }
   ],
   "source": [
    "print(\"Accuracy:\",metrics.accuracy_score(df_y_test_shuffle, pred_y_oversample))\n",
    "print(\"Precision:\",metrics.precision_score(df_y_test_shuffle, pred_y_oversample))\n",
    "print(\"Recall:\",metrics.recall_score(df_y_test_shuffle, pred_y_oversample))"
   ]
  },
  {
   "cell_type": "markdown",
   "metadata": {},
   "source": [
    "### ROC Curve for oversample"
   ]
  },
  {
   "cell_type": "code",
   "execution_count": 41,
   "metadata": {},
   "outputs": [
    {
     "data": {
      "image/png": "[encoded data removed]",
      "text/plain": [
       "<Figure size 432x288 with 1 Axes>"
      ]
     },
     "metadata": {
      "needs_background": "light"
     },
     "output_type": "display_data"
    }
   ],
   "source": [
    "y_pred_proba = logreg.predict_proba(df_x_test_shuffle)[::,1]\n",
    "fpr, tpr, _ = metrics.roc_curve(df_y_test_shuffle,  y_pred_proba)\n",
    "auc = metrics.roc_auc_score(df_y_test_shuffle, y_pred_proba)\n",
    "plt.plot(fpr,tpr,label=\"data 1, auc=\"+str(auc))\n",
    "plt.legend(loc=4)\n",
    "plt.show()"
   ]
  },
  {
   "cell_type": "code",
   "execution_count": null,
   "metadata": {},
   "outputs": [],
   "source": []
  },
  {
   "cell_type": "markdown",
   "metadata": {},
   "source": [
    "### Over Sampling SMOTE (ratio =0.8)"
   ]
  },
  {
   "cell_type": "code",
   "execution_count": 42,
   "metadata": {},
   "outputs": [],
   "source": [
    "sm = SMOTE(random_state=12, ratio = 0.8)\n",
    "x_train_sm, y_train_sm = sm.fit_sample(df_x_test_shuffle,df_y_test_shuffle)"
   ]
  },
  {
   "cell_type": "code",
   "execution_count": 43,
   "metadata": {},
   "outputs": [],
   "source": [
    "df_y_train_sm_resample=pd.DataFrame(y_train_sm)\n",
    "df_x_train_sm_resample=pd.DataFrame(x_train_sm)\n",
    "aftersample_2012to2015=pd.concat([df_x_train_sm_resample, df_y_train_sm_resample],axis=1)"
   ]
  },
  {
   "cell_type": "code",
   "execution_count": 44,
   "metadata": {},
   "outputs": [
    {
     "name": "stdout",
     "output_type": "stream",
     "text": [
      "Fraud 0: 999469\n",
      "Fraud 1: 799575\n",
      "Proportion: 1.25 : 1\n"
     ]
    },
    {
     "data": {
      "image/png": "[encoded data removed]",
      "text/plain": [
       "<Figure size 432x288 with 1 Axes>"
      ]
     },
     "metadata": {
      "needs_background": "light"
     },
     "output_type": "display_data"
    }
   ],
   "source": [
    "fraud_count_aftersample = aftersample_2012to2015.iloc[:,-1].value_counts()\n",
    "print('Fraud 0:', fraud_count_aftersample [0])\n",
    "print('Fraud 1:', fraud_count_aftersample [1])\n",
    "print('Proportion:', round(fraud_count_aftersample [0] / fraud_count_aftersample [1], 2), ': 1')\n",
    "\n",
    "fraud_count_aftersample.plot(kind='bar', title='Count (Fraud) after sampling in 2012-2015');"
   ]
  },
  {
   "cell_type": "code",
   "execution_count": 46,
   "metadata": {},
   "outputs": [
    {
     "data": {
      "text/html": [
       "<div>\n",
       "<style scoped>\n",
       "    .dataframe tbody tr th:only-of-type {\n",
       "        vertical-align: middle;\n",
       "    }\n",
       "\n",
       "    .dataframe tbody tr th {\n",
       "        vertical-align: top;\n",
       "    }\n",
       "\n",
       "    .dataframe thead th {\n",
       "        text-align: right;\n",
       "    }\n",
       "</style>\n",
       "<table border=\"1\" class=\"dataframe\">\n",
       "  <thead>\n",
       "    <tr style=\"text-align: right;\">\n",
       "      <th></th>\n",
       "      <th>type</th>\n",
       "      <th>line_srvc_cnt</th>\n",
       "      <th>bene_day_srvc_cnt</th>\n",
       "      <th>avg_submitted_chrg_amt</th>\n",
       "      <th>city</th>\n",
       "      <th>state</th>\n",
       "      <th>diff_line_srvc_cnt</th>\n",
       "      <th>diff_bene_day_srvc_cnt</th>\n",
       "      <th>diff_avg_submitted_chrg_amt</th>\n",
       "      <th>Fraud</th>\n",
       "    </tr>\n",
       "  </thead>\n",
       "  <tbody>\n",
       "    <tr>\n",
       "      <th>0</th>\n",
       "      <td>0.0</td>\n",
       "      <td>622.0</td>\n",
       "      <td>622.0</td>\n",
       "      <td>140.000000</td>\n",
       "      <td>4.0</td>\n",
       "      <td>4.0</td>\n",
       "      <td>490.438935</td>\n",
       "      <td>508.346102</td>\n",
       "      <td>-30.351692</td>\n",
       "      <td>0</td>\n",
       "    </tr>\n",
       "    <tr>\n",
       "      <th>1</th>\n",
       "      <td>2.0</td>\n",
       "      <td>30.0</td>\n",
       "      <td>30.0</td>\n",
       "      <td>351.066667</td>\n",
       "      <td>4.0</td>\n",
       "      <td>4.0</td>\n",
       "      <td>-116.400389</td>\n",
       "      <td>-101.067305</td>\n",
       "      <td>-64.477720</td>\n",
       "      <td>0</td>\n",
       "    </tr>\n",
       "    <tr>\n",
       "      <th>2</th>\n",
       "      <td>3.0</td>\n",
       "      <td>125.0</td>\n",
       "      <td>125.0</td>\n",
       "      <td>224.000000</td>\n",
       "      <td>4.0</td>\n",
       "      <td>0.0</td>\n",
       "      <td>-1048.285949</td>\n",
       "      <td>-57.867339</td>\n",
       "      <td>-49.554222</td>\n",
       "      <td>0</td>\n",
       "    </tr>\n",
       "    <tr>\n",
       "      <th>3</th>\n",
       "      <td>0.0</td>\n",
       "      <td>28.0</td>\n",
       "      <td>28.0</td>\n",
       "      <td>219.000000</td>\n",
       "      <td>4.0</td>\n",
       "      <td>1.0</td>\n",
       "      <td>-83.345505</td>\n",
       "      <td>-71.936406</td>\n",
       "      <td>79.164403</td>\n",
       "      <td>0</td>\n",
       "    </tr>\n",
       "    <tr>\n",
       "      <th>4</th>\n",
       "      <td>3.0</td>\n",
       "      <td>25.0</td>\n",
       "      <td>25.0</td>\n",
       "      <td>854.810000</td>\n",
       "      <td>3.0</td>\n",
       "      <td>2.0</td>\n",
       "      <td>-55.307411</td>\n",
       "      <td>-43.858285</td>\n",
       "      <td>551.065758</td>\n",
       "      <td>0</td>\n",
       "    </tr>\n",
       "  </tbody>\n",
       "</table>\n",
       "</div>"
      ],
      "text/plain": [
       "   type  line_srvc_cnt  bene_day_srvc_cnt  avg_submitted_chrg_amt  city  \\\n",
       "0   0.0          622.0              622.0              140.000000   4.0   \n",
       "1   2.0           30.0               30.0              351.066667   4.0   \n",
       "2   3.0          125.0              125.0              224.000000   4.0   \n",
       "3   0.0           28.0               28.0              219.000000   4.0   \n",
       "4   3.0           25.0               25.0              854.810000   3.0   \n",
       "\n",
       "   state  diff_line_srvc_cnt  diff_bene_day_srvc_cnt  \\\n",
       "0    4.0          490.438935              508.346102   \n",
       "1    4.0         -116.400389             -101.067305   \n",
       "2    0.0        -1048.285949              -57.867339   \n",
       "3    1.0          -83.345505              -71.936406   \n",
       "4    2.0          -55.307411              -43.858285   \n",
       "\n",
       "   diff_avg_submitted_chrg_amt  Fraud  \n",
       "0                   -30.351692      0  \n",
       "1                   -64.477720      0  \n",
       "2                   -49.554222      0  \n",
       "3                    79.164403      0  \n",
       "4                   551.065758      0  "
      ]
     },
     "execution_count": 46,
     "metadata": {},
     "output_type": "execute_result"
    }
   ],
   "source": [
    "aftersample_2012to2015.columns=['type','line_srvc_cnt','bene_day_srvc_cnt','avg_submitted_chrg_amt','city','state','diff_line_srvc_cnt', 'diff_bene_day_srvc_cnt',\n",
    "       'diff_avg_submitted_chrg_amt','Fraud']\n",
    "aftersample_2012to2015.head()"
   ]
  },
  {
   "cell_type": "code",
   "execution_count": 47,
   "metadata": {},
   "outputs": [
    {
     "name": "stderr",
     "output_type": "stream",
     "text": [
      "C:\\Users\\czhu5\\Anaconda3\\lib\\site-packages\\sklearn\\linear_model\\logistic.py:433: FutureWarning: Default solver will be changed to 'lbfgs' in 0.22. Specify a solver to silence this warning.\n",
      "  FutureWarning)\n",
      "C:\\Users\\czhu5\\Anaconda3\\lib\\site-packages\\sklearn\\utils\\validation.py:761: DataConversionWarning: A column-vector y was passed when a 1d array was expected. Please change the shape of y to (n_samples, ), for example using ravel().\n",
      "  y = column_or_1d(y, warn=True)\n"
     ]
    },
    {
     "data": {
      "text/plain": [
       "LogisticRegression(C=1.0, class_weight=None, dual=False, fit_intercept=True,\n",
       "          intercept_scaling=1, max_iter=100, multi_class='warn',\n",
       "          n_jobs=None, penalty='l2', random_state=None, solver='warn',\n",
       "          tol=0.0001, verbose=0, warm_start=False)"
      ]
     },
     "execution_count": 47,
     "metadata": {},
     "output_type": "execute_result"
    }
   ],
   "source": [
    "# instantiate the model (using the default parameters)\n",
    "logreg = LogisticRegression()\n",
    "logreg.fit(df_x_train_sm_resample,df_y_train_sm_resample)"
   ]
  },
  {
   "cell_type": "code",
   "execution_count": 48,
   "metadata": {},
   "outputs": [
    {
     "data": {
      "text/plain": [
       "array([[809216, 190253],\n",
       "       [   220,    311]], dtype=int64)"
      ]
     },
     "execution_count": 48,
     "metadata": {},
     "output_type": "execute_result"
    }
   ],
   "source": [
    "pred_y_oversample=logreg.predict(df_x_test_shuffle)\n",
    "cnf_matrix = metrics.confusion_matrix(df_y_test_shuffle, pred_y_oversample)\n",
    "cnf_matrix"
   ]
  },
  {
   "cell_type": "code",
   "execution_count": 49,
   "metadata": {},
   "outputs": [
    {
     "data": {
      "text/plain": [
       "Text(0.5, 257.44, 'Predicted label')"
      ]
     },
     "execution_count": 49,
     "metadata": {},
     "output_type": "execute_result"
    },
    {
     "data": {
      "image/png": "[encoded data removed]",
      "text/plain": [
       "<Figure size 432x288 with 2 Axes>"
      ]
     },
     "metadata": {
      "needs_background": "light"
     },
     "output_type": "display_data"
    }
   ],
   "source": [
    "class_names=[0,1] # name  of classes\n",
    "fig, ax = plt.subplots()\n",
    "tick_marks = np.arange(len(class_names))\n",
    "plt.xticks(tick_marks, class_names)\n",
    "plt.yticks(tick_marks, class_names)\n",
    "# create heatmap\n",
    "sns.heatmap(pd.DataFrame(cnf_matrix), annot=True, cmap=\"YlGnBu\" ,fmt='g')\n",
    "ax.xaxis.set_label_position(\"top\")\n",
    "plt.tight_layout()\n",
    "plt.title('Confusion matrix', y=1.1)\n",
    "plt.ylabel('Actual label')\n",
    "plt.xlabel('Predicted label')"
   ]
  },
  {
   "cell_type": "code",
   "execution_count": 50,
   "metadata": {},
   "outputs": [
    {
     "name": "stdout",
     "output_type": "stream",
     "text": [
      "Accuracy: 0.809527\n",
      "Precision: 0.0016319976490837725\n",
      "Recall: 0.5856873822975518\n"
     ]
    }
   ],
   "source": [
    "print(\"Accuracy:\",metrics.accuracy_score(df_y_test_shuffle, pred_y_oversample))\n",
    "print(\"Precision:\",metrics.precision_score(df_y_test_shuffle, pred_y_oversample))\n",
    "print(\"Recall:\",metrics.recall_score(df_y_test_shuffle, pred_y_oversample))"
   ]
  },
  {
   "cell_type": "code",
   "execution_count": 51,
   "metadata": {},
   "outputs": [
    {
     "data": {
      "image/png": "[encoded data removed]",
      "text/plain": [
       "<Figure size 432x288 with 1 Axes>"
      ]
     },
     "metadata": {
      "needs_background": "light"
     },
     "output_type": "display_data"
    }
   ],
   "source": [
    "y_pred_proba = logreg.predict_proba(df_x_test_shuffle)[::,1]\n",
    "fpr, tpr, _ = metrics.roc_curve(df_y_test_shuffle,  y_pred_proba)\n",
    "auc = metrics.roc_auc_score(df_y_test_shuffle, y_pred_proba)\n",
    "plt.plot(fpr,tpr,label=\"data 1, auc=\"+str(auc))\n",
    "plt.legend(loc=4)\n",
    "plt.show()"
   ]
  },
  {
   "cell_type": "code",
   "execution_count": null,
   "metadata": {},
   "outputs": [],
   "source": []
  },
  {
   "cell_type": "markdown",
   "metadata": {},
   "source": [
    "### Over Sampling SMOTE (ratio =0.5)"
   ]
  },
  {
   "cell_type": "code",
   "execution_count": 52,
   "metadata": {},
   "outputs": [],
   "source": [
    "sm = SMOTE(random_state=12, ratio = 0.5)\n",
    "x_train_sm, y_train_sm = sm.fit_sample(df_x_test_shuffle,df_y_test_shuffle)"
   ]
  },
  {
   "cell_type": "code",
   "execution_count": 53,
   "metadata": {},
   "outputs": [],
   "source": [
    "df_y_train_sm_resample=pd.DataFrame(y_train_sm)\n",
    "df_x_train_sm_resample=pd.DataFrame(x_train_sm)\n",
    "aftersample_2012to2015=pd.concat([df_x_train_sm_resample, df_y_train_sm_resample],axis=1)"
   ]
  },
  {
   "cell_type": "code",
   "execution_count": 54,
   "metadata": {},
   "outputs": [
    {
     "name": "stdout",
     "output_type": "stream",
     "text": [
      "Fraud 0: 999469\n",
      "Fraud 1: 499734\n",
      "Proportion: 2.0 : 1\n"
     ]
    },
    {
     "data": {
      "image/png": "[encoded data removed]",
      "text/plain": [
       "<Figure size 432x288 with 1 Axes>"
      ]
     },
     "metadata": {
      "needs_background": "light"
     },
     "output_type": "display_data"
    }
   ],
   "source": [
    "fraud_count_aftersample = aftersample_2012to2015.iloc[:,-1].value_counts()\n",
    "print('Fraud 0:', fraud_count_aftersample [0])\n",
    "print('Fraud 1:', fraud_count_aftersample [1])\n",
    "print('Proportion:', round(fraud_count_aftersample [0] / fraud_count_aftersample [1], 2), ': 1')\n",
    "\n",
    "fraud_count_aftersample.plot(kind='bar', title='Count (Fraud) after sampling in 2012-2015');"
   ]
  },
  {
   "cell_type": "code",
   "execution_count": 55,
   "metadata": {},
   "outputs": [
    {
     "data": {
      "text/html": [
       "<div>\n",
       "<style scoped>\n",
       "    .dataframe tbody tr th:only-of-type {\n",
       "        vertical-align: middle;\n",
       "    }\n",
       "\n",
       "    .dataframe tbody tr th {\n",
       "        vertical-align: top;\n",
       "    }\n",
       "\n",
       "    .dataframe thead th {\n",
       "        text-align: right;\n",
       "    }\n",
       "</style>\n",
       "<table border=\"1\" class=\"dataframe\">\n",
       "  <thead>\n",
       "    <tr style=\"text-align: right;\">\n",
       "      <th></th>\n",
       "      <th>type</th>\n",
       "      <th>line_srvc_cnt</th>\n",
       "      <th>bene_day_srvc_cnt</th>\n",
       "      <th>avg_submitted_chrg_amt</th>\n",
       "      <th>city</th>\n",
       "      <th>state</th>\n",
       "      <th>diff_line_srvc_cnt</th>\n",
       "      <th>diff_bene_day_srvc_cnt</th>\n",
       "      <th>diff_avg_submitted_chrg_amt</th>\n",
       "      <th>Fraud</th>\n",
       "    </tr>\n",
       "  </thead>\n",
       "  <tbody>\n",
       "    <tr>\n",
       "      <th>0</th>\n",
       "      <td>0.0</td>\n",
       "      <td>622.0</td>\n",
       "      <td>622.0</td>\n",
       "      <td>140.000000</td>\n",
       "      <td>4.0</td>\n",
       "      <td>4.0</td>\n",
       "      <td>490.438935</td>\n",
       "      <td>508.346102</td>\n",
       "      <td>-30.351692</td>\n",
       "      <td>0</td>\n",
       "    </tr>\n",
       "    <tr>\n",
       "      <th>1</th>\n",
       "      <td>2.0</td>\n",
       "      <td>30.0</td>\n",
       "      <td>30.0</td>\n",
       "      <td>351.066667</td>\n",
       "      <td>4.0</td>\n",
       "      <td>4.0</td>\n",
       "      <td>-116.400389</td>\n",
       "      <td>-101.067305</td>\n",
       "      <td>-64.477720</td>\n",
       "      <td>0</td>\n",
       "    </tr>\n",
       "    <tr>\n",
       "      <th>2</th>\n",
       "      <td>3.0</td>\n",
       "      <td>125.0</td>\n",
       "      <td>125.0</td>\n",
       "      <td>224.000000</td>\n",
       "      <td>4.0</td>\n",
       "      <td>0.0</td>\n",
       "      <td>-1048.285949</td>\n",
       "      <td>-57.867339</td>\n",
       "      <td>-49.554222</td>\n",
       "      <td>0</td>\n",
       "    </tr>\n",
       "    <tr>\n",
       "      <th>3</th>\n",
       "      <td>0.0</td>\n",
       "      <td>28.0</td>\n",
       "      <td>28.0</td>\n",
       "      <td>219.000000</td>\n",
       "      <td>4.0</td>\n",
       "      <td>1.0</td>\n",
       "      <td>-83.345505</td>\n",
       "      <td>-71.936406</td>\n",
       "      <td>79.164403</td>\n",
       "      <td>0</td>\n",
       "    </tr>\n",
       "    <tr>\n",
       "      <th>4</th>\n",
       "      <td>3.0</td>\n",
       "      <td>25.0</td>\n",
       "      <td>25.0</td>\n",
       "      <td>854.810000</td>\n",
       "      <td>3.0</td>\n",
       "      <td>2.0</td>\n",
       "      <td>-55.307411</td>\n",
       "      <td>-43.858285</td>\n",
       "      <td>551.065758</td>\n",
       "      <td>0</td>\n",
       "    </tr>\n",
       "  </tbody>\n",
       "</table>\n",
       "</div>"
      ],
      "text/plain": [
       "   type  line_srvc_cnt  bene_day_srvc_cnt  avg_submitted_chrg_amt  city  \\\n",
       "0   0.0          622.0              622.0              140.000000   4.0   \n",
       "1   2.0           30.0               30.0              351.066667   4.0   \n",
       "2   3.0          125.0              125.0              224.000000   4.0   \n",
       "3   0.0           28.0               28.0              219.000000   4.0   \n",
       "4   3.0           25.0               25.0              854.810000   3.0   \n",
       "\n",
       "   state  diff_line_srvc_cnt  diff_bene_day_srvc_cnt  \\\n",
       "0    4.0          490.438935              508.346102   \n",
       "1    4.0         -116.400389             -101.067305   \n",
       "2    0.0        -1048.285949              -57.867339   \n",
       "3    1.0          -83.345505              -71.936406   \n",
       "4    2.0          -55.307411              -43.858285   \n",
       "\n",
       "   diff_avg_submitted_chrg_amt  Fraud  \n",
       "0                   -30.351692      0  \n",
       "1                   -64.477720      0  \n",
       "2                   -49.554222      0  \n",
       "3                    79.164403      0  \n",
       "4                   551.065758      0  "
      ]
     },
     "execution_count": 55,
     "metadata": {},
     "output_type": "execute_result"
    }
   ],
   "source": [
    "aftersample_2012to2015.columns=['type','line_srvc_cnt','bene_day_srvc_cnt','avg_submitted_chrg_amt','city','state','diff_line_srvc_cnt', 'diff_bene_day_srvc_cnt',\n",
    "       'diff_avg_submitted_chrg_amt','Fraud']\n",
    "aftersample_2012to2015.head()"
   ]
  },
  {
   "cell_type": "code",
   "execution_count": 56,
   "metadata": {},
   "outputs": [
    {
     "name": "stderr",
     "output_type": "stream",
     "text": [
      "C:\\Users\\czhu5\\Anaconda3\\lib\\site-packages\\sklearn\\linear_model\\logistic.py:433: FutureWarning: Default solver will be changed to 'lbfgs' in 0.22. Specify a solver to silence this warning.\n",
      "  FutureWarning)\n",
      "C:\\Users\\czhu5\\Anaconda3\\lib\\site-packages\\sklearn\\utils\\validation.py:761: DataConversionWarning: A column-vector y was passed when a 1d array was expected. Please change the shape of y to (n_samples, ), for example using ravel().\n",
      "  y = column_or_1d(y, warn=True)\n"
     ]
    },
    {
     "data": {
      "text/plain": [
       "LogisticRegression(C=1.0, class_weight=None, dual=False, fit_intercept=True,\n",
       "          intercept_scaling=1, max_iter=100, multi_class='warn',\n",
       "          n_jobs=None, penalty='l2', random_state=None, solver='warn',\n",
       "          tol=0.0001, verbose=0, warm_start=False)"
      ]
     },
     "execution_count": 56,
     "metadata": {},
     "output_type": "execute_result"
    }
   ],
   "source": [
    "# instantiate the model (using the default parameters)\n",
    "logreg = LogisticRegression()\n",
    "logreg.fit(df_x_train_sm_resample,df_y_train_sm_resample)"
   ]
  },
  {
   "cell_type": "code",
   "execution_count": 57,
   "metadata": {},
   "outputs": [
    {
     "data": {
      "text/plain": [
       "array([[869433, 130036],\n",
       "       [   278,    253]], dtype=int64)"
      ]
     },
     "execution_count": 57,
     "metadata": {},
     "output_type": "execute_result"
    }
   ],
   "source": [
    "pred_y_oversample=logreg.predict(df_x_test_shuffle)\n",
    "cnf_matrix = metrics.confusion_matrix(df_y_test_shuffle, pred_y_oversample)\n",
    "cnf_matrix"
   ]
  },
  {
   "cell_type": "code",
   "execution_count": 58,
   "metadata": {},
   "outputs": [
    {
     "data": {
      "text/plain": [
       "Text(0.5, 257.44, 'Predicted label')"
      ]
     },
     "execution_count": 58,
     "metadata": {},
     "output_type": "execute_result"
    },
    {
     "data": {
      "image/png": "[encoded data removed]",
      "text/plain": [
       "<Figure size 432x288 with 2 Axes>"
      ]
     },
     "metadata": {
      "needs_background": "light"
     },
     "output_type": "display_data"
    }
   ],
   "source": [
    "class_names=[0,1] # name  of classes\n",
    "fig, ax = plt.subplots()\n",
    "tick_marks = np.arange(len(class_names))\n",
    "plt.xticks(tick_marks, class_names)\n",
    "plt.yticks(tick_marks, class_names)\n",
    "# create heatmap\n",
    "sns.heatmap(pd.DataFrame(cnf_matrix), annot=True, cmap=\"YlGnBu\" ,fmt='g')\n",
    "ax.xaxis.set_label_position(\"top\")\n",
    "plt.tight_layout()\n",
    "plt.title('Confusion matrix', y=1.1)\n",
    "plt.ylabel('Actual label')\n",
    "plt.xlabel('Predicted label')"
   ]
  },
  {
   "cell_type": "code",
   "execution_count": 59,
   "metadata": {},
   "outputs": [
    {
     "name": "stdout",
     "output_type": "stream",
     "text": [
      "Accuracy: 0.869686\n",
      "Precision: 0.0019418369931460061\n",
      "Recall: 0.4764595103578154\n"
     ]
    }
   ],
   "source": [
    "print(\"Accuracy:\",metrics.accuracy_score(df_y_test_shuffle, pred_y_oversample))\n",
    "print(\"Precision:\",metrics.precision_score(df_y_test_shuffle, pred_y_oversample))\n",
    "print(\"Recall:\",metrics.recall_score(df_y_test_shuffle, pred_y_oversample))"
   ]
  },
  {
   "cell_type": "code",
   "execution_count": 60,
   "metadata": {},
   "outputs": [
    {
     "data": {
      "image/png": "[encoded data removed]",
      "text/plain": [
       "<Figure size 432x288 with 1 Axes>"
      ]
     },
     "metadata": {
      "needs_background": "light"
     },
     "output_type": "display_data"
    }
   ],
   "source": [
    "y_pred_proba = logreg.predict_proba(df_x_test_shuffle)[::,1]\n",
    "fpr, tpr, _ = metrics.roc_curve(df_y_test_shuffle,  y_pred_proba)\n",
    "auc = metrics.roc_auc_score(df_y_test_shuffle, y_pred_proba)\n",
    "plt.plot(fpr,tpr,label=\"data 1, auc=\"+str(auc))\n",
    "plt.legend(loc=4)\n",
    "plt.show()"
   ]
  },
  {
   "cell_type": "code",
   "execution_count": null,
   "metadata": {},
   "outputs": [],
   "source": []
  },
  {
   "cell_type": "markdown",
   "metadata": {},
   "source": [
    "## Save training and testing data sets in pickles for the other ML"
   ]
  },
  {
   "cell_type": "code",
   "execution_count": 61,
   "metadata": {},
   "outputs": [],
   "source": [
    "train_x_pkl=open(str(\"train_x_addcolumns_pickle\"),\"wb\")\n",
    "pickle.dump(df_x_train_shuffle,train_x_pkl)\n",
    "train_x_pkl.close()"
   ]
  },
  {
   "cell_type": "code",
   "execution_count": 62,
   "metadata": {},
   "outputs": [],
   "source": [
    "train_y_pkl=open(str(\"train_y_addcolumns_dev_pickle\"),\"wb\")\n",
    "pickle.dump(df_x_train_shuffle,train_y_pkl)\n",
    "train_y_pkl.close()"
   ]
  },
  {
   "cell_type": "code",
   "execution_count": 63,
   "metadata": {},
   "outputs": [],
   "source": [
    "test_x_pkl=open(str(\"test_x_addcolumns_pickle\"),\"wb\")\n",
    "pickle.dump(df_x_test_shuffle,test_x_pkl)\n",
    "test_x_pkl.close()"
   ]
  },
  {
   "cell_type": "code",
   "execution_count": 64,
   "metadata": {},
   "outputs": [],
   "source": [
    "test_y_pkl=open(str(\"test_y_addcolumns_pickle\"),\"wb\")\n",
    "pickle.dump(df_y_test_shuffle,test_y_pkl)\n",
    "test_y_pkl.close()"
   ]
  },
  {
   "cell_type": "markdown",
   "metadata": {},
   "source": [
    "## Reference"
   ]
  },
  {
   "cell_type": "markdown",
   "metadata": {},
   "source": [
    "1. LogisticRegression()\n",
    "https://www.datacamp.com/community/tutorials/understanding-logistic-regression-python"
   ]
  },
  {
   "cell_type": "markdown",
   "metadata": {},
   "source": [
    "2. Resampling strategies for imbalanced datasets\n",
    "https://www.kaggle.com/rafjaa/resampling-strategies-for-imbalanced-datasets"
   ]
  },
  {
   "cell_type": "code",
   "execution_count": null,
   "metadata": {},
   "outputs": [],
   "source": []
  },
  {
   "cell_type": "code",
   "execution_count": null,
   "metadata": {},
   "outputs": [],
   "source": []
  }
 ],
 "metadata": {
  "kernelspec": {
   "display_name": "Python 3",
   "language": "python",
   "name": "python3"
  },
  "language_info": {
   "codemirror_mode": {
    "name": "ipython",
    "version": 3
   },
   "file_extension": ".py",
   "mimetype": "text/x-python",
   "name": "python",
   "nbconvert_exporter": "python",
   "pygments_lexer": "ipython3",
   "version": "3.7.2"
  }
 },
 "nbformat": 4,
 "nbformat_minor": 2
}
