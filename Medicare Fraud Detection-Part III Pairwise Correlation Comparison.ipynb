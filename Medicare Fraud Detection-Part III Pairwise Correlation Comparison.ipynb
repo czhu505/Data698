{
 "cells": [
  {
   "cell_type": "markdown",
   "metadata": {},
   "source": [
    "# Medicare Fraud Detection"
   ]
  },
  {
   "cell_type": "markdown",
   "metadata": {},
   "source": [
    "### Data 698: Data Science Research Project - Spring 2019"
   ]
  },
  {
   "cell_type": "markdown",
   "metadata": {},
   "source": [
    "### Student: Chunhui Zhu"
   ]
  },
  {
   "cell_type": "markdown",
   "metadata": {},
   "source": [
    "Medicare_Provider_Utilization_and_Payment_Data__Physician_and_Other_Supplier_PUF_CY2016.csv: https://data.cms.gov/Medicare-Physician-Supplier/Medicare-Provider-Utilization-and-Payment-Data-Phy/utc4-f9xp"
   ]
  },
  {
   "cell_type": "markdown",
   "metadata": {},
   "source": [
    "LEIE2019.csv: https://oig.hhs.gov/exclusions/exclusions_list.asp"
   ]
  },
  {
   "cell_type": "code",
   "execution_count": 1,
   "metadata": {},
   "outputs": [],
   "source": [
    "import pandas as pd\n",
    "import numpy as np\n",
    "import networkx as nx\n",
    "import matplotlib as plt\n",
    "import pickle\n",
    "\n",
    "import matplotlib.pyplot as plt\n",
    "from pandas import Series, DataFrame"
   ]
  },
  {
   "cell_type": "markdown",
   "metadata": {},
   "source": [
    "## Remove Colinearity "
   ]
  },
  {
   "cell_type": "markdown",
   "metadata": {},
   "source": [
    "#I used the searching result of unique NPI finding in a specifit year in previous steps. \n",
    "#load Fraud unique NPI from pickle, example for 2016 yr: \"fraud_df16_pickle\"\n",
    "#close pickle\n",
    "#function returns pd df for fraud_NPI in that year\n",
    "def loadfraudNPI (year):\n",
    "    y=str(year)\n",
    "    fraud_pkl=open(\"fraud_df\"+str(y[2:4])+\"_pickle\",\"rb\")\n",
    "    fraud_NPI=pickle.load(fraud_pkl)\n",
    "    print(fraud_NPI.head(5))\n",
    "    print(\"The number of fraud NPI found in \" + y +\" is \" + str(len(fraud_NPI)) + \".\")\n",
    "    fraud_pkl.close()\n",
    "    return (fraud_NPI)"
   ]
  },
  {
   "cell_type": "code",
   "execution_count": 2,
   "metadata": {},
   "outputs": [],
   "source": [
    "#example pickle name conver2016_pickle\n",
    "def loadconvtdf (year):\n",
    "    df_pkl=open(\"convt\"+str(year)+\"_pickle\",\"rb\")\n",
    "    df=pickle.load(df_pkl)\n",
    "    print(\"finished load for convt\"+str(year)+\"_pickle.\")\n",
    "    df_pkl.close()\n",
    "    return (df)"
   ]
  },
  {
   "cell_type": "code",
   "execution_count": 3,
   "metadata": {},
   "outputs": [
    {
     "name": "stdout",
     "output_type": "stream",
     "text": [
      "finished load for convt2016_pickle.\n",
      "finished load for convt2015_pickle.\n",
      "finished load for convt2014_pickle.\n",
      "finished load for convt2013_pickle.\n",
      "finished load for convt2012_pickle.\n"
     ]
    }
   ],
   "source": [
    "convt2016df=loadconvtdf(2016)\n",
    "convt2015df=loadconvtdf(2015)\n",
    "convt2014df=loadconvtdf(2014)\n",
    "convt2013df=loadconvtdf(2013)\n",
    "convt2012df=loadconvtdf(2012)"
   ]
  },
  {
   "cell_type": "code",
   "execution_count": 4,
   "metadata": {
    "scrolled": false
   },
   "outputs": [
    {
     "data": {
      "text/html": [
       "<div>\n",
       "<style scoped>\n",
       "    .dataframe tbody tr th:only-of-type {\n",
       "        vertical-align: middle;\n",
       "    }\n",
       "\n",
       "    .dataframe tbody tr th {\n",
       "        vertical-align: top;\n",
       "    }\n",
       "\n",
       "    .dataframe thead th {\n",
       "        text-align: right;\n",
       "    }\n",
       "</style>\n",
       "<table border=\"1\" class=\"dataframe\">\n",
       "  <thead>\n",
       "    <tr style=\"text-align: right;\">\n",
       "      <th></th>\n",
       "      <th>npi</th>\n",
       "      <th>type</th>\n",
       "      <th>hcpcs_c</th>\n",
       "      <th>line_srvc_cnt</th>\n",
       "      <th>bene_unique_cnt</th>\n",
       "      <th>bene_day_srvc_cnt</th>\n",
       "      <th>avg_allowed_amt</th>\n",
       "      <th>avg_payment_amt</th>\n",
       "      <th>avg_submitted_chrg_amt</th>\n",
       "      <th>city</th>\n",
       "      <th>state</th>\n",
       "      <th>Fraud</th>\n",
       "    </tr>\n",
       "  </thead>\n",
       "  <tbody>\n",
       "    <tr>\n",
       "      <th>1</th>\n",
       "      <td>1003000126</td>\n",
       "      <td>0.0</td>\n",
       "      <td>99217</td>\n",
       "      <td>23.0</td>\n",
       "      <td>23.0</td>\n",
       "      <td>23.0</td>\n",
       "      <td>72.680000</td>\n",
       "      <td>54.502609</td>\n",
       "      <td>328.000000</td>\n",
       "      <td>3</td>\n",
       "      <td>2</td>\n",
       "      <td>0</td>\n",
       "    </tr>\n",
       "    <tr>\n",
       "      <th>2</th>\n",
       "      <td>1003000126</td>\n",
       "      <td>0.0</td>\n",
       "      <td>99219</td>\n",
       "      <td>18.0</td>\n",
       "      <td>18.0</td>\n",
       "      <td>18.0</td>\n",
       "      <td>135.850000</td>\n",
       "      <td>100.958889</td>\n",
       "      <td>614.000000</td>\n",
       "      <td>3</td>\n",
       "      <td>2</td>\n",
       "      <td>0</td>\n",
       "    </tr>\n",
       "    <tr>\n",
       "      <th>3</th>\n",
       "      <td>1003000126</td>\n",
       "      <td>0.0</td>\n",
       "      <td>99221</td>\n",
       "      <td>59.0</td>\n",
       "      <td>58.0</td>\n",
       "      <td>59.0</td>\n",
       "      <td>101.365085</td>\n",
       "      <td>79.469661</td>\n",
       "      <td>333.288136</td>\n",
       "      <td>3</td>\n",
       "      <td>2</td>\n",
       "      <td>0</td>\n",
       "    </tr>\n",
       "    <tr>\n",
       "      <th>4</th>\n",
       "      <td>1003000126</td>\n",
       "      <td>0.0</td>\n",
       "      <td>99222</td>\n",
       "      <td>132.0</td>\n",
       "      <td>130.0</td>\n",
       "      <td>132.0</td>\n",
       "      <td>139.010455</td>\n",
       "      <td>107.933409</td>\n",
       "      <td>356.492424</td>\n",
       "      <td>3</td>\n",
       "      <td>2</td>\n",
       "      <td>0</td>\n",
       "    </tr>\n",
       "    <tr>\n",
       "      <th>5</th>\n",
       "      <td>1003000126</td>\n",
       "      <td>0.0</td>\n",
       "      <td>99223</td>\n",
       "      <td>220.0</td>\n",
       "      <td>215.0</td>\n",
       "      <td>220.0</td>\n",
       "      <td>205.185955</td>\n",
       "      <td>157.908955</td>\n",
       "      <td>631.186364</td>\n",
       "      <td>3</td>\n",
       "      <td>2</td>\n",
       "      <td>0</td>\n",
       "    </tr>\n",
       "  </tbody>\n",
       "</table>\n",
       "</div>"
      ],
      "text/plain": [
       "          npi  type hcpcs_c  line_srvc_cnt  bene_unique_cnt  \\\n",
       "1  1003000126   0.0   99217           23.0             23.0   \n",
       "2  1003000126   0.0   99219           18.0             18.0   \n",
       "3  1003000126   0.0   99221           59.0             58.0   \n",
       "4  1003000126   0.0   99222          132.0            130.0   \n",
       "5  1003000126   0.0   99223          220.0            215.0   \n",
       "\n",
       "   bene_day_srvc_cnt  avg_allowed_amt  avg_payment_amt  \\\n",
       "1               23.0        72.680000        54.502609   \n",
       "2               18.0       135.850000       100.958889   \n",
       "3               59.0       101.365085        79.469661   \n",
       "4              132.0       139.010455       107.933409   \n",
       "5              220.0       205.185955       157.908955   \n",
       "\n",
       "   avg_submitted_chrg_amt  city  state  Fraud  \n",
       "1              328.000000     3      2      0  \n",
       "2              614.000000     3      2      0  \n",
       "3              333.288136     3      2      0  \n",
       "4              356.492424     3      2      0  \n",
       "5              631.186364     3      2      0  "
      ]
     },
     "execution_count": 4,
     "metadata": {},
     "output_type": "execute_result"
    }
   ],
   "source": [
    "#made sure it is the right data set from last process\n",
    "convt2015df.head()"
   ]
  },
  {
   "cell_type": "code",
   "execution_count": 5,
   "metadata": {},
   "outputs": [],
   "source": [
    "from pandas import *\n",
    "import numpy as np\n",
    "from scipy.stats.stats import pearsonr\n",
    "import itertools"
   ]
  },
  {
   "cell_type": "markdown",
   "metadata": {},
   "source": [
    "## Step 1: Calculating pairwise correlation among all columns"
   ]
  },
  {
   "cell_type": "markdown",
   "metadata": {},
   "source": [
    "### since each year data are a lot and dupilicate rows, I choosed 2012 and 2015 in observation. "
   ]
  },
  {
   "cell_type": "code",
   "execution_count": 6,
   "metadata": {},
   "outputs": [],
   "source": [
    "df_list=[convt2015df,convt2012df]\n",
    "df_convt = pd.concat(df_list)\n",
    "\n",
    "#remove category data \n",
    "num_df_convt=df_convt.drop(columns=[\"npi\",\"hcpcs_c\"])"
   ]
  },
  {
   "cell_type": "code",
   "execution_count": 7,
   "metadata": {},
   "outputs": [
    {
     "name": "stdout",
     "output_type": "stream",
     "text": [
      "                                                PCC        p-value\n",
      "avg_allowed_amt__Fraud                     0.000172   4.724211e-01\n",
      "avg_allowed_amt__avg_payment_amt           0.998607   0.000000e+00\n",
      "avg_allowed_amt__avg_submitted_chrg_amt    0.752158   0.000000e+00\n",
      "avg_allowed_amt__city                     -0.016892   0.000000e+00\n",
      "avg_allowed_amt__state                    -0.030493   0.000000e+00\n",
      "avg_payment_amt__Fraud                     0.000110   6.457250e-01\n",
      "avg_payment_amt__avg_submitted_chrg_amt    0.751998   0.000000e+00\n",
      "avg_payment_amt__city                     -0.016705   0.000000e+00\n",
      "avg_payment_amt__state                    -0.031322   0.000000e+00\n",
      "avg_submitted_chrg_amt__Fraud             -0.002300   7.802266e-22\n",
      "avg_submitted_chrg_amt__city              -0.026393   0.000000e+00\n",
      "avg_submitted_chrg_amt__state             -0.021499   0.000000e+00\n",
      "bene_day_srvc_cnt__Fraud                   0.002345   1.268145e-22\n",
      "bene_day_srvc_cnt__avg_allowed_amt        -0.012051   0.000000e+00\n",
      "bene_day_srvc_cnt__avg_payment_amt        -0.011839   0.000000e+00\n",
      "bene_day_srvc_cnt__avg_submitted_chrg_amt -0.012376   0.000000e+00\n",
      "bene_day_srvc_cnt__city                    0.000848   4.006354e-04\n",
      "bene_day_srvc_cnt__state                  -0.008929  4.142493e-304\n",
      "bene_unique_cnt__Fraud                     0.000945   8.006768e-05\n",
      "bene_unique_cnt__avg_allowed_amt          -0.010724   0.000000e+00\n",
      "bene_unique_cnt__avg_payment_amt          -0.010387   0.000000e+00\n",
      "bene_unique_cnt__avg_submitted_chrg_amt   -0.010622   0.000000e+00\n",
      "bene_unique_cnt__bene_day_srvc_cnt         0.940409   0.000000e+00\n",
      "bene_unique_cnt__city                     -0.000636   7.927809e-03\n",
      "bene_unique_cnt__state                    -0.007993  4.137247e-244\n",
      "city__Fraud                               -0.026138   0.000000e+00\n",
      "city__state                                0.084031   0.000000e+00\n",
      "line_srvc_cnt__Fraud                       0.003494   3.424880e-48\n",
      "line_srvc_cnt__avg_allowed_amt            -0.013827   0.000000e+00\n",
      "line_srvc_cnt__avg_payment_amt            -0.013536   0.000000e+00\n",
      "line_srvc_cnt__avg_submitted_chrg_amt     -0.012208   0.000000e+00\n",
      "line_srvc_cnt__bene_day_srvc_cnt           0.521178   0.000000e+00\n",
      "line_srvc_cnt__bene_unique_cnt             0.461271   0.000000e+00\n",
      "line_srvc_cnt__city                        0.000642   7.373842e-03\n",
      "line_srvc_cnt__state                      -0.006822  2.226776e-178\n",
      "state__Fraud                              -0.011478   0.000000e+00\n",
      "type__Fraud                               -0.019004   0.000000e+00\n",
      "type__avg_allowed_amt                      0.072736   0.000000e+00\n",
      "type__avg_payment_amt                      0.069394   0.000000e+00\n",
      "type__avg_submitted_chrg_amt               0.114848   0.000000e+00\n",
      "type__bene_day_srvc_cnt                   -0.012749   0.000000e+00\n",
      "type__bene_unique_cnt                     -0.012716   0.000000e+00\n",
      "type__city                                -0.050326   0.000000e+00\n",
      "type__line_srvc_cnt                       -0.001303   5.312855e-08\n",
      "type__state                                0.009198  1.482197e-322\n"
     ]
    }
   ],
   "source": [
    "correlations = {}\n",
    "columns = num_df_convt.columns.tolist()\n",
    "\n",
    "for col_a, col_b in itertools.combinations(columns, 2):\n",
    "    correlations[col_a + '__' + col_b] = pearsonr(num_df_convt.loc[:, col_a], num_df_convt.loc[:, col_b])\n",
    "\n",
    "result = DataFrame.from_dict(correlations, orient='index')\n",
    "result.columns = ['PCC', 'p-value']\n",
    "\n",
    "print(result.sort_index())\n"
   ]
  },
  {
   "cell_type": "markdown",
   "metadata": {},
   "source": [
    "## Step 2: Drop variables"
   ]
  },
  {
   "cell_type": "markdown",
   "metadata": {},
   "source": [
    "From PCC and P-value for each pair variables, it showed some varibles having strong correlation since they are based on same factor when they were created. If they are all in a model, it brings Colinearity which causes the high covariance and untrusted the accuracy in R-squar.\n",
    "\n",
    "I reduced some varible in following steps based on the higher absolute PCC with Fraud. "
   ]
  },
  {
   "cell_type": "markdown",
   "metadata": {},
   "source": [
    "avg_allowed_amt,  avg_payment_amt,  avg_submitted_chrg_amt  => keep: avg_submitted_chrg_amt"
   ]
  },
  {
   "cell_type": "markdown",
   "metadata": {},
   "source": [
    "bene_unique_cnt,  bene_day_srvc_cnt => Keep: bene_day_srvc_cnt "
   ]
  },
  {
   "cell_type": "code",
   "execution_count": 8,
   "metadata": {},
   "outputs": [],
   "source": [
    "#example pickle name conver2016_pickle\n",
    "def saveinpkl (df,year):\n",
    "    drop_columns_df=df.drop(columns=['avg_allowed_amt','avg_payment_amt','bene_unique_cnt'])\n",
    "    df_pkl=open(\"convt_dropcolumns_\"+str(year)+\"_pickle\",\"wb\")\n",
    "    pickle.dump(drop_columns_df,df_pkl)\n",
    "    print(\"saved convt_dropcolumns_\"+str(year)+\"_pickle.\")\n",
    "    df_pkl.close()\n",
    "    \n",
    "    return"
   ]
  },
  {
   "cell_type": "code",
   "execution_count": 9,
   "metadata": {},
   "outputs": [
    {
     "name": "stdout",
     "output_type": "stream",
     "text": [
      "saved convt_dropcolumns_2016_pickle.\n",
      "saved convt_dropcolumns_2015_pickle.\n",
      "saved convt_dropcolumns_2014_pickle.\n",
      "saved convt_dropcolumns_2013_pickle.\n",
      "saved convt_dropcolumns_2012_pickle.\n"
     ]
    }
   ],
   "source": [
    "saveinpkl (convt2016df, 2016)\n",
    "saveinpkl (convt2015df, 2015)\n",
    "saveinpkl (convt2014df, 2014)\n",
    "saveinpkl (convt2013df, 2013)\n",
    "saveinpkl (convt2012df, 2012)"
   ]
  },
  {
   "cell_type": "code",
   "execution_count": null,
   "metadata": {},
   "outputs": [],
   "source": []
  },
  {
   "cell_type": "code",
   "execution_count": null,
   "metadata": {},
   "outputs": [],
   "source": []
  },
  {
   "cell_type": "markdown",
   "metadata": {},
   "source": [
    "## References:"
   ]
  },
  {
   "cell_type": "markdown",
   "metadata": {},
   "source": [
    "Variance Inflation Factor (VIF) Explained\n",
    "https://etav.github.io/python/vif_factor_python.html"
   ]
  },
  {
   "cell_type": "code",
   "execution_count": null,
   "metadata": {},
   "outputs": [],
   "source": []
  }
 ],
 "metadata": {
  "kernelspec": {
   "display_name": "Python 3",
   "language": "python",
   "name": "python3"
  },
  "language_info": {
   "codemirror_mode": {
    "name": "ipython",
    "version": 3
   },
   "file_extension": ".py",
   "mimetype": "text/x-python",
   "name": "python",
   "nbconvert_exporter": "python",
   "pygments_lexer": "ipython3",
   "version": "3.7.2"
  }
 },
 "nbformat": 4,
 "nbformat_minor": 2
}
