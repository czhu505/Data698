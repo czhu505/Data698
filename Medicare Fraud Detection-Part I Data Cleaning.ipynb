{
 "cells": [
  {
   "cell_type": "markdown",
   "metadata": {},
   "source": [
    "# Medicare Fraud Detection"
   ]
  },
  {
   "cell_type": "markdown",
   "metadata": {},
   "source": [
    "### Data 698: Data Science Research Project - Spring 2019"
   ]
  },
  {
   "cell_type": "markdown",
   "metadata": {},
   "source": [
    "### Student: Chunhui Zhu"
   ]
  },
  {
   "cell_type": "markdown",
   "metadata": {},
   "source": [
    "Medicare_Provider_Utilization_and_Payment_Data__Physician_and_Other_Supplier_PUF_CY2016.csv: https://data.cms.gov/Medicare-Physician-Supplier/Medicare-Provider-Utilization-and-Payment-Data-Phy/utc4-f9xp"
   ]
  },
  {
   "cell_type": "markdown",
   "metadata": {},
   "source": [
    "LEIE2019.csv: https://oig.hhs.gov/exclusions/exclusions_list.asp"
   ]
  },
  {
   "cell_type": "markdown",
   "metadata": {},
   "source": [
    "# PART I : Data Mining"
   ]
  },
  {
   "cell_type": "code",
   "execution_count": 1,
   "metadata": {},
   "outputs": [],
   "source": [
    "import pandas as pd\n",
    "import numpy as np\n",
    "import networkx as nx\n",
    "import matplotlib as plt\n",
    "import pickle"
   ]
  },
  {
   "cell_type": "markdown",
   "metadata": {},
   "source": [
    "### Step 1: LEIE-Fraud Data - Label Data"
   ]
  },
  {
   "cell_type": "code",
   "execution_count": 2,
   "metadata": {},
   "outputs": [
    {
     "data": {
      "text/plain": [
       "array(['LASTNAME', 'FIRSTNAME', 'MIDNAME', 'BUSNAME', 'GENERAL',\n",
       "       'SPECIALTY', 'UPIN', 'NPI', 'DOB', 'ADDRESS', 'CITY', 'STATE',\n",
       "       'ZIP', 'EXCLTYPE', 'EXCLDATE', 'REINDATE', 'WAIVERDATE',\n",
       "       'WVRSTATE'], dtype=object)"
      ]
     },
     "execution_count": 2,
     "metadata": {},
     "output_type": "execute_result"
    }
   ],
   "source": [
    "leie=pd.read_csv('LEIE2019.csv',low_memory=False)\n",
    "leie.columns.values"
   ]
  },
  {
   "cell_type": "code",
   "execution_count": 3,
   "metadata": {},
   "outputs": [],
   "source": [
    "#NPI is a very important unique id to identify a provider.\n",
    "npi_leie= leie[leie.NPI!= 0]"
   ]
  },
  {
   "cell_type": "code",
   "execution_count": 4,
   "metadata": {},
   "outputs": [],
   "source": [
    "fraud_list=npi_leie.NPI.values.tolist()"
   ]
  },
  {
   "cell_type": "code",
   "execution_count": 5,
   "metadata": {},
   "outputs": [
    {
     "data": {
      "text/plain": [
       "5036"
      ]
     },
     "execution_count": 5,
     "metadata": {},
     "output_type": "execute_result"
    }
   ],
   "source": [
    "len(fraud_list)"
   ]
  },
  {
   "cell_type": "markdown",
   "metadata": {},
   "source": [
    "There are 5,036 NPI avaliable for me to check in CMS database. "
   ]
  },
  {
   "cell_type": "markdown",
   "metadata": {},
   "source": [
    "## Step 2: CMS Data Cleaning \n",
    "\n",
    "Load CMS yearly dataset\n",
    "\n",
    "trucate data set by selecting subset of columns\n",
    "\n",
    "Standardize the columns names\n",
    "\n",
    "Use dump data set in pickle "
   ]
  },
  {
   "cell_type": "markdown",
   "metadata": {},
   "source": [
    "### 2016 "
   ]
  },
  {
   "cell_type": "code",
   "execution_count": 6,
   "metadata": {},
   "outputs": [],
   "source": [
    "def find_fraud(checklist, fraud_list):\n",
    "    fraud=[]   \n",
    "    for x in checklist:\n",
    "        if x in fraud_list:\n",
    "            fraud.append(x)\n",
    "    return (fraud)"
   ]
  },
  {
   "cell_type": "code",
   "execution_count": 7,
   "metadata": {},
   "outputs": [],
   "source": [
    "data2016=pd.read_table('Medicare_Provider_Util_Payment_PUF_CY2016.txt',low_memory=False)"
   ]
  },
  {
   "cell_type": "code",
   "execution_count": 8,
   "metadata": {
    "scrolled": false
   },
   "outputs": [
    {
     "name": "stdout",
     "output_type": "stream",
     "text": [
      "(9714897, 26)\n",
      "['NPI' 'NPPES_PROVIDER_LAST_ORG_NAME' 'NPPES_PROVIDER_FIRST_NAME'\n",
      " 'NPPES_PROVIDER_MI' 'NPPES_CREDENTIALS' 'NPPES_PROVIDER_GENDER'\n",
      " 'NPPES_ENTITY_CODE' 'NPPES_PROVIDER_STREET1' 'NPPES_PROVIDER_STREET2'\n",
      " 'NPPES_PROVIDER_CITY' 'NPPES_PROVIDER_ZIP' 'NPPES_PROVIDER_STATE'\n",
      " 'NPPES_PROVIDER_COUNTRY' 'PROVIDER_TYPE'\n",
      " 'MEDICARE_PARTICIPATION_INDICATOR' 'PLACE_OF_SERVICE' 'HCPCS_CODE'\n",
      " 'HCPCS_DESCRIPTION' 'HCPCS_DRUG_INDICATOR' 'LINE_SRVC_CNT'\n",
      " 'BENE_UNIQUE_CNT' 'BENE_DAY_SRVC_CNT' 'AVERAGE_MEDICARE_ALLOWED_AMT'\n",
      " 'AVERAGE_SUBMITTED_CHRG_AMT' 'AVERAGE_MEDICARE_PAYMENT_AMT'\n",
      " 'AVERAGE_MEDICARE_STANDARD_AMT']\n"
     ]
    }
   ],
   "source": [
    "print(data2016.shape)\n",
    "print(data2016.columns.values)"
   ]
  },
  {
   "cell_type": "code",
   "execution_count": 9,
   "metadata": {},
   "outputs": [],
   "source": [
    "#Trucate data by selecting subset columns\n",
    "data2016=data2016[['NPI', 'PROVIDER_TYPE','NPPES_PROVIDER_GENDER','HCPCS_CODE', 'LINE_SRVC_CNT', 'BENE_UNIQUE_CNT', 'BENE_DAY_SRVC_CNT','AVERAGE_MEDICARE_ALLOWED_AMT','AVERAGE_MEDICARE_PAYMENT_AMT','AVERAGE_SUBMITTED_CHRG_AMT','NPPES_PROVIDER_CITY','NPPES_PROVIDER_STATE']]\n",
    "data2016.columns=['npi', 'type','gender','hcpcs_c', 'line_srvc_cnt', 'bene_unique_cnt', 'bene_day_srvc_cnt','avg_allowed_amt','avg_payment_amt','avg_submitted_chrg_amt','city','state']"
   ]
  },
  {
   "cell_type": "code",
   "execution_count": 10,
   "metadata": {},
   "outputs": [],
   "source": [
    "#dump data set in pickle, \n",
    "#to avoid repeating same data processing\n",
    "raw16_pkl=open(\"df16_pickle\",\"wb\")\n",
    "pickle.dump(data2016,raw16_pkl)\n",
    "raw16_pkl.close()"
   ]
  },
  {
   "cell_type": "markdown",
   "metadata": {},
   "source": [
    "## 2015"
   ]
  },
  {
   "cell_type": "code",
   "execution_count": 11,
   "metadata": {},
   "outputs": [],
   "source": [
    "data2015=pd.read_table('Medicare_Provider_Util_Payment_PUF_CY2015.txt',low_memory=False)"
   ]
  },
  {
   "cell_type": "code",
   "execution_count": 12,
   "metadata": {},
   "outputs": [
    {
     "name": "stdout",
     "output_type": "stream",
     "text": [
      "(9497892, 26)\n",
      "['npi' 'nppes_provider_last_org_name' 'nppes_provider_first_name'\n",
      " 'nppes_provider_mi' 'nppes_credentials' 'nppes_provider_gender'\n",
      " 'nppes_entity_code' 'nppes_provider_street1' 'nppes_provider_street2'\n",
      " 'nppes_provider_city' 'nppes_provider_zip' 'nppes_provider_state'\n",
      " 'nppes_provider_country' 'provider_type'\n",
      " 'medicare_participation_indicator' 'place_of_service' 'hcpcs_code'\n",
      " 'hcpcs_description' 'hcpcs_drug_indicator' 'line_srvc_cnt'\n",
      " 'bene_unique_cnt' 'bene_day_srvc_cnt' 'average_Medicare_allowed_amt'\n",
      " 'average_submitted_chrg_amt' 'average_Medicare_payment_amt'\n",
      " 'average_Medicare_standard_amt']\n"
     ]
    }
   ],
   "source": [
    "print(data2015.shape)\n",
    "print(data2015.columns.values)"
   ]
  },
  {
   "cell_type": "code",
   "execution_count": 13,
   "metadata": {},
   "outputs": [],
   "source": [
    "data2015=data2015[['npi', 'provider_type', 'nppes_provider_gender','hcpcs_code','line_srvc_cnt', 'bene_unique_cnt','bene_day_srvc_cnt', 'average_Medicare_allowed_amt', 'average_Medicare_payment_amt','average_submitted_chrg_amt','nppes_provider_city','nppes_provider_state']]\n",
    "data2015.columns=['npi', 'type','gender','hcpcs_c', 'line_srvc_cnt', 'bene_unique_cnt', 'bene_day_srvc_cnt','avg_allowed_amt','avg_payment_amt','avg_submitted_chrg_amt','city','state']"
   ]
  },
  {
   "cell_type": "code",
   "execution_count": 14,
   "metadata": {},
   "outputs": [],
   "source": [
    "#dump data set in pickle, \n",
    "#to avoid repeating same data processing\n",
    "raw15_pkl=open(\"df15_pickle\",\"wb\")\n",
    "pickle.dump(data2015,raw15_pkl)\n",
    "raw15_pkl.close()"
   ]
  },
  {
   "cell_type": "markdown",
   "metadata": {},
   "source": [
    "## 2014"
   ]
  },
  {
   "cell_type": "code",
   "execution_count": 15,
   "metadata": {},
   "outputs": [],
   "source": [
    "data2014=pd.read_table('Medicare_Provider_Util_Payment_PUF_CY2014.txt',low_memory=False)"
   ]
  },
  {
   "cell_type": "code",
   "execution_count": 16,
   "metadata": {},
   "outputs": [
    {
     "name": "stdout",
     "output_type": "stream",
     "text": [
      "(9316308, 26)\n",
      "['npi' 'nppes_provider_last_org_name' 'nppes_provider_first_name'\n",
      " 'nppes_provider_mi' 'nppes_credentials' 'nppes_provider_gender'\n",
      " 'nppes_entity_code' 'nppes_provider_street1' 'nppes_provider_street2'\n",
      " 'nppes_provider_city' 'nppes_provider_zip' 'nppes_provider_state'\n",
      " 'nppes_provider_country' 'provider_type'\n",
      " 'medicare_participation_indicator' 'place_of_service' 'hcpcs_code'\n",
      " 'hcpcs_description' 'hcpcs_drug_indicator' 'line_srvc_cnt'\n",
      " 'bene_unique_cnt' 'bene_day_srvc_cnt' 'average_Medicare_allowed_amt'\n",
      " 'average_submitted_chrg_amt' 'average_Medicare_payment_amt'\n",
      " 'average_Medicare_standard_amt']\n"
     ]
    }
   ],
   "source": [
    "print(data2014.shape)\n",
    "print(data2014.columns.values)"
   ]
  },
  {
   "cell_type": "code",
   "execution_count": 17,
   "metadata": {},
   "outputs": [],
   "source": [
    "data2014=data2014[['npi','provider_type','nppes_provider_gender','hcpcs_code', 'line_srvc_cnt','bene_unique_cnt', 'bene_day_srvc_cnt','average_Medicare_allowed_amt','average_Medicare_payment_amt','average_submitted_chrg_amt','nppes_provider_city', 'nppes_provider_state']]\n",
    "data2014.columns=['npi', 'type','gender','hcpcs_c', 'line_srvc_cnt', 'bene_unique_cnt', 'bene_day_srvc_cnt','avg_allowed_amt','avg_payment_amt','avg_submitted_chrg_amt','city','state']"
   ]
  },
  {
   "cell_type": "code",
   "execution_count": 18,
   "metadata": {},
   "outputs": [],
   "source": [
    "#dump data set in pickle, \n",
    "#to avoid repeating same data processing\n",
    "raw14_pkl=open(\"df14_pickle\",\"wb\")\n",
    "pickle.dump(data2014,raw14_pkl)\n",
    "raw14_pkl.close()"
   ]
  },
  {
   "cell_type": "markdown",
   "metadata": {},
   "source": [
    "## 2013"
   ]
  },
  {
   "cell_type": "code",
   "execution_count": 19,
   "metadata": {},
   "outputs": [],
   "source": [
    "data2013=pd.read_table('Medicare_Provider_Util_Payment_PUF_CY2013.txt',low_memory=False)"
   ]
  },
  {
   "cell_type": "code",
   "execution_count": 20,
   "metadata": {},
   "outputs": [
    {
     "name": "stdout",
     "output_type": "stream",
     "text": [
      "(9287877, 28)\n",
      "['NPI' 'NPPES_PROVIDER_LAST_ORG_NAME' 'NPPES_PROVIDER_FIRST_NAME'\n",
      " 'NPPES_PROVIDER_MI' 'NPPES_CREDENTIALS' 'NPPES_PROVIDER_GENDER'\n",
      " 'NPPES_ENTITY_CODE' 'NPPES_PROVIDER_STREET1' 'NPPES_PROVIDER_STREET2'\n",
      " 'NPPES_PROVIDER_CITY' 'NPPES_PROVIDER_ZIP' 'NPPES_PROVIDER_STATE'\n",
      " 'NPPES_PROVIDER_COUNTRY' 'PROVIDER_TYPE'\n",
      " 'MEDICARE_PARTICIPATION_INDICATOR' 'PLACE_OF_SERVICE' 'HCPCS_CODE'\n",
      " 'HCPCS_DESCRIPTION' 'HCPCS_DRUG_INDICATOR' 'LINE_SRVC_CNT'\n",
      " 'BENE_UNIQUE_CNT' 'BENE_DAY_SRVC_CNT' 'AVERAGE_MEDICARE_ALLOWED_AMT'\n",
      " 'STDEV_MEDICARE_ALLOWED_AMT' 'AVERAGE_SUBMITTED_CHRG_AMT'\n",
      " 'STDEV_SUBMITTED_CHRG_AMT' 'AVERAGE_MEDICARE_PAYMENT_AMT'\n",
      " 'STDEV_MEDICARE_PAYMENT_AMT']\n"
     ]
    }
   ],
   "source": [
    "print(data2013.shape)\n",
    "print(data2013.columns.values)"
   ]
  },
  {
   "cell_type": "code",
   "execution_count": 21,
   "metadata": {},
   "outputs": [],
   "source": [
    "data2013=data2013[['NPI','PROVIDER_TYPE','NPPES_PROVIDER_GENDER','HCPCS_CODE', 'LINE_SRVC_CNT','BENE_UNIQUE_CNT', 'BENE_DAY_SRVC_CNT', 'AVERAGE_SUBMITTED_CHRG_AMT', 'AVERAGE_MEDICARE_PAYMENT_AMT','AVERAGE_SUBMITTED_CHRG_AMT','NPPES_PROVIDER_CITY', 'NPPES_PROVIDER_STATE']]\n",
    "data2013.columns=['npi', 'type','gender','hcpcs_c', 'line_srvc_cnt', 'bene_unique_cnt', 'bene_day_srvc_cnt','avg_allowed_amt','avg_payment_amt','avg_submitted_chrg_amt','city','state']"
   ]
  },
  {
   "cell_type": "code",
   "execution_count": 22,
   "metadata": {},
   "outputs": [],
   "source": [
    "#dump data set in pickle, \n",
    "#to avoid repeating same data processing\n",
    "raw13_pkl=open(\"df13_pickle\",\"wb\")\n",
    "pickle.dump(data2013,raw13_pkl)\n",
    "raw13_pkl.close()"
   ]
  },
  {
   "cell_type": "markdown",
   "metadata": {},
   "source": [
    "## 2012"
   ]
  },
  {
   "cell_type": "code",
   "execution_count": 23,
   "metadata": {},
   "outputs": [],
   "source": [
    "data2012=pd.read_table('Medicare_Provider_Util_Payment_PUF_CY2012.txt',low_memory=False)"
   ]
  },
  {
   "cell_type": "code",
   "execution_count": 24,
   "metadata": {},
   "outputs": [
    {
     "name": "stdout",
     "output_type": "stream",
     "text": [
      "(9153273, 28)\n",
      "['NPI' 'NPPES_PROVIDER_LAST_ORG_NAME' 'NPPES_PROVIDER_FIRST_NAME'\n",
      " 'NPPES_PROVIDER_MI' 'NPPES_CREDENTIALS' 'NPPES_PROVIDER_GENDER'\n",
      " 'NPPES_ENTITY_CODE' 'NPPES_PROVIDER_STREET1' 'NPPES_PROVIDER_STREET2'\n",
      " 'NPPES_PROVIDER_CITY' 'NPPES_PROVIDER_ZIP' 'NPPES_PROVIDER_STATE'\n",
      " 'NPPES_PROVIDER_COUNTRY' 'PROVIDER_TYPE'\n",
      " 'MEDICARE_PARTICIPATION_INDICATOR' 'PLACE_OF_SERVICE' 'HCPCS_CODE'\n",
      " 'HCPCS_DESCRIPTION' 'HCPCS_DRUG_INDICATOR' 'LINE_SRVC_CNT'\n",
      " 'BENE_UNIQUE_CNT' 'BENE_DAY_SRVC_CNT' 'AVERAGE_MEDICARE_ALLOWED_AMT'\n",
      " 'STDEV_MEDICARE_ALLOWED_AMT' 'AVERAGE_SUBMITTED_CHRG_AMT'\n",
      " 'STDEV_SUBMITTED_CHRG_AMT' 'AVERAGE_MEDICARE_PAYMENT_AMT'\n",
      " 'STDEV_MEDICARE_PAYMENT_AMT']\n"
     ]
    }
   ],
   "source": [
    "print(data2012.shape)\n",
    "print(data2012.columns.values)"
   ]
  },
  {
   "cell_type": "code",
   "execution_count": 25,
   "metadata": {},
   "outputs": [],
   "source": [
    "data2012=data2012[['NPI','PROVIDER_TYPE','NPPES_PROVIDER_GENDER','HCPCS_CODE','LINE_SRVC_CNT','BENE_UNIQUE_CNT','BENE_DAY_SRVC_CNT','AVERAGE_MEDICARE_ALLOWED_AMT','AVERAGE_MEDICARE_PAYMENT_AMT','AVERAGE_SUBMITTED_CHRG_AMT','NPPES_PROVIDER_CITY','NPPES_PROVIDER_STATE']]\n",
    "data2012.columns=['npi', 'type','gender','hcpcs_c', 'line_srvc_cnt', 'bene_unique_cnt', 'bene_day_srvc_cnt','avg_allowed_amt','avg_payment_amt','avg_submitted_chrg_amt','city','state']"
   ]
  },
  {
   "cell_type": "code",
   "execution_count": 26,
   "metadata": {},
   "outputs": [],
   "source": [
    "#dump data set in pickle, \n",
    "#to avoid repeating same data processing\n",
    "raw12_pkl=open(\"df12_pickle\",\"wb\")\n",
    "pickle.dump(data2012,raw12_pkl)\n",
    "raw12_pkl.close()"
   ]
  },
  {
   "cell_type": "markdown",
   "metadata": {},
   "source": []
  },
  {
   "cell_type": "markdown",
   "metadata": {},
   "source": []
  },
  {
   "cell_type": "markdown",
   "metadata": {},
   "source": [
    "## Step 3 : Find fraud data between 2012-2016 using LEIE-Fraude Data\n",
    "\n",
    "#### The following steps are to find the number of the fraud NPI which can be found by using LEIE mapping on CMS yearly data sets: \n",
    "\n",
    "-search CMS yearly data set, find the matched unique NPI from LEIE\n",
    "\n",
    "-dump fruad NPI in pickle/store in csv files\n",
    "\n",
    "-Total number of unique fraud NPI between 2012-2016\n",
    "\n",
    "-Total number of unique NPI between 2012-2016\n",
    "\n",
    "#### Reverse Method - To find new added Fraud NPI among 2012-2016\n",
    "\n",
    "-Find 2016 fraud NPI\n",
    "\n",
    "-Find 2015 Fraud NPI, then exclude 2016 fraud NPI \n",
    "\n",
    "-Find 2014 Fraud NPI, then exclude 2015 and 2016 fraud NPI\n",
    "\n",
    "... ...\n"
   ]
  },
  {
   "cell_type": "markdown",
   "metadata": {},
   "source": [
    "### 2016"
   ]
  },
  {
   "cell_type": "code",
   "execution_count": 27,
   "metadata": {},
   "outputs": [],
   "source": [
    "df16_pkl=open(\"df16_pickle\",\"rb\")\n",
    "data2016=pickle.load(df16_pkl)\n",
    "df16_pkl.close()"
   ]
  },
  {
   "cell_type": "code",
   "execution_count": 28,
   "metadata": {},
   "outputs": [
    {
     "data": {
      "text/plain": [
       "1000925"
      ]
     },
     "execution_count": 28,
     "metadata": {},
     "output_type": "execute_result"
    }
   ],
   "source": [
    "checklist2016=data2016['npi'].unique()\n",
    "len(checklist2016)"
   ]
  },
  {
   "cell_type": "code",
   "execution_count": 29,
   "metadata": {},
   "outputs": [
    {
     "data": {
      "text/plain": [
       "281"
      ]
     },
     "execution_count": 29,
     "metadata": {},
     "output_type": "execute_result"
    }
   ],
   "source": [
    "fraud_2016=find_fraud(checklist2016,fraud_list)\n",
    "len(fraud_2016)"
   ]
  },
  {
   "cell_type": "code",
   "execution_count": 30,
   "metadata": {},
   "outputs": [],
   "source": [
    "fraud_df16=pd.DataFrame(fraud_2016)\n",
    "fraud_df16.columns=['Fraud_id_16']\n",
    "\n",
    "fraud_df16_pkl=open(\"fraud_df16_pickle\",\"wb\")\n",
    "pickle.dump(fraud_df16,fraud_df16_pkl)\n",
    "fraud_df16_pkl.close()"
   ]
  },
  {
   "cell_type": "markdown",
   "metadata": {},
   "source": [
    "### 2015"
   ]
  },
  {
   "cell_type": "code",
   "execution_count": 31,
   "metadata": {},
   "outputs": [],
   "source": [
    "df15_pkl=open(\"df15_pickle\",\"rb\")\n",
    "data2015=pickle.load(df15_pkl)\n",
    "df15_pkl.close()"
   ]
  },
  {
   "cell_type": "code",
   "execution_count": 32,
   "metadata": {},
   "outputs": [
    {
     "data": {
      "text/plain": [
       "968418"
      ]
     },
     "execution_count": 32,
     "metadata": {},
     "output_type": "execute_result"
    }
   ],
   "source": [
    "checklist2015=data2015['npi'].unique()\n",
    "len(checklist2015)"
   ]
  },
  {
   "cell_type": "code",
   "execution_count": 33,
   "metadata": {},
   "outputs": [],
   "source": [
    "fraud_2015=find_fraud(checklist2015,fraud_list)\n",
    "#print(fraud_2015)"
   ]
  },
  {
   "cell_type": "code",
   "execution_count": 34,
   "metadata": {},
   "outputs": [
    {
     "data": {
      "text/plain": [
       "475"
      ]
     },
     "execution_count": 34,
     "metadata": {},
     "output_type": "execute_result"
    }
   ],
   "source": [
    "len(fraud_2015)"
   ]
  },
  {
   "cell_type": "code",
   "execution_count": 35,
   "metadata": {},
   "outputs": [],
   "source": [
    "fraud_df15=pd.DataFrame(fraud_2015)"
   ]
  },
  {
   "cell_type": "code",
   "execution_count": 36,
   "metadata": {},
   "outputs": [],
   "source": [
    "fraud_df15.columns=['Fraud_id_15']"
   ]
  },
  {
   "cell_type": "code",
   "execution_count": 37,
   "metadata": {},
   "outputs": [],
   "source": [
    "fraud_df15_pkl=open(\"fraud_df15_pickle\",\"wb\")\n",
    "pickle.dump(fraud_df15,fraud_df15_pkl)\n",
    "fraud_df15_pkl.close()"
   ]
  },
  {
   "cell_type": "code",
   "execution_count": 38,
   "metadata": {},
   "outputs": [
    {
     "name": "stdout",
     "output_type": "stream",
     "text": [
      "   Fraud_id_15\n",
      "0   1003042441\n",
      "1   1003811167\n",
      "2   1003817743\n",
      "3   1003822834\n",
      "4   1003859885\n"
     ]
    }
   ],
   "source": [
    "fraud_df15_pkl=open(\"fraud_df15_pickle\",\"rb\")\n",
    "fraud_df15=pickle.load(fraud_df15_pkl)\n",
    "print(fraud_df15.head(5))"
   ]
  },
  {
   "cell_type": "code",
   "execution_count": null,
   "metadata": {},
   "outputs": [],
   "source": []
  },
  {
   "cell_type": "markdown",
   "metadata": {},
   "source": []
  },
  {
   "cell_type": "markdown",
   "metadata": {},
   "source": [
    "### 2014"
   ]
  },
  {
   "cell_type": "code",
   "execution_count": 39,
   "metadata": {},
   "outputs": [],
   "source": [
    "df14_pkl=open(\"df14_pickle\",\"rb\")\n",
    "data2014=pickle.load(df14_pkl)\n",
    "df14_pkl.close()"
   ]
  },
  {
   "cell_type": "code",
   "execution_count": 40,
   "metadata": {},
   "outputs": [
    {
     "data": {
      "text/plain": [
       "938147"
      ]
     },
     "execution_count": 40,
     "metadata": {},
     "output_type": "execute_result"
    }
   ],
   "source": [
    "checklist2014=data2014['npi'].unique()\n",
    "len(checklist2014)"
   ]
  },
  {
   "cell_type": "code",
   "execution_count": 41,
   "metadata": {},
   "outputs": [],
   "source": [
    "fraud_2014=find_fraud(checklist2014,fraud_list)\n",
    "#print(fraud_2014)"
   ]
  },
  {
   "cell_type": "code",
   "execution_count": 42,
   "metadata": {},
   "outputs": [
    {
     "data": {
      "text/plain": [
       "696"
      ]
     },
     "execution_count": 42,
     "metadata": {},
     "output_type": "execute_result"
    }
   ],
   "source": [
    "len(fraud_2014)"
   ]
  },
  {
   "cell_type": "code",
   "execution_count": 43,
   "metadata": {},
   "outputs": [],
   "source": [
    "fraud_df14=pd.DataFrame(fraud_2014)"
   ]
  },
  {
   "cell_type": "code",
   "execution_count": 44,
   "metadata": {},
   "outputs": [],
   "source": [
    "fraud_df14.columns=['Fraud_id_14']"
   ]
  },
  {
   "cell_type": "code",
   "execution_count": 45,
   "metadata": {},
   "outputs": [],
   "source": [
    "fraud_df14_pkl=open(\"fraud_df14_pickle\",\"wb\")\n",
    "pickle.dump(fraud_df14,fraud_df14_pkl)\n",
    "fraud_df14_pkl.close()"
   ]
  },
  {
   "cell_type": "code",
   "execution_count": 46,
   "metadata": {},
   "outputs": [
    {
     "name": "stdout",
     "output_type": "stream",
     "text": [
      "   Fraud_id_14\n",
      "0   1003811167\n",
      "1   1003817743\n",
      "2   1003822834\n",
      "3   1003859885\n",
      "4   1003878711\n"
     ]
    }
   ],
   "source": [
    "fraud_df14_pkl=open(\"fraud_df14_pickle\",\"rb\")\n",
    "fraud_df14=pickle.load(fraud_df14_pkl)\n",
    "print(fraud_df14.head(5))"
   ]
  },
  {
   "cell_type": "markdown",
   "metadata": {},
   "source": [
    "### 2013"
   ]
  },
  {
   "cell_type": "code",
   "execution_count": 47,
   "metadata": {},
   "outputs": [],
   "source": [
    "df13_pkl=open(\"df13_pickle\",\"rb\")\n",
    "data2013=pickle.load(df13_pkl)\n",
    "df13_pkl.close()"
   ]
  },
  {
   "cell_type": "code",
   "execution_count": 48,
   "metadata": {},
   "outputs": [
    {
     "data": {
      "text/plain": [
       "909606"
      ]
     },
     "execution_count": 48,
     "metadata": {},
     "output_type": "execute_result"
    }
   ],
   "source": [
    "checklist2013=data2013['npi'].unique()\n",
    "len(checklist2013)"
   ]
  },
  {
   "cell_type": "code",
   "execution_count": 49,
   "metadata": {},
   "outputs": [
    {
     "name": "stdout",
     "output_type": "stream",
     "text": [
      "[1003042441, 1003809195, 1003811167, 1003817743, 1003822834, 1003854159, 1003859885, 1003878711, 1003886979, 1003892746, 1003902800, 1003904830, 1003972670, 1003999376, 1013009729, 1013056670, 1013059740, 1013063064, 1013087741, 1013093178, 1013095975, 1013097708, 1013957182, 1013999002, 1023000122, 1023004587, 1023006129, 1023079274, 1023094190, 1023119898, 1023166410, 1023208675, 1033126651, 1033136544, 1033145487, 1033206800, 1033261953, 1033295332, 1043213887, 1043215650, 1043217052, 1043219405, 1043238421, 1043257744, 1043312168, 1043369093, 1053303792, 1053354787, 1053357376, 1053360966, 1053372201, 1053393405, 1053417345, 1053450346, 1053458018, 1053486704, 1053499673, 1063417368, 1063436517, 1063452167, 1063477503, 1063482198, 1063486090, 1063499572, 1063501823, 1063526580, 1063537215, 1063562635, 1063575561, 1063583060, 1063611499, 1063696508, 1063851285, 1073511192, 1073524823, 1073589420, 1073808945, 1083614770, 1083654826, 1083667562, 1083681423, 1083726921, 1083763874, 1083803563, 1093726556, 1093755134, 1093779456, 1093805012, 1093814717, 1093851164, 1093877144, 1093892119, 1093927576, 1093969412, 1104809706, 1104834209, 1104860253, 1104891498, 1104898634, 1104909043, 1104913789, 1104924349, 1114072444, 1114106689, 1114922606, 1114932084, 1114955325, 1114972262, 1124000427, 1124016480, 1124055900, 1124057245, 1124064639, 1124080163, 1124088380, 1124089016, 1124097068, 1124192042, 1124244850, 1124296298, 1124356043, 1134139884, 1134213796, 1134228794, 1134280779, 1134285059, 1134286958, 1134401136, 1144201104, 1144202805, 1144214578, 1144228834, 1144306176, 1144330556, 1144392499, 1154316792, 1154337129, 1154349330, 1154362937, 1154363109, 1154391001, 1154413110, 1154471621, 1154484749, 1154490134, 1154498277, 1154502623, 1164414769, 1164436960, 1164443958, 1164451068, 1164458006, 1164459350, 1164515003, 1164598140, 1164636932, 1174500474, 1174506711, 1174543342, 1174545271, 1174550602, 1174561708, 1174571285, 1174576912, 1174589618, 1174603930, 1174693949, 1174706295, 1184616310, 1184623951, 1184644122, 1184654188, 1184658346, 1184659849, 1184668048, 1184710691, 1184727745, 1184785354, 1184786196, 1184937799, 1194044925, 1194702076, 1194745695, 1194801662, 1194869727, 1205000353, 1205008125, 1205023512, 1205078524, 1205806163, 1205813441, 1205814266, 1205818358, 1205824117, 1205840451, 1205874484, 1205890027, 1205922747, 1205954955, 1205963402, 1215020060, 1215053665, 1215081773, 1215145552, 1215917042, 1215941349, 1215951488, 1215963715, 1215973011, 1215999578, 1225011612, 1225022627, 1225029275, 1225067044, 1225082886, 1225111933, 1225129349, 1225144264, 1225145196, 1225188766, 1235133794, 1235135138, 1235138413, 1235182189, 1235186636, 1235200775, 1235211095, 1235215153, 1235308172, 1245210764, 1245212471, 1245227891, 1245231406, 1245246925, 1245253012, 1245264415, 1245279645, 1245285428, 1245298371, 1245317874, 1245337864, 1245350594, 1245390020, 1245425974, 1255306767, 1255308797, 1255309175, 1255312625, 1255336079, 1255339677, 1255376216, 1255378402, 1255378592, 1255397204, 1255421541, 1255452454, 1255463576, 1265468409, 1265469472, 1265531388, 1265551451, 1265784680, 1275502932, 1275534935, 1275559338, 1275587123, 1275588485, 1275588873, 1275649048, 1275721144, 1275737504, 1275746554, 1275748675, 1285608521, 1285613778, 1285614511, 1285630186, 1285651638, 1285673012, 1285676734, 1285712950, 1285757310, 1285784066, 1295705291, 1295722163, 1295731479, 1295744530, 1295774487, 1295776094, 1295809358, 1295824837, 1295836245, 1306830021, 1306831300, 1306853221, 1306867742, 1306895578, 1306906854, 1306919162, 1316005036, 1316008766, 1316066970, 1316151525, 1316256993, 1316906456, 1316935406, 1316939945, 1316947807, 1316984750, 1316993520, 1316993553, 1326044835, 1326093709, 1326105032, 1326151507, 1326187626, 1336107184, 1336186600, 1336187814, 1336203603, 1336220425, 1336246487, 1336248723, 1336457571, 1346207776, 1346224821, 1346224987, 1346237096, 1346239084, 1346241247, 1346274966, 1346324316, 1346345071, 1346438140, 1346442514, 1356324909, 1356333645, 1356339055, 1356354252, 1356411755, 1356450274, 1356454292, 1366428773, 1366450660, 1366474512, 1366482358, 1366509903, 1366514432, 1366531337, 1366533390, 1366534000, 1376546283, 1376548552, 1376550442, 1376596726, 1376620856, 1376629717, 1376697995, 1376698936, 1376724229, 1376737809, 1386609907, 1386631869, 1386649507, 1386670461, 1386695591, 1386736031, 1386758134, 1396070603, 1396721205, 1396736260, 1396744892, 1396799201, 1396825147, 1396846622, 1396906160, 1407062094, 1407813488, 1407814726, 1407824121, 1407835473, 1407837487, 1407867666, 1407923568, 1407929698, 1417008756, 1417060120, 1417065186, 1417096942, 1417931213, 1417938663, 1417959503, 1417967647, 1417989476, 1417989864, 1427000819, 1427029479, 1427029925, 1427034271, 1427053388, 1427071059, 1427081223, 1427090562, 1427097534, 1427098268, 1427158377, 1427163427, 1427202050, 1427361609, 1437110319, 1437132362, 1437149952, 1437177342, 1437217601, 1437226511, 1437450822, 1447202205, 1447243373, 1447258157, 1447292297, 1447337936, 1447390067, 1457343014, 1457356768, 1457485906, 1467435289, 1467435487, 1467447557, 1467474882, 1467493791, 1467519124, 1467526855, 1477524270, 1477537496, 1477546463, 1477571818, 1477596690, 1477606614, 1477645836, 1477859403, 1477874998, 1477885879, 1487605515, 1487629796, 1487765467, 1487889036, 1497702377, 1497712418, 1497722391, 1497732994, 1497737266, 1497743090, 1497745905, 1497749089, 1497757280, 1497778153, 1497779649, 1497797526, 1497812010, 1497843460, 1497864151, 1497878656, 1508055112, 1508125600, 1508827395, 1508837097, 1508863531, 1508871344, 1508907122, 1518028281, 1518031095, 1518176601, 1518908193, 1518909795, 1518909977, 1518927615, 1518937499, 1528007515, 1528008547, 1528051307, 1528052735, 1528082740, 1528086618, 1528087970, 1528088325, 1528093184, 1528111341, 1528123502, 1528137882, 1528152840, 1528158599, 1528171774, 1528284502, 1528390259, 1538200308, 1538237482, 1538265947, 1538321047, 1538359104, 1548250129, 1548278930, 1548300353, 1548310899, 1548339344, 1548376965, 1548401292, 1548427164, 1548486947, 1558315341, 1558315986, 1558342378, 1558347468, 1558356907, 1558364166, 1558366815, 1558379172, 1558405647, 1558448951, 1558478529, 1558479147, 1568400596, 1568405132, 1568410496, 1568476968, 1568478220, 1568494169, 1568546497, 1578503355, 1578510723, 1578524237, 1578549051, 1578551370, 1578599346, 1578605812, 1578615316, 1578616009, 1578644407, 1578666350, 1578679221, 1578697421, 1578754362, 1588616726, 1588659965, 1588675896, 1588692362, 1588694343, 1588697700, 1588775118, 1588783351, 1588798284, 1598097529, 1598701633, 1598713430, 1598714784, 1598718520, 1598735581, 1598743262, 1598781494, 1598896086, 1598985517, 1609071836, 1609808005, 1609815307, 1609829985, 1609861590, 1609909423, 1619085685, 1619117538, 1619162898, 1619168036, 1619169406, 1619930260, 1619941614, 1619995552, 1629085105, 1629136320, 1629150495, 1629153507, 1629217872, 1639124639, 1639164031, 1639169972, 1639173339, 1639175763, 1639177645, 1639196108, 1639202351, 1639246754, 1639268782, 1639275969, 1639363161, 1639395395, 1649207853, 1649317298, 1649331646, 1649401548, 1659320281, 1659324747, 1659341543, 1659355840, 1659399897, 1659434108, 1659445690, 1659495216, 1659510972, 1659555621, 1659703734, 1669403457, 1669409298, 1669412243, 1669414397, 1669422523, 1669454146, 1669460432, 1669468047, 1669513701, 1669518510, 1669640777, 1679546972, 1679565204, 1679569107, 1679606560, 1679639397, 1679663009, 1679749188, 1689605818, 1689610016, 1689617482, 1689641458, 1689645608, 1689742397, 1689756827, 1689774010, 1689784399, 1689810723, 1689837452, 1689986945, 1699717843, 1699748228, 1699757971, 1699806760, 1699839365, 1700801610, 1700808672, 1700907771, 1700945946, 1700981917, 1700981925, 1710065958, 1710089925, 1710178363, 1710909148, 1710928239, 1710948997, 1720003882, 1720023005, 1720060460, 1720098577, 1720101900, 1720156839, 1720159916, 1720178148, 1720209521, 1730160193, 1730210428, 1730231259, 1730257775, 1730264854, 1730278011, 1730280124, 1730282195, 1730291261, 1740209105, 1740280957, 1740290253, 1740330398, 1740340264, 1740372358, 1740380997, 1740587872, 1750320412, 1750435103, 1750472825, 1750488292, 1760484786, 1760541312, 1760544886, 1760557318, 1760558548, 1760576755, 1760587398, 1760655468, 1760675623, 1770505729, 1770534745, 1770542151, 1770551665, 1770553521, 1770574493, 1770656506, 1770667677, 1770677072, 1770769507, 1770784852, 1780666198, 1780708594, 1780737957, 1790709913, 1790719508, 1790764207, 1790785277, 1790788750, 1790925857, 1801085972, 1801827647, 1801846597, 1801846712, 1801852488, 1801901814, 1801908173, 1801999800, 1811070006, 1811960974, 1811962251, 1811966120, 1811984594, 1821000704, 1821006396, 1821022955, 1821037094, 1821037508, 1821097130, 1831121979, 1831122662, 1831145929, 1831149087, 1831151356, 1831202126, 1831284470, 1831297266, 1831339902, 1831440122, 1841206307, 1841207255, 1841218799, 1841248234, 1841268026, 1841303310, 1841305562, 1841322104, 1841393097, 1841493707, 1841505153, 1851329429, 1851338248, 1851374664, 1851396154, 1851408041, 1851450613, 1851451819, 1851473334, 1851557300, 1851602874, 1861487308, 1861493009, 1861509101, 1861599813, 1871521476, 1871522540, 1871523852, 1871570358, 1871571406, 1871584656, 1871586933, 1871596098, 1871597310, 1871627323, 1871663740, 1871676254, 1871702613, 1871786590, 1881614352, 1881615268, 1881622090, 1881627222, 1881660959, 1881664829, 1881678548, 1881693109, 1881703726, 1881736346, 1881746501, 1881782373, 1881843431, 1891703997, 1891719621, 1891722237, 1891732442, 1891743654, 1891748547, 1891752564, 1891772786, 1891780425, 1891781852, 1891793147, 1891803318, 1891807194, 1891868501, 1891879003, 1891914545, 1902090194, 1902186539, 1902815087, 1902829112, 1902833981, 1902845480, 1902863087, 1902866619, 1902868409, 1902874456, 1902876659, 1902895543, 1902916984, 1902964331, 1912032780, 1912063900, 1912069394, 1912110636, 1912932815, 1912939760, 1912951716, 1912963174, 1912993460, 1922005321, 1922015619, 1922022623, 1922032770, 1922058767, 1922068733, 1922103258, 1932108701, 1932147410, 1932244753, 1932260064, 1932281896, 1932282845, 1932312691, 1942202841, 1942249883, 1942261722, 1942265061, 1942288006, 1942290598, 1942320635, 1942373923, 1942406830, 1942458559, 1942525761, 1952308900, 1952340473, 1952357303, 1952364481, 1952392177, 1952395881, 1952433963, 1952455941, 1952477622, 1952493678, 1952505760, 1962409615, 1962421198, 1962432591, 1962443739, 1962448464, 1962461640, 1962511915, 1962539619, 1972523405, 1972533651, 1972543247, 1972554228, 1972562148, 1972565448, 1972592947, 1972607398, 1972614451, 1972687754, 1972694677, 1972839447, 1982601704, 1982602686, 1982609723, 1982637856, 1982646089, 1982661385, 1982714796, 1982753653, 1982779799, 1982781506, 1982881587, 1992034250, 1992701544, 1992763510, 1992784698, 1992798086, 1992851836]\n"
     ]
    }
   ],
   "source": [
    "fraud_2013=find_fraud(checklist2013,fraud_list)\n",
    "#print(fraud_2013)"
   ]
  },
  {
   "cell_type": "code",
   "execution_count": 50,
   "metadata": {},
   "outputs": [
    {
     "data": {
      "text/plain": [
       "906"
      ]
     },
     "execution_count": 50,
     "metadata": {},
     "output_type": "execute_result"
    }
   ],
   "source": [
    "len(fraud_2013)"
   ]
  },
  {
   "cell_type": "code",
   "execution_count": 51,
   "metadata": {},
   "outputs": [],
   "source": [
    "fraud_df13=pd.DataFrame(fraud_2013)"
   ]
  },
  {
   "cell_type": "code",
   "execution_count": 52,
   "metadata": {},
   "outputs": [],
   "source": [
    "fraud_df13.columns=['Fraud_id_13']"
   ]
  },
  {
   "cell_type": "code",
   "execution_count": 53,
   "metadata": {},
   "outputs": [],
   "source": [
    "fraud_df13_pkl=open(\"fraud_df13_pickle\",\"wb\")\n",
    "pickle.dump(fraud_df13,fraud_df13_pkl)\n",
    "fraud_df13_pkl.close()"
   ]
  },
  {
   "cell_type": "code",
   "execution_count": 54,
   "metadata": {},
   "outputs": [
    {
     "name": "stdout",
     "output_type": "stream",
     "text": [
      "   Fraud_id_13\n",
      "0   1003042441\n",
      "1   1003809195\n",
      "2   1003811167\n",
      "3   1003817743\n",
      "4   1003822834\n"
     ]
    }
   ],
   "source": [
    "#fraud_df13_pkl=open(\"fraud_df13_pickle\",\"rb\")\n",
    "#fraud_df13=pickle.load(fraud_df13_pkl)\n",
    "print(fraud_df13.head(5))"
   ]
  },
  {
   "cell_type": "markdown",
   "metadata": {},
   "source": [
    "### 2012"
   ]
  },
  {
   "cell_type": "code",
   "execution_count": 55,
   "metadata": {},
   "outputs": [],
   "source": [
    "df12_pkl=open(\"df12_pickle\",\"rb\")\n",
    "data2012=pickle.load(df12_pkl)\n",
    "df12_pkl.close()"
   ]
  },
  {
   "cell_type": "code",
   "execution_count": 57,
   "metadata": {},
   "outputs": [
    {
     "data": {
      "text/plain": [
       "880645"
      ]
     },
     "execution_count": 57,
     "metadata": {},
     "output_type": "execute_result"
    }
   ],
   "source": [
    "checklist2012=data2012['npi'].unique()\n",
    "len(checklist2012)"
   ]
  },
  {
   "cell_type": "code",
   "execution_count": 58,
   "metadata": {},
   "outputs": [
    {
     "name": "stdout",
     "output_type": "stream",
     "text": [
      "[1003809195, 1003811167, 1003817743, 1003822834, 1003838087, 1003854159, 1003859885, 1003878711, 1003886979, 1003902800, 1003904830, 1003908799, 1003972670, 1003999376, 1013009000, 1013009729, 1013038629, 1013056670, 1013063064, 1013087741, 1013093178, 1013095975, 1013097708, 1013297258, 1013957182, 1013998640, 1013999002, 1023000122, 1023004587, 1023006129, 1023042512, 1023079274, 1023094190, 1023119898, 1023145232, 1023166410, 1023169257, 1023208675, 1023292604, 1033126651, 1033136544, 1033145487, 1033206800, 1033206966, 1033217492, 1033230446, 1033261953, 1033274964, 1033284930, 1033295332, 1033299920, 1043215650, 1043217052, 1043219405, 1043220262, 1043238421, 1043257744, 1043302250, 1043311145, 1043312168, 1043343569, 1043369093, 1043478498, 1053303792, 1053309195, 1053334524, 1053348714, 1053354787, 1053357376, 1053360966, 1053363796, 1053372201, 1053393405, 1053417345, 1053450346, 1053458018, 1053486704, 1053499673, 1063417368, 1063436517, 1063452167, 1063482198, 1063486090, 1063499572, 1063501823, 1063526580, 1063537215, 1063562635, 1063575561, 1063583060, 1063611499, 1063696508, 1073511192, 1073524823, 1073555389, 1073589420, 1073721205, 1073808945, 1083612493, 1083614770, 1083627897, 1083632699, 1083654826, 1083681423, 1083726921, 1083746069, 1083756639, 1083763874, 1083803563, 1093716193, 1093726556, 1093755134, 1093779456, 1093805012, 1093814717, 1093851164, 1093877144, 1093892119, 1093927576, 1093969412, 1104809706, 1104824200, 1104834209, 1104860253, 1104891498, 1104898634, 1104909043, 1104924349, 1104965706, 1114072444, 1114106689, 1114106853, 1114922606, 1114932084, 1114951407, 1114955325, 1114972262, 1124000427, 1124016480, 1124055900, 1124057245, 1124058086, 1124064639, 1124080163, 1124088380, 1124089016, 1124097068, 1124186465, 1124296298, 1124356043, 1134139884, 1134203698, 1134213580, 1134213796, 1134228794, 1134280779, 1134285059, 1134286958, 1134401136, 1144201104, 1144202805, 1144214578, 1144228834, 1144237744, 1144286915, 1144306176, 1144330556, 1144392499, 1144412412, 1144417395, 1144503418, 1144511700, 1154316792, 1154337129, 1154349330, 1154351500, 1154362937, 1154363109, 1154363786, 1154391001, 1154413110, 1154434439, 1154471621, 1154484749, 1154490134, 1154498277, 1154502623, 1164414769, 1164436960, 1164443958, 1164451068, 1164458006, 1164459350, 1164474797, 1164515003, 1164598140, 1164636932, 1164659249, 1174500474, 1174506711, 1174510549, 1174540801, 1174543342, 1174545271, 1174550602, 1174561708, 1174571285, 1174576912, 1174589618, 1174603930, 1174607782, 1174693949, 1174743603, 1184616310, 1184623951, 1184644080, 1184644122, 1184654188, 1184658346, 1184659849, 1184668048, 1184710691, 1184727745, 1184786196, 1184937799, 1194702076, 1194745695, 1194756395, 1194789214, 1194801662, 1194815266, 1194869727, 1194893198, 1194897298, 1194919936, 1205000353, 1205008125, 1205023512, 1205078524, 1205806163, 1205813441, 1205814266, 1205816642, 1205818358, 1205824117, 1205840451, 1205874484, 1205877222, 1205890027, 1205922747, 1205948577, 1205954955, 1205963402, 1215020060, 1215045869, 1215053665, 1215145552, 1215187406, 1215189378, 1215917042, 1215941349, 1215946751, 1215951488, 1215963715, 1215973011, 1215974886, 1215999578, 1225008253, 1225011612, 1225022627, 1225029275, 1225046915, 1225067044, 1225082886, 1225111933, 1225129349, 1225131550, 1225144264, 1225145196, 1225148562, 1225188766, 1235133794, 1235135138, 1235138413, 1235158403, 1235162223, 1235182189, 1235186636, 1235200775, 1235207523, 1235211095, 1235215153, 1235282088, 1235308172, 1245210764, 1245212471, 1245227891, 1245228568, 1245231406, 1245246925, 1245253012, 1245264415, 1245279645, 1245282532, 1245285428, 1245298371, 1245321272, 1245337864, 1245350594, 1245375567, 1245377787, 1245390020, 1245425974, 1245556497, 1255306767, 1255307856, 1255308797, 1255309175, 1255312625, 1255314779, 1255336079, 1255339677, 1255345492, 1255378402, 1255378592, 1255397204, 1255407482, 1255421541, 1255452454, 1255463576, 1255548400, 1265468409, 1265469472, 1265531388, 1265551451, 1275502932, 1275534935, 1275559338, 1275587123, 1275588485, 1275588873, 1275638520, 1275649048, 1275695975, 1275721144, 1275737504, 1275746554, 1275748675, 1285608521, 1285613778, 1285614511, 1285630186, 1285651638, 1285658609, 1285673012, 1285676734, 1285702829, 1285712950, 1285725051, 1285757310, 1285782599, 1285784066, 1285889782, 1295705291, 1295722163, 1295731479, 1295744530, 1295767671, 1295774487, 1295776094, 1295809358, 1295824837, 1295836245, 1295982189, 1306830021, 1306831300, 1306853221, 1306867742, 1306868245, 1306881107, 1306895578, 1306906854, 1306919162, 1306939061, 1316005036, 1316008766, 1316066970, 1316076821, 1316151525, 1316256993, 1316906456, 1316939945, 1316947807, 1316984750, 1316993520, 1316993553, 1326002445, 1326044835, 1326065913, 1326071499, 1326093709, 1326105032, 1326151507, 1326187626, 1336107184, 1336132786, 1336186600, 1336187814, 1336203603, 1336246487, 1336248723, 1336273150, 1336457571, 1346207776, 1346224821, 1346224987, 1346237096, 1346239084, 1346241247, 1346274966, 1346278090, 1346324316, 1346345071, 1346438140, 1346442514, 1356311591, 1356324909, 1356333645, 1356339055, 1356341911, 1356354252, 1356411755, 1356423784, 1356427298, 1356450274, 1356454292, 1366428773, 1366474512, 1366482358, 1366509903, 1366514432, 1366531337, 1366534000, 1376518779, 1376537977, 1376546283, 1376548552, 1376550442, 1376552117, 1376576066, 1376596726, 1376598730, 1376620856, 1376668079, 1376697995, 1376698936, 1376724229, 1376727644, 1376737809, 1386609907, 1386631869, 1386649507, 1386670461, 1386695591, 1386696300, 1386736031, 1386758134, 1396070603, 1396721205, 1396736260, 1396744892, 1396799201, 1396825147, 1396839064, 1396846622, 1396850517, 1407062094, 1407803091, 1407813488, 1407814726, 1407824121, 1407835473, 1407837487, 1407864879, 1407867666, 1407923568, 1407929698, 1417008756, 1417060120, 1417065186, 1417096942, 1417139692, 1417904491, 1417917816, 1417931213, 1417938663, 1417959503, 1417967647, 1417970195, 1417989476, 1417989864, 1427000819, 1427004233, 1427029479, 1427029925, 1427034271, 1427053388, 1427060375, 1427071059, 1427071737, 1427081223, 1427090562, 1427097534, 1427098268, 1427158377, 1427163427, 1427202050, 1427220573, 1427361609, 1437110319, 1437132362, 1437149952, 1437177342, 1437196375, 1437209988, 1437217601, 1437226511, 1437276128, 1437295896, 1447202205, 1447243373, 1447258157, 1447292297, 1447337936, 1447390067, 1457303380, 1457343014, 1457356768, 1457485906, 1457534984, 1467435289, 1467435487, 1467447557, 1467474882, 1467480236, 1467493791, 1467509406, 1467519124, 1467526855, 1477507739, 1477537496, 1477546463, 1477559037, 1477571818, 1477594935, 1477596690, 1477606614, 1477645836, 1477656361, 1477859403, 1477874998, 1477885879, 1487605515, 1487629796, 1487634069, 1487725909, 1487765467, 1497702377, 1497712418, 1497722391, 1497732994, 1497737266, 1497743090, 1497745905, 1497749089, 1497757280, 1497778153, 1497779649, 1497797526, 1497812010, 1497843460, 1497864151, 1497878656, 1497927636, 1508055112, 1508125600, 1508827395, 1508837097, 1508863531, 1508871344, 1508904798, 1508907122, 1508974759, 1518016252, 1518028281, 1518031095, 1518039783, 1518176601, 1518284413, 1518908193, 1518909795, 1518909977, 1518927615, 1518937499, 1518959766, 1528000668, 1528007515, 1528008547, 1528034378, 1528051307, 1528052735, 1528082740, 1528087970, 1528088325, 1528093184, 1528111341, 1528123502, 1528137882, 1528152840, 1528158599, 1528171774, 1528178977, 1528284502, 1528390259, 1538100599, 1538156138, 1538200308, 1538237482, 1538265947, 1538321047, 1538359104, 1548251788, 1548278930, 1548300353, 1548310899, 1548339344, 1548376965, 1548388820, 1548401292, 1548427164, 1548462674, 1548486947, 1558312884, 1558315341, 1558315986, 1558347468, 1558356907, 1558364166, 1558366815, 1558379172, 1558405647, 1558428821, 1558448951, 1558478529, 1558479147, 1568400596, 1568405132, 1568410496, 1568428449, 1568458198, 1568474567, 1568476968, 1568478220, 1568494169, 1568537355, 1568546497, 1578503355, 1578510723, 1578512935, 1578524237, 1578549051, 1578551370, 1578599346, 1578605614, 1578605812, 1578615316, 1578616009, 1578644407, 1578666350, 1578669859, 1578679221, 1578697421, 1578754362, 1588616726, 1588659965, 1588675896, 1588685895, 1588694343, 1588697700, 1588734081, 1588775118, 1588783351, 1588798284, 1598097529, 1598701633, 1598713430, 1598714784, 1598718520, 1598735581, 1598743262, 1598781494, 1598881146, 1598896086, 1598985517, 1609071836, 1609808005, 1609815307, 1609817774, 1609829985, 1609853316, 1609861590, 1609909423, 1609979749, 1619017985, 1619085685, 1619117538, 1619162898, 1619168036, 1619169406, 1619930260, 1619941614, 1619952561, 1619995420, 1619995552, 1619996220, 1629085105, 1629136320, 1629140447, 1629150495, 1629153507, 1629169958, 1629217872, 1639119019, 1639124639, 1639164031, 1639169972, 1639173339, 1639175763, 1639177645, 1639183676, 1639196108, 1639202351, 1639215577, 1639246754, 1639268782, 1639275969, 1639284060, 1639299738, 1639363161, 1639367725, 1639395395, 1649207853, 1649289794, 1649317298, 1649331646, 1659320281, 1659324747, 1659341543, 1659355840, 1659399897, 1659434108, 1659445690, 1659495216, 1659510972, 1659555621, 1659699049, 1669403457, 1669409298, 1669412243, 1669412946, 1669413142, 1669414397, 1669422028, 1669422523, 1669454146, 1669460432, 1669468047, 1669513701, 1669518510, 1669557294, 1669640777, 1669659421, 1679542914, 1679549513, 1679565204, 1679569107, 1679606560, 1679639397, 1679648836, 1679663009, 1679679096, 1679749188, 1679795181, 1689605818, 1689610016, 1689617482, 1689641458, 1689645608, 1689649212, 1689742397, 1689756827, 1689774010, 1689784399, 1689810723, 1689837452, 1689986945, 1699709873, 1699717843, 1699748228, 1699757971, 1699806760, 1699828210, 1699836783, 1699839365, 1699849885, 1699872721, 1700801610, 1700808391, 1700808672, 1700822350, 1700907771, 1700945946, 1700981917, 1700981925, 1710065958, 1710089925, 1710178363, 1710909148, 1710928239, 1710948997, 1720003882, 1720006919, 1720023005, 1720060460, 1720087372, 1720098577, 1720101900, 1720155419, 1720156839, 1720159916, 1720161839, 1720170921, 1720209521, 1720255144, 1720280183, 1730160193, 1730210428, 1730257775, 1730264854, 1730278011, 1730280124, 1730282195, 1730291261, 1730379983, 1740209105, 1740280957, 1740288836, 1740290253, 1740330398, 1740340264, 1740372358, 1740380997, 1740587872, 1750318770, 1750319604, 1750320412, 1750353249, 1750435103, 1750451613, 1750472825, 1750488292, 1760484786, 1760541312, 1760553580, 1760557318, 1760558548, 1760576755, 1760587398, 1760675623, 1770505729, 1770534745, 1770542151, 1770551665, 1770553521, 1770555724, 1770574493, 1770575821, 1770656506, 1770667677, 1770677072, 1770686354, 1770769507, 1770784852, 1780607978, 1780615252, 1780666198, 1780708594, 1780714667, 1780719690, 1780732412, 1780737957, 1780785907, 1790709913, 1790719508, 1790764207, 1790785277, 1790788750, 1790881605, 1790916393, 1790925857, 1801035084, 1801827647, 1801845615, 1801846597, 1801846712, 1801847413, 1801852488, 1801901814, 1801908173, 1801909338, 1801983085, 1801990916, 1801999800, 1811070006, 1811900228, 1811960974, 1811962251, 1811966120, 1811984594, 1821000704, 1821006396, 1821019308, 1821022955, 1821037094, 1821037508, 1821058694, 1821097130, 1821098054, 1831121979, 1831122662, 1831142991, 1831145929, 1831149087, 1831151356, 1831202126, 1831276880, 1831284470, 1831297266, 1831339902, 1831440122, 1841206307, 1841218799, 1841230166, 1841246105, 1841268026, 1841303310, 1841305562, 1841322104, 1841393097, 1841398955, 1841493707, 1841505153, 1851316830, 1851329429, 1851338248, 1851374664, 1851392138, 1851396154, 1851408041, 1851418271, 1851450613, 1851451819, 1851473334, 1851557300, 1851602874, 1861487308, 1861493009, 1861509101, 1861584195, 1861599813, 1871521476, 1871522540, 1871523852, 1871528117, 1871570358, 1871571406, 1871584656, 1871586933, 1871596098, 1871597310, 1871627323, 1871663740, 1871676254, 1871702613, 1871786590, 1881614352, 1881615268, 1881622090, 1881627222, 1881646446, 1881660959, 1881664829, 1881678548, 1881693109, 1881703726, 1881736346, 1881746501, 1881772861, 1881782373, 1881785293, 1881843431, 1891703997, 1891710513, 1891719621, 1891722237, 1891732442, 1891743654, 1891748547, 1891752564, 1891772786, 1891780425, 1891781852, 1891793147, 1891798153, 1891803318, 1891807194, 1891868501, 1891879003, 1891882437, 1891895462, 1891914545, 1902090194, 1902186539, 1902815087, 1902829112, 1902833981, 1902838790, 1902845480, 1902863087, 1902866619, 1902868409, 1902874456, 1902881279, 1902895543, 1902903826, 1902906092, 1902916984, 1902953326, 1902964331, 1912032780, 1912049388, 1912063900, 1912069394, 1912110636, 1912932815, 1912939760, 1912951716, 1912963174, 1912993460, 1922005321, 1922015619, 1922022623, 1922032770, 1922058767, 1922068733, 1922103258, 1922114040, 1922183318, 1932108701, 1932123916, 1932147410, 1932244753, 1932260064, 1932281896, 1932282845, 1932312691, 1942202841, 1942203880, 1942249883, 1942261722, 1942265061, 1942278098, 1942288006, 1942290598, 1942320635, 1942344395, 1942373923, 1942381439, 1942406830, 1942458559, 1942525761, 1952308900, 1952340473, 1952357303, 1952364481, 1952392177, 1952395881, 1952433963, 1952455941, 1952470924, 1952477622, 1952484248, 1952493678, 1962409615, 1962421198, 1962432591, 1962443739, 1962448464, 1962461640, 1962504753, 1962511915, 1962534909, 1962539619, 1972523405, 1972529345, 1972533651, 1972543247, 1972554228, 1972562148, 1972565448, 1972592947, 1972596807, 1972607398, 1972614451, 1972670693, 1972687754, 1972694677, 1972791820, 1972839447, 1982601704, 1982602686, 1982603890, 1982609723, 1982637856, 1982646089, 1982661385, 1982714796, 1982753653, 1982781506, 1982881587, 1992030050, 1992701544, 1992717250, 1992763510, 1992784698, 1992798086, 1992851836, 1992884936, 1992916076]\n"
     ]
    }
   ],
   "source": [
    "fraud_2012=find_fraud(checklist2012,fraud_list)\n",
    "print(fraud_2012)"
   ]
  },
  {
   "cell_type": "code",
   "execution_count": 59,
   "metadata": {},
   "outputs": [
    {
     "data": {
      "text/plain": [
       "1149"
      ]
     },
     "execution_count": 59,
     "metadata": {},
     "output_type": "execute_result"
    }
   ],
   "source": [
    "#The number of fraud NPIs found in 2012\n",
    "len(fraud_2012)"
   ]
  },
  {
   "cell_type": "code",
   "execution_count": 62,
   "metadata": {},
   "outputs": [],
   "source": [
    "fraud_df12=pd.DataFrame(fraud_2012)"
   ]
  },
  {
   "cell_type": "code",
   "execution_count": 63,
   "metadata": {},
   "outputs": [],
   "source": [
    "fraud_df12.columns=['Fraud_id_12']"
   ]
  },
  {
   "cell_type": "code",
   "execution_count": 64,
   "metadata": {},
   "outputs": [],
   "source": [
    "fraud_df12_pkl=open(\"fraud_df12_pickle\",\"wb\")\n",
    "pickle.dump(fraud_df12,fraud_df12_pkl)\n",
    "fraud_df12_pkl.close()"
   ]
  },
  {
   "cell_type": "code",
   "execution_count": 65,
   "metadata": {},
   "outputs": [
    {
     "name": "stdout",
     "output_type": "stream",
     "text": [
      "   Fraud_id_12\n",
      "0   1003809195\n",
      "1   1003811167\n",
      "2   1003817743\n",
      "3   1003822834\n",
      "4   1003838087\n"
     ]
    }
   ],
   "source": [
    "fraud_df12_pkl=open(\"fraud_df12_pickle\",\"rb\")\n",
    "#fraud_df12=pickle.load(fraud_df12_pkl)\n",
    "print(fraud_df12.head(5))"
   ]
  },
  {
   "cell_type": "code",
   "execution_count": null,
   "metadata": {},
   "outputs": [],
   "source": []
  },
  {
   "cell_type": "markdown",
   "metadata": {},
   "source": [
    "#### Total number of pysicians between 2012-2016"
   ]
  },
  {
   "cell_type": "code",
   "execution_count": 71,
   "metadata": {},
   "outputs": [],
   "source": [
    "checklist2012=pd.DataFrame(checklist2012)\n",
    "checklist2013=pd.DataFrame(checklist2013)\n",
    "checklist2014=pd.DataFrame(checklist2014)\n",
    "checklist2015=pd.DataFrame(checklist2015)\n",
    "checklist2016=pd.DataFrame(checklist2016)"
   ]
  },
  {
   "cell_type": "code",
   "execution_count": 72,
   "metadata": {},
   "outputs": [],
   "source": [
    "total_id=pd.concat([checklist2012, checklist2013], axis=0, ignore_index=True)\n",
    "total_id=pd.concat([total_id,checklist2014], axis=0, ignore_index=True)\n",
    "total_id=pd.concat([total_id, checklist2015], axis=0, ignore_index=True)\n",
    "total_id=pd.concat([total_id, checklist2016], axis=0, ignore_index=True)"
   ]
  },
  {
   "cell_type": "code",
   "execution_count": 73,
   "metadata": {},
   "outputs": [],
   "source": [
    "total_id.columns=['npi']"
   ]
  },
  {
   "cell_type": "code",
   "execution_count": 74,
   "metadata": {},
   "outputs": [],
   "source": [
    "total_unique=total_id['npi'].unique()"
   ]
  },
  {
   "cell_type": "code",
   "execution_count": 75,
   "metadata": {},
   "outputs": [
    {
     "data": {
      "text/plain": [
       "1208122"
      ]
     },
     "execution_count": 75,
     "metadata": {},
     "output_type": "execute_result"
    }
   ],
   "source": [
    "len(total_unique)"
   ]
  },
  {
   "cell_type": "markdown",
   "metadata": {},
   "source": [
    "### Find new added Fraud NPI among 2012-2016"
   ]
  },
  {
   "cell_type": "markdown",
   "metadata": {},
   "source": [
    "### 2015-2016"
   ]
  },
  {
   "cell_type": "code",
   "execution_count": null,
   "metadata": {},
   "outputs": [],
   "source": [
    "fraud_npi_1516=[i for i, j in zip(fraud_2015,fraud_2016 ) if i != j]\n",
    "len(fraud_npi_1516)"
   ]
  },
  {
   "cell_type": "code",
   "execution_count": null,
   "metadata": {},
   "outputs": [],
   "source": [
    "#check fraud_npi_1516 list \n",
    "fraud_npi_1516"
   ]
  },
  {
   "cell_type": "code",
   "execution_count": null,
   "metadata": {},
   "outputs": [],
   "source": [
    "#if NIP is not in fraud_2016 list, it means NPI provider has been detected by OIG in calendar year 2015\n",
    "if '1003042441' not in fraud_2016:\n",
    "     print(\"not extist\")"
   ]
  },
  {
   "cell_type": "markdown",
   "metadata": {},
   "source": [
    "### 2014-2015"
   ]
  },
  {
   "cell_type": "code",
   "execution_count": null,
   "metadata": {},
   "outputs": [],
   "source": [
    "temp=[i for i, j in zip(fraud_2014,fraud_2015 ) if i != j]\n",
    "fraud_npi_1415=[i for i, j in zip(temp,fraud_2016 ) if i != j]\n",
    "len(fraud_npi_1415)"
   ]
  },
  {
   "cell_type": "markdown",
   "metadata": {},
   "source": [
    "### 2013-2014"
   ]
  },
  {
   "cell_type": "code",
   "execution_count": null,
   "metadata": {},
   "outputs": [],
   "source": [
    "temp=[i for i, j in zip(fraud_2013,fraud_2014) if i != j]\n",
    "temp=[i for i, j in zip(temp,fraud_2015 ) if i != j]\n",
    "fraud_npi_1314=[i for i, j in zip(temp,fraud_2016 ) if i != j]\n",
    "len(fraud_npi_1314)"
   ]
  },
  {
   "cell_type": "markdown",
   "metadata": {},
   "source": [
    "### 2012-2013"
   ]
  },
  {
   "cell_type": "code",
   "execution_count": null,
   "metadata": {},
   "outputs": [],
   "source": [
    "temp=[i for i, j in zip(fraud_2012,fraud_2013) if i != j]\n",
    "temp=[i for i, j in zip(temp,fraud_2014) if i != j]\n",
    "temp=[i for i, j in zip(temp,fraud_2015 ) if i != j]i\n",
    "fraud_npi_1213=[i for i, j in zip(temp,fraud_2016 ) if  != j]\n",
    "len(fraud_npi_1213)"
   ]
  },
  {
   "cell_type": "code",
   "execution_count": null,
   "metadata": {},
   "outputs": [],
   "source": []
  },
  {
   "cell_type": "code",
   "execution_count": null,
   "metadata": {},
   "outputs": [],
   "source": []
  },
  {
   "cell_type": "markdown",
   "metadata": {},
   "source": [
    "## References:"
   ]
  },
  {
   "cell_type": "markdown",
   "metadata": {},
   "source": [
    "[Medicare Fee-For-Service Provider Utilization & Payment Data Physician and Other Supplier Public Use File: A Methodological Overview] last updated: May 3, 2018, The Centers of Medicare and Medicare Services, Office of Enterprise Data and Analytics https://www.cms.gov/Research-Statistics-Data-and-Systems/Statistics-Trends-and-Reports/Medicare-Provider-Charge-Data/Physician-and-Other-Supplier.html"
   ]
  },
  {
   "cell_type": "markdown",
   "metadata": {},
   "source": [
    "[Medicare Provider Utilization and Payment Data Physician and Other Supplier PUF: Frequently Asked Questions] last updated: May 4, 2018, The Centers of Medicare and Medicare Services, Office of Enterprise Data and Analytics https://www.cms.gov/Research-Statistics-Data-and-Systems/Statistics-Trends-and-Reports/Medicare-Provider-Charge-Data/Downloads/Physician_FAQ.pdf"
   ]
  },
  {
   "cell_type": "markdown",
   "metadata": {},
   "source": [
    "[List of Excluded Individuals/Entities (LEIE)] 02-2019 Updated LEIE Database, https://oig.hhs.gov/exclusions/exclusions_list.asp; "
   ]
  },
  {
   "cell_type": "markdown",
   "metadata": {},
   "source": [
    "[The Detection of Medicare Fraud Using Machine Learning Methods with Excluded Provider Labels] by Richard A. Bauder, Taghi M. Khoshgoftaar, College of Engineering & Computer Science, Florida Atlantic University (2018)"
   ]
  },
  {
   "cell_type": "markdown",
   "metadata": {},
   "source": []
  },
  {
   "cell_type": "code",
   "execution_count": null,
   "metadata": {},
   "outputs": [],
   "source": []
  },
  {
   "cell_type": "code",
   "execution_count": null,
   "metadata": {},
   "outputs": [],
   "source": []
  }
 ],
 "metadata": {
  "kernelspec": {
   "display_name": "Python 3",
   "language": "python",
   "name": "python3"
  },
  "language_info": {
   "codemirror_mode": {
    "name": "ipython",
    "version": 3
   },
   "file_extension": ".py",
   "mimetype": "text/x-python",
   "name": "python",
   "nbconvert_exporter": "python",
   "pygments_lexer": "ipython3",
   "version": "3.7.2"
  }
 },
 "nbformat": 4,
 "nbformat_minor": 2
}
