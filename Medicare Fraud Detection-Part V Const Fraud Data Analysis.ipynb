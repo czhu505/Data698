{
 "cells": [
  {
   "cell_type": "markdown",
   "metadata": {},
   "source": [
    "# Medicare Fraud Detection"
   ]
  },
  {
   "cell_type": "markdown",
   "metadata": {},
   "source": [
    "### Data 698: Data Science Research Project - Spring 2019"
   ]
  },
  {
   "cell_type": "markdown",
   "metadata": {},
   "source": [
    "### Student: Chunhui Zhu"
   ]
  },
  {
   "cell_type": "markdown",
   "metadata": {},
   "source": [
    "Medicare_Provider_Utilization_and_Payment_Data__Physician_and_Other_Supplier_PUF_CY2016.csv: https://data.cms.gov/Medicare-Physician-Supplier/Medicare-Provider-Utilization-and-Payment-Data-Phy/utc4-f9xp"
   ]
  },
  {
   "cell_type": "markdown",
   "metadata": {},
   "source": [
    "LEIE2019.csv: https://oig.hhs.gov/exclusions/exclusions_list.asp"
   ]
  },
  {
   "cell_type": "code",
   "execution_count": 1,
   "metadata": {},
   "outputs": [],
   "source": [
    "import pandas as pd\n",
    "import numpy as np\n",
    "import networkx as nx\n",
    "import matplotlib as plt\n",
    "import pickle\n",
    "\n",
    "import matplotlib.pyplot as plt\n",
    "from pandas import Series, DataFrame"
   ]
  },
  {
   "cell_type": "code",
   "execution_count": 2,
   "metadata": {},
   "outputs": [],
   "source": [
    "def loadfrauddata (year):\n",
    "    y=str(year)\n",
    "    fraud_pkl=open(\"fraud_\"+str(year)+\"_pickle\",\"rb\")\n",
    "    fraud_df=pickle.load(fraud_pkl)\n",
    "    print(\"The number of fraud_df found in \" + y +\" is \" + str(len(fraud_df)) + \".\")\n",
    "    fraud_pkl.close()\n",
    "    return (fraud_df)"
   ]
  },
  {
   "cell_type": "code",
   "execution_count": 3,
   "metadata": {},
   "outputs": [
    {
     "name": "stdout",
     "output_type": "stream",
     "text": [
      "The number of fraud_df found in 2016 is 2843.\n",
      "The number of fraud_df found in 2015 is 5110.\n",
      "The number of fraud_df found in 2014 is 7993.\n",
      "The number of fraud_df found in 2013 is 10817.\n",
      "The number of fraud_df found in 2012 is 13723.\n"
     ]
    }
   ],
   "source": [
    "df_fraud2016=loadfrauddata(2016)\n",
    "df_fraud2015=loadfrauddata(2015)\n",
    "df_fraud2014=loadfrauddata(2014)\n",
    "df_fraud2013=loadfrauddata(2013)\n",
    "df_fraud2012=loadfrauddata(2012)"
   ]
  },
  {
   "cell_type": "code",
   "execution_count": 4,
   "metadata": {},
   "outputs": [],
   "source": [
    "list2016=df_fraud2016.npi.unique().tolist()\n",
    "list2015=df_fraud2015.npi.unique().tolist()\n",
    "list2014=df_fraud2014.npi.unique().tolist()\n",
    "list2013=df_fraud2013.npi.unique().tolist()\n",
    "list2012=df_fraud2012.npi.unique().tolist()"
   ]
  },
  {
   "cell_type": "code",
   "execution_count": 5,
   "metadata": {},
   "outputs": [],
   "source": [
    "list_npi= list2016+list2015+list2014+list2013+list2012"
   ]
  },
  {
   "cell_type": "code",
   "execution_count": 6,
   "metadata": {},
   "outputs": [],
   "source": [
    "from collections import Counter\n",
    "l=Counter(list_npi)\n",
    "cont_list=dict((l, i) for l, i in l.items() if i == 5)"
   ]
  },
  {
   "cell_type": "code",
   "execution_count": 7,
   "metadata": {},
   "outputs": [
    {
     "data": {
      "text/plain": [
       "247"
      ]
     },
     "execution_count": 7,
     "metadata": {},
     "output_type": "execute_result"
    }
   ],
   "source": [
    "cont_fraud_list=cont_list.keys()\n",
    "len(cont_fraud_list)"
   ]
  },
  {
   "cell_type": "markdown",
   "metadata": {},
   "source": [
    "## Type by year"
   ]
  },
  {
   "cell_type": "code",
   "execution_count": 8,
   "metadata": {},
   "outputs": [
    {
     "data": {
      "text/plain": [
       "Internal Medicine                      605\n",
       "Family Practice                        333\n",
       "Podiatry                               222\n",
       "Clinical Laboratory                    222\n",
       "Neurology                              136\n",
       "Anesthesiology                         119\n",
       "Cardiovascular Disease (Cardiology)     92\n",
       "Interventional Pain Management          87\n",
       "Pain Management                         87\n",
       "Hematology-Oncology                     70\n",
       "Name: type, dtype: int64"
      ]
     },
     "execution_count": 8,
     "metadata": {},
     "output_type": "execute_result"
    }
   ],
   "source": [
    "df2016_fraud_cont=df_fraud2016[df_fraud2016['npi'].isin(cont_fraud_list)]\n",
    "df2016_fraud_cont.type.value_counts().head(10)"
   ]
  },
  {
   "cell_type": "code",
   "execution_count": 9,
   "metadata": {},
   "outputs": [
    {
     "data": {
      "text/plain": [
       "Internal Medicine                 841\n",
       "Family Practice                   504\n",
       "Podiatry                          265\n",
       "Clinical Laboratory               222\n",
       "Anesthesiology                    192\n",
       "Cardiology                        157\n",
       "Neurology                         157\n",
       "Interventional Pain Management    131\n",
       "Pain Management                    84\n",
       "Obstetrics/Gynecology              82\n",
       "Name: type, dtype: int64"
      ]
     },
     "execution_count": 9,
     "metadata": {},
     "output_type": "execute_result"
    }
   ],
   "source": [
    "df2015_fraud_cont=df_fraud2015[df_fraud2015['npi'].isin(cont_fraud_list)]\n",
    "df2015_fraud_cont.type.value_counts().head(10)"
   ]
  },
  {
   "cell_type": "code",
   "execution_count": 10,
   "metadata": {},
   "outputs": [
    {
     "data": {
      "text/plain": [
       "Internal Medicine                 911\n",
       "Family Practice                   568\n",
       "Podiatry                          331\n",
       "Clinical Laboratory               195\n",
       "Cardiology                        176\n",
       "Anesthesiology                    164\n",
       "Neurology                         163\n",
       "Pain Management                   106\n",
       "Interventional Pain Management    106\n",
       "Geriatric Medicine                 98\n",
       "Name: type, dtype: int64"
      ]
     },
     "execution_count": 10,
     "metadata": {},
     "output_type": "execute_result"
    }
   ],
   "source": [
    "df2014_fraud_cont=df_fraud2014[df_fraud2014['npi'].isin(cont_fraud_list)]\n",
    "df2014_fraud_cont.type.value_counts().head(10)"
   ]
  },
  {
   "cell_type": "code",
   "execution_count": 11,
   "metadata": {},
   "outputs": [
    {
     "data": {
      "text/plain": [
       "Internal Medicine                 1004\n",
       "Family Practice                    603\n",
       "Podiatry                           367\n",
       "Cardiology                         198\n",
       "Anesthesiology                     196\n",
       "Clinical Laboratory                190\n",
       "Neurology                          139\n",
       "Interventional Pain Management     137\n",
       "Pain Management                    111\n",
       "Geriatric Medicine                  86\n",
       "Name: type, dtype: int64"
      ]
     },
     "execution_count": 11,
     "metadata": {},
     "output_type": "execute_result"
    }
   ],
   "source": [
    "df2013_fraud_cont=df_fraud2013[df_fraud2013['npi'].isin(cont_fraud_list)]\n",
    "df2013_fraud_cont.type.value_counts().head(10)"
   ]
  },
  {
   "cell_type": "code",
   "execution_count": 12,
   "metadata": {},
   "outputs": [
    {
     "data": {
      "text/plain": [
       "Internal Medicine                 994\n",
       "Family Practice                   642\n",
       "Podiatry                          353\n",
       "Cardiology                        229\n",
       "Clinical Laboratory               212\n",
       "Anesthesiology                    172\n",
       "Neurology                         162\n",
       "Interventional Pain Management    122\n",
       "Geriatric Medicine                 98\n",
       "Pain Management                    89\n",
       "Name: type, dtype: int64"
      ]
     },
     "execution_count": 12,
     "metadata": {},
     "output_type": "execute_result"
    }
   ],
   "source": [
    "df2012_fraud_cont=df_fraud2012[df_fraud2012['npi'].isin(cont_fraud_list)]\n",
    "df2012_fraud_cont.type.value_counts().head(10)"
   ]
  },
  {
   "cell_type": "markdown",
   "metadata": {},
   "source": [
    "## State"
   ]
  },
  {
   "cell_type": "code",
   "execution_count": 13,
   "metadata": {},
   "outputs": [
    {
     "data": {
      "text/plain": [
       "TX    312\n",
       "NY    273\n",
       "NJ    220\n",
       "CA    202\n",
       "PA    188\n",
       "MI    172\n",
       "IL    110\n",
       "MD    102\n",
       "FL     95\n",
       "VA     85\n",
       "Name: state, dtype: int64"
      ]
     },
     "execution_count": 13,
     "metadata": {},
     "output_type": "execute_result"
    }
   ],
   "source": [
    "df2016_fraud_cont.state.value_counts().head(10)"
   ]
  },
  {
   "cell_type": "code",
   "execution_count": 14,
   "metadata": {},
   "outputs": [
    {
     "data": {
      "text/plain": [
       "TX    330\n",
       "NY    329\n",
       "CA    274\n",
       "MI    264\n",
       "PA    254\n",
       "NJ    237\n",
       "IL    188\n",
       "MD    133\n",
       "IN    132\n",
       "FL    131\n",
       "Name: state, dtype: int64"
      ]
     },
     "execution_count": 14,
     "metadata": {},
     "output_type": "execute_result"
    }
   ],
   "source": [
    "df2015_fraud_cont.state.value_counts().head(10)"
   ]
  },
  {
   "cell_type": "code",
   "execution_count": 15,
   "metadata": {},
   "outputs": [
    {
     "data": {
      "text/plain": [
       "NY    331\n",
       "TX    315\n",
       "MI    315\n",
       "CA    299\n",
       "PA    271\n",
       "NJ    225\n",
       "IL    211\n",
       "GA    178\n",
       "MD    142\n",
       "FL    140\n",
       "Name: state, dtype: int64"
      ]
     },
     "execution_count": 15,
     "metadata": {},
     "output_type": "execute_result"
    }
   ],
   "source": [
    "df2014_fraud_cont.state.value_counts().head(10)"
   ]
  },
  {
   "cell_type": "code",
   "execution_count": 16,
   "metadata": {},
   "outputs": [
    {
     "data": {
      "text/plain": [
       "MI    370\n",
       "NY    349\n",
       "TX    335\n",
       "CA    323\n",
       "PA    314\n",
       "NJ    247\n",
       "IL    241\n",
       "GA    172\n",
       "FL    162\n",
       "MD    126\n",
       "Name: state, dtype: int64"
      ]
     },
     "execution_count": 16,
     "metadata": {},
     "output_type": "execute_result"
    }
   ],
   "source": [
    "df2013_fraud_cont.state.value_counts().head(10)"
   ]
  },
  {
   "cell_type": "code",
   "execution_count": 17,
   "metadata": {},
   "outputs": [
    {
     "data": {
      "text/plain": [
       "MI    383\n",
       "NY    376\n",
       "TX    337\n",
       "CA    291\n",
       "PA    290\n",
       "IL    267\n",
       "NJ    253\n",
       "FL    162\n",
       "GA    160\n",
       "WI    131\n",
       "Name: state, dtype: int64"
      ]
     },
     "execution_count": 17,
     "metadata": {},
     "output_type": "execute_result"
    }
   ],
   "source": [
    "df2012_fraud_cont.state.value_counts().head(10)"
   ]
  },
  {
   "cell_type": "markdown",
   "metadata": {},
   "source": [
    "## City"
   ]
  },
  {
   "cell_type": "code",
   "execution_count": 18,
   "metadata": {},
   "outputs": [
    {
     "data": {
      "text/plain": [
       "WEBSTER          129\n",
       "DALLAS            80\n",
       "LAREDO            55\n",
       "PATERSON          51\n",
       "DAPHNE            48\n",
       "ALBANY            48\n",
       "OKLAHOMA CITY     44\n",
       "DETROIT           42\n",
       "HUNTINGTON        41\n",
       "CHEVERLY          37\n",
       "Name: city, dtype: int64"
      ]
     },
     "execution_count": 18,
     "metadata": {},
     "output_type": "execute_result"
    }
   ],
   "source": [
    "df2016_fraud_cont.city.value_counts().head(10)"
   ]
  },
  {
   "cell_type": "code",
   "execution_count": 19,
   "metadata": {},
   "outputs": [
    {
     "data": {
      "text/plain": [
       "WEBSTER       139\n",
       "DETROIT        64\n",
       "DALLAS         59\n",
       "LAREDO         58\n",
       "PATERSON       58\n",
       "HUNTINGTON     57\n",
       "ALTOONA        51\n",
       "CHICAGO        47\n",
       "DAPHNE         46\n",
       "ALBANY         44\n",
       "Name: city, dtype: int64"
      ]
     },
     "execution_count": 19,
     "metadata": {},
     "output_type": "execute_result"
    }
   ],
   "source": [
    "df2015_fraud_cont.city.value_counts().head(10)"
   ]
  },
  {
   "cell_type": "code",
   "execution_count": 20,
   "metadata": {},
   "outputs": [
    {
     "data": {
      "text/plain": [
       "WEBSTER       145\n",
       "CHICAGO        70\n",
       "DETROIT        63\n",
       "LAREDO         61\n",
       "HUNTINGTON     60\n",
       "PATERSON       54\n",
       "LILBURN        53\n",
       "HAVERTOWN      50\n",
       "DAPHNE         48\n",
       "ALBANY         45\n",
       "Name: city, dtype: int64"
      ]
     },
     "execution_count": 20,
     "metadata": {},
     "output_type": "execute_result"
    }
   ],
   "source": [
    "df2014_fraud_cont.city.value_counts().head(10)"
   ]
  },
  {
   "cell_type": "code",
   "execution_count": 21,
   "metadata": {},
   "outputs": [
    {
     "data": {
      "text/plain": [
       "WEBSTER       131\n",
       "LAREDO         73\n",
       "DETROIT        71\n",
       "CHICAGO        67\n",
       "ALBANY         65\n",
       "HOUSTON        56\n",
       "PATERSON       55\n",
       "COLUMBUS       53\n",
       "FLUSHING       53\n",
       "HUNTINGTON     51\n",
       "Name: city, dtype: int64"
      ]
     },
     "execution_count": 21,
     "metadata": {},
     "output_type": "execute_result"
    }
   ],
   "source": [
    "df2013_fraud_cont.city.value_counts().head(10)"
   ]
  },
  {
   "cell_type": "code",
   "execution_count": 22,
   "metadata": {},
   "outputs": [
    {
     "data": {
      "text/plain": [
       "WEBSTER     132\n",
       "CHICAGO      87\n",
       "HOUSTON      73\n",
       "ALBANY       71\n",
       "OSCEOLA      70\n",
       "FLUSHING     64\n",
       "DETROIT      62\n",
       "PATERSON     61\n",
       "LAREDO       59\n",
       "WESTLAND     53\n",
       "Name: city, dtype: int64"
      ]
     },
     "execution_count": 22,
     "metadata": {},
     "output_type": "execute_result"
    }
   ],
   "source": [
    "df2012_fraud_cont.city.value_counts().head(10)"
   ]
  },
  {
   "cell_type": "code",
   "execution_count": 23,
   "metadata": {},
   "outputs": [
    {
     "data": {
      "text/plain": [
       "Index(['npi', 'type', 'gender', 'hcpcs_c', 'line_srvc_cnt', 'bene_unique_cnt',\n",
       "       'bene_day_srvc_cnt', 'avg_allowed_amt', 'avg_payment_amt',\n",
       "       'avg_submitted_chrg_amt', 'city', 'state', 'Fraud'],\n",
       "      dtype='object')"
      ]
     },
     "execution_count": 23,
     "metadata": {},
     "output_type": "execute_result"
    }
   ],
   "source": [
    "df2015_fraud_cont.columns"
   ]
  },
  {
   "cell_type": "code",
   "execution_count": 25,
   "metadata": {},
   "outputs": [
    {
     "name": "stderr",
     "output_type": "stream",
     "text": [
      "C:\\Users\\czhu5\\Anaconda3\\lib\\site-packages\\ipykernel_launcher.py:4: FutureWarning: 'pandas.tools.plotting.scatter_matrix' is deprecated, import 'pandas.plotting.scatter_matrix' instead.\n",
      "  after removing the cwd from sys.path.\n"
     ]
    },
    {
     "data": {
      "text/plain": [
       "array([[<matplotlib.axes._subplots.AxesSubplot object at 0x000001D49B1DFCC0>,\n",
       "        <matplotlib.axes._subplots.AxesSubplot object at 0x000001D49BDA8CF8>,\n",
       "        <matplotlib.axes._subplots.AxesSubplot object at 0x000001D49BDBA128>,\n",
       "        <matplotlib.axes._subplots.AxesSubplot object at 0x000001D49BDDF668>,\n",
       "        <matplotlib.axes._subplots.AxesSubplot object at 0x000001D49BE05BE0>,\n",
       "        <matplotlib.axes._subplots.AxesSubplot object at 0x000001D49BE37198>],\n",
       "       [<matplotlib.axes._subplots.AxesSubplot object at 0x000001D49BE5E710>,\n",
       "        <matplotlib.axes._subplots.AxesSubplot object at 0x000001D49BE86CC0>,\n",
       "        <matplotlib.axes._subplots.AxesSubplot object at 0x000001D49BE86CF8>,\n",
       "        <matplotlib.axes._subplots.AxesSubplot object at 0x000001D49BEDE7B8>,\n",
       "        <matplotlib.axes._subplots.AxesSubplot object at 0x000001D49BF06D30>,\n",
       "        <matplotlib.axes._subplots.AxesSubplot object at 0x000001D49BF382E8>],\n",
       "       [<matplotlib.axes._subplots.AxesSubplot object at 0x000001D49BF5F860>,\n",
       "        <matplotlib.axes._subplots.AxesSubplot object at 0x000001D49BF86DD8>,\n",
       "        <matplotlib.axes._subplots.AxesSubplot object at 0x000001D49BFB9438>,\n",
       "        <matplotlib.axes._subplots.AxesSubplot object at 0x000001D49BFE08D0>,\n",
       "        <matplotlib.axes._subplots.AxesSubplot object at 0x000001D49C008E48>,\n",
       "        <matplotlib.axes._subplots.AxesSubplot object at 0x000001D49C039400>],\n",
       "       [<matplotlib.axes._subplots.AxesSubplot object at 0x000001D49C05F978>,\n",
       "        <matplotlib.axes._subplots.AxesSubplot object at 0x000001D49C088EF0>,\n",
       "        <matplotlib.axes._subplots.AxesSubplot object at 0x000001D49C0B94A8>,\n",
       "        <matplotlib.axes._subplots.AxesSubplot object at 0x000001D49C0E1A20>,\n",
       "        <matplotlib.axes._subplots.AxesSubplot object at 0x000001D49C10AF98>,\n",
       "        <matplotlib.axes._subplots.AxesSubplot object at 0x000001D49C13B550>],\n",
       "       [<matplotlib.axes._subplots.AxesSubplot object at 0x000001D49C162AC8>,\n",
       "        <matplotlib.axes._subplots.AxesSubplot object at 0x000001D49C193080>,\n",
       "        <matplotlib.axes._subplots.AxesSubplot object at 0x000001D49C1B85F8>,\n",
       "        <matplotlib.axes._subplots.AxesSubplot object at 0x000001D49C1E2B70>,\n",
       "        <matplotlib.axes._subplots.AxesSubplot object at 0x000001D49C213128>,\n",
       "        <matplotlib.axes._subplots.AxesSubplot object at 0x000001D49C2386A0>],\n",
       "       [<matplotlib.axes._subplots.AxesSubplot object at 0x000001D49C263C18>,\n",
       "        <matplotlib.axes._subplots.AxesSubplot object at 0x000001D49C2961D0>,\n",
       "        <matplotlib.axes._subplots.AxesSubplot object at 0x000001D49C2BC748>,\n",
       "        <matplotlib.axes._subplots.AxesSubplot object at 0x000001D49C2E4CC0>,\n",
       "        <matplotlib.axes._subplots.AxesSubplot object at 0x000001D49C317278>,\n",
       "        <matplotlib.axes._subplots.AxesSubplot object at 0x000001D49C33C7F0>]],\n",
       "      dtype=object)"
      ]
     },
     "execution_count": 25,
     "metadata": {},
     "output_type": "execute_result"
    },
    {
     "data": {
      "image/png": "[encoded data removed]",
      "text/plain": [
       "<Figure size 1440x720 with 36 Axes>"
      ]
     },
     "metadata": {
      "needs_background": "light"
     },
     "output_type": "display_data"
    }
   ],
   "source": [
    "from pandas.tools import plotting\n",
    "plotting.scatter_matrix(df2015_fraud_cont[['line_srvc_cnt', 'bene_unique_cnt',\n",
    "       'bene_day_srvc_cnt', 'avg_allowed_amt', 'avg_payment_amt',\n",
    "       'avg_submitted_chrg_amt',]],figsize=(20,10)) "
   ]
  },
  {
   "cell_type": "code",
   "execution_count": null,
   "metadata": {},
   "outputs": [],
   "source": []
  },
  {
   "cell_type": "markdown",
   "metadata": {},
   "source": [
    "## References:"
   ]
  },
  {
   "cell_type": "markdown",
   "metadata": {},
   "source": [
    "Variance Inflation Factor (VIF) Explained\n",
    "https://etav.github.io/python/vif_factor_python.html"
   ]
  },
  {
   "cell_type": "code",
   "execution_count": null,
   "metadata": {},
   "outputs": [],
   "source": []
  }
 ],
 "metadata": {
  "kernelspec": {
   "display_name": "Python 3",
   "language": "python",
   "name": "python3"
  },
  "language_info": {
   "codemirror_mode": {
    "name": "ipython",
    "version": 3
   },
   "file_extension": ".py",
   "mimetype": "text/x-python",
   "name": "python",
   "nbconvert_exporter": "python",
   "pygments_lexer": "ipython3",
   "version": "3.7.2"
  }
 },
 "nbformat": 4,
 "nbformat_minor": 2
}
